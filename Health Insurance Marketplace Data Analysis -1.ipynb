{
 "cells": [
  {
   "cell_type": "markdown",
   "metadata": {},
   "source": [
    "# Health Insurance Marketplace Data Analysis"
   ]
  },
  {
   "cell_type": "markdown",
   "metadata": {},
   "source": [
    "Health Insurance Marketplace Data Analysis.\n",
    "\n",
    "DataSet used: U.S. Department of Health and Human Services Data (https://www.kaggle.com/hhsgov/health-insurance-marketplace)\n",
    "\n",
    "The dataset consists of health insurance and dental plans offered through healthcare.gov between 2014 and 2016. \n",
    "It encompasses rates for smokers and non-smokers, separately listed for each age group, benefits included in the plans, states in which the plans were offered, and other information. \n",
    "Steps Followed in Analysis:\n",
    "1.Data cleaning from given raw data\n",
    "2.Analysis of the plan rates with respect to smokers and non-smokers, age groups and U.S. states.\n"
   ]
  },
  {
   "cell_type": "code",
   "execution_count": 1,
   "metadata": {
    "collapsed": true
   },
   "outputs": [],
   "source": [
    "import pandas as pd\n",
    "import seaborn as sns\n",
    "import numpy as np\n",
    "import matplotlib.pyplot as plt\n",
    "%matplotlib inline"
   ]
  },
  {
   "cell_type": "markdown",
   "metadata": {},
   "source": [
    "Import the CSV file containing the health dataset into Dataframe"
   ]
  },
  {
   "cell_type": "code",
   "execution_count": 2,
   "metadata": {
    "collapsed": true
   },
   "outputs": [],
   "source": [
    "df = pd.read_csv(\"Rate.csv\")\n",
    "pd.set_option('display.width', 5000) \n",
    "pd.set_option('display.max_columns', 200) \n",
    "\n",
    "# Plain Seaborn figures with matplotlib color codes mapped to the default seaborn palette \n",
    "sns.set(style=\"white\", color_codes=True)"
   ]
  },
  {
   "cell_type": "markdown",
   "metadata": {},
   "source": [
    "## Data Validations and further analysis"
   ]
  },
  {
   "cell_type": "markdown",
   "metadata": {},
   "source": [
    "Priting few of the rows and all columns from data csv file"
   ]
  },
  {
   "cell_type": "code",
   "execution_count": 3,
   "metadata": {
    "scrolled": true
   },
   "outputs": [
    {
     "data": {
      "text/html": [
       "<div>\n",
       "<style>\n",
       "    .dataframe thead tr:only-child th {\n",
       "        text-align: right;\n",
       "    }\n",
       "\n",
       "    .dataframe thead th {\n",
       "        text-align: left;\n",
       "    }\n",
       "\n",
       "    .dataframe tbody tr th {\n",
       "        vertical-align: top;\n",
       "    }\n",
       "</style>\n",
       "<table border=\"1\" class=\"dataframe\">\n",
       "  <thead>\n",
       "    <tr style=\"text-align: right;\">\n",
       "      <th></th>\n",
       "      <th>BusinessYear</th>\n",
       "      <th>StateCode</th>\n",
       "      <th>IssuerId</th>\n",
       "      <th>SourceName</th>\n",
       "      <th>VersionNum</th>\n",
       "      <th>ImportDate</th>\n",
       "      <th>IssuerId2</th>\n",
       "      <th>FederalTIN</th>\n",
       "      <th>RateEffectiveDate</th>\n",
       "      <th>RateExpirationDate</th>\n",
       "      <th>PlanId</th>\n",
       "      <th>RatingAreaId</th>\n",
       "      <th>Tobacco</th>\n",
       "      <th>Age</th>\n",
       "      <th>IndividualRate</th>\n",
       "      <th>IndividualTobaccoRate</th>\n",
       "      <th>Couple</th>\n",
       "      <th>PrimarySubscriberAndOneDependent</th>\n",
       "      <th>PrimarySubscriberAndTwoDependents</th>\n",
       "      <th>PrimarySubscriberAndThreeOrMoreDependents</th>\n",
       "      <th>CoupleAndOneDependent</th>\n",
       "      <th>CoupleAndTwoDependents</th>\n",
       "      <th>CoupleAndThreeOrMoreDependents</th>\n",
       "      <th>RowNumber</th>\n",
       "    </tr>\n",
       "  </thead>\n",
       "  <tbody>\n",
       "    <tr>\n",
       "      <th>0</th>\n",
       "      <td>2014</td>\n",
       "      <td>AK</td>\n",
       "      <td>21989</td>\n",
       "      <td>HIOS</td>\n",
       "      <td>6</td>\n",
       "      <td>2014-03-19 07:06:49</td>\n",
       "      <td>21989</td>\n",
       "      <td>93-0438772</td>\n",
       "      <td>2014-01-01</td>\n",
       "      <td>2014-12-31</td>\n",
       "      <td>21989AK0010001</td>\n",
       "      <td>Rating Area 1</td>\n",
       "      <td>No Preference</td>\n",
       "      <td>0-20</td>\n",
       "      <td>29.00</td>\n",
       "      <td>NaN</td>\n",
       "      <td>NaN</td>\n",
       "      <td>NaN</td>\n",
       "      <td>NaN</td>\n",
       "      <td>NaN</td>\n",
       "      <td>NaN</td>\n",
       "      <td>NaN</td>\n",
       "      <td>NaN</td>\n",
       "      <td>14</td>\n",
       "    </tr>\n",
       "    <tr>\n",
       "      <th>1</th>\n",
       "      <td>2014</td>\n",
       "      <td>AK</td>\n",
       "      <td>21989</td>\n",
       "      <td>HIOS</td>\n",
       "      <td>6</td>\n",
       "      <td>2014-03-19 07:06:49</td>\n",
       "      <td>21989</td>\n",
       "      <td>93-0438772</td>\n",
       "      <td>2014-01-01</td>\n",
       "      <td>2014-12-31</td>\n",
       "      <td>21989AK0020001</td>\n",
       "      <td>Rating Area 1</td>\n",
       "      <td>No Preference</td>\n",
       "      <td>Family Option</td>\n",
       "      <td>36.95</td>\n",
       "      <td>NaN</td>\n",
       "      <td>73.9</td>\n",
       "      <td>107.61</td>\n",
       "      <td>107.61</td>\n",
       "      <td>107.61</td>\n",
       "      <td>144.56</td>\n",
       "      <td>144.56</td>\n",
       "      <td>144.56</td>\n",
       "      <td>14</td>\n",
       "    </tr>\n",
       "    <tr>\n",
       "      <th>2</th>\n",
       "      <td>2014</td>\n",
       "      <td>AK</td>\n",
       "      <td>21989</td>\n",
       "      <td>HIOS</td>\n",
       "      <td>6</td>\n",
       "      <td>2014-03-19 07:06:49</td>\n",
       "      <td>21989</td>\n",
       "      <td>93-0438772</td>\n",
       "      <td>2014-01-01</td>\n",
       "      <td>2014-12-31</td>\n",
       "      <td>21989AK0020001</td>\n",
       "      <td>Rating Area 2</td>\n",
       "      <td>No Preference</td>\n",
       "      <td>Family Option</td>\n",
       "      <td>36.95</td>\n",
       "      <td>NaN</td>\n",
       "      <td>73.9</td>\n",
       "      <td>107.61</td>\n",
       "      <td>107.61</td>\n",
       "      <td>107.61</td>\n",
       "      <td>144.56</td>\n",
       "      <td>144.56</td>\n",
       "      <td>144.56</td>\n",
       "      <td>15</td>\n",
       "    </tr>\n",
       "    <tr>\n",
       "      <th>3</th>\n",
       "      <td>2014</td>\n",
       "      <td>AK</td>\n",
       "      <td>21989</td>\n",
       "      <td>HIOS</td>\n",
       "      <td>6</td>\n",
       "      <td>2014-03-19 07:06:49</td>\n",
       "      <td>21989</td>\n",
       "      <td>93-0438772</td>\n",
       "      <td>2014-01-01</td>\n",
       "      <td>2014-12-31</td>\n",
       "      <td>21989AK0010001</td>\n",
       "      <td>Rating Area 1</td>\n",
       "      <td>No Preference</td>\n",
       "      <td>21</td>\n",
       "      <td>32.00</td>\n",
       "      <td>NaN</td>\n",
       "      <td>NaN</td>\n",
       "      <td>NaN</td>\n",
       "      <td>NaN</td>\n",
       "      <td>NaN</td>\n",
       "      <td>NaN</td>\n",
       "      <td>NaN</td>\n",
       "      <td>NaN</td>\n",
       "      <td>15</td>\n",
       "    </tr>\n",
       "    <tr>\n",
       "      <th>4</th>\n",
       "      <td>2014</td>\n",
       "      <td>AK</td>\n",
       "      <td>21989</td>\n",
       "      <td>HIOS</td>\n",
       "      <td>6</td>\n",
       "      <td>2014-03-19 07:06:49</td>\n",
       "      <td>21989</td>\n",
       "      <td>93-0438772</td>\n",
       "      <td>2014-01-01</td>\n",
       "      <td>2014-12-31</td>\n",
       "      <td>21989AK0010001</td>\n",
       "      <td>Rating Area 1</td>\n",
       "      <td>No Preference</td>\n",
       "      <td>22</td>\n",
       "      <td>32.00</td>\n",
       "      <td>NaN</td>\n",
       "      <td>NaN</td>\n",
       "      <td>NaN</td>\n",
       "      <td>NaN</td>\n",
       "      <td>NaN</td>\n",
       "      <td>NaN</td>\n",
       "      <td>NaN</td>\n",
       "      <td>NaN</td>\n",
       "      <td>16</td>\n",
       "    </tr>\n",
       "  </tbody>\n",
       "</table>\n",
       "</div>"
      ],
      "text/plain": [
       "   BusinessYear StateCode  IssuerId SourceName  VersionNum           ImportDate  IssuerId2  FederalTIN RateEffectiveDate RateExpirationDate          PlanId   RatingAreaId        Tobacco            Age  IndividualRate  IndividualTobaccoRate  Couple  PrimarySubscriberAndOneDependent  PrimarySubscriberAndTwoDependents  PrimarySubscriberAndThreeOrMoreDependents  CoupleAndOneDependent  CoupleAndTwoDependents  CoupleAndThreeOrMoreDependents  RowNumber\n",
       "0          2014        AK     21989       HIOS           6  2014-03-19 07:06:49      21989  93-0438772        2014-01-01         2014-12-31  21989AK0010001  Rating Area 1  No Preference           0-20           29.00                    NaN     NaN                               NaN                                NaN                                        NaN                    NaN                     NaN                             NaN         14\n",
       "1          2014        AK     21989       HIOS           6  2014-03-19 07:06:49      21989  93-0438772        2014-01-01         2014-12-31  21989AK0020001  Rating Area 1  No Preference  Family Option           36.95                    NaN    73.9                            107.61                             107.61                                     107.61                 144.56                  144.56                          144.56         14\n",
       "2          2014        AK     21989       HIOS           6  2014-03-19 07:06:49      21989  93-0438772        2014-01-01         2014-12-31  21989AK0020001  Rating Area 2  No Preference  Family Option           36.95                    NaN    73.9                            107.61                             107.61                                     107.61                 144.56                  144.56                          144.56         15\n",
       "3          2014        AK     21989       HIOS           6  2014-03-19 07:06:49      21989  93-0438772        2014-01-01         2014-12-31  21989AK0010001  Rating Area 1  No Preference             21           32.00                    NaN     NaN                               NaN                                NaN                                        NaN                    NaN                     NaN                             NaN         15\n",
       "4          2014        AK     21989       HIOS           6  2014-03-19 07:06:49      21989  93-0438772        2014-01-01         2014-12-31  21989AK0010001  Rating Area 1  No Preference             22           32.00                    NaN     NaN                               NaN                                NaN                                        NaN                    NaN                     NaN                             NaN         16"
      ]
     },
     "execution_count": 3,
     "metadata": {},
     "output_type": "execute_result"
    }
   ],
   "source": [
    "df.head()"
   ]
  },
  {
   "cell_type": "markdown",
   "metadata": {},
   "source": [
    "From the complete data ,we are more interested in columns below after looking at the data.\n",
    "\n",
    "BusinessYear, StateCode, Age, PlanId, IndividualRate, IndividualTobaccoRate and all the family/couple rates. \n",
    "Data is further broke down into individual U.S. states:"
   ]
  },
  {
   "cell_type": "code",
   "execution_count": 7,
   "metadata": {
    "scrolled": false
   },
   "outputs": [
    {
     "data": {
      "text/plain": [
       "(39, 16808)"
      ]
     },
     "execution_count": 7,
     "metadata": {},
     "output_type": "execute_result"
    }
   ],
   "source": [
    "states = df[\"StateCode\"].value_counts()\n",
    "plans = df[\"PlanId\"].value_counts()\n",
    "states\n",
    "no_of_states = len(states)\n",
    "no_of_plans = len(plans)\n",
    "no_of_states, no_of_plans"
   ]
  },
  {
   "cell_type": "markdown",
   "metadata": {},
   "source": [
    "**Observations from above breakdown:**\n",
    "1.Number of states for which data is present: 39 states\n",
    "2.Number of health insurance plans: 16808 \n",
    "3.From the states data,is clear that not all states make use of the federal network healthcare.gov. \n",
    "as some states have their own health insurance marketplace eg: NY \n",
    "4.Some states offer significantly more plans than others. This may be due to the different sizes of the states\n",
    "and not all states have offered plans through healthcare.gov in for all  three years."
   ]
  },
  {
   "cell_type": "markdown",
   "metadata": {},
   "source": [
    "## Data cleaning -The most Important step before further analysis and plotting "
   ]
  },
  {
   "cell_type": "markdown",
   "metadata": {},
   "source": [
    "Clean-up step includes typos, non-sensical unique values, NaN' values.\n",
    "Identifying unique values in the columns that contain categories to see if there are any strange values:"
   ]
  },
  {
   "cell_type": "code",
   "execution_count": 7,
   "metadata": {
    "scrolled": true
   },
   "outputs": [
    {
     "data": {
      "text/plain": [
       "array(['0-20', 'Family Option', '21', '22', '23', '24', '25', '26', '27',\n",
       "       '28', '29', '30', '31', '32', '33', '34', '35', '36', '37', '38',\n",
       "       '39', '40', '41', '42', '43', '44', '45', '46', '47', '48', '49',\n",
       "       '50', '51', '52', '53', '54', '55', '56', '57', '58', '59', '60',\n",
       "       '61', '62', '63', '64', '65 and over'], dtype=object)"
      ]
     },
     "execution_count": 7,
     "metadata": {},
     "output_type": "execute_result"
    }
   ],
   "source": [
    "df['Age'].unique()  "
   ]
  },
  {
   "cell_type": "markdown",
   "metadata": {},
   "source": [
    "Plotting Histogram of Individual Rate if it looks good."
   ]
  },
  {
   "cell_type": "code",
   "execution_count": 8,
   "metadata": {
    "scrolled": false
   },
   "outputs": [
    {
     "data": {
      "text/plain": [
       "<matplotlib.axes._subplots.AxesSubplot at 0x21a286a69e8>"
      ]
     },
     "execution_count": 8,
     "metadata": {},
     "output_type": "execute_result"
    },
    {
     "data": {
      "image/png": "[encoded data removed]",
      "text/plain": [
       "<matplotlib.figure.Figure at 0x21a287369e8>"
      ]
     },
     "metadata": {},
     "output_type": "display_data"
    }
   ],
   "source": [
    "df['IndividualRate'].plot.hist()"
   ]
  },
  {
   "cell_type": "markdown",
   "metadata": {},
   "source": [
    "There is a problem with  individual rates. Sorting the values further using this column.Fixing the 0, 999999, etc, entries by specifying a list of NaN values before reading in the CSV file. We can also leave out some of the columns to save memory."
   ]
  },
  {
   "cell_type": "code",
   "execution_count": 8,
   "metadata": {
    "collapsed": true
   },
   "outputs": [],
   "source": [
    "df.sort_values(by='IndividualRate') \n",
    "na_values = ['NaN', 'N/A', '0', '0.01', '9999', '9999.99', '999999']\n",
    "df = pd.read_csv(\"Rate.csv\", na_values=na_values, usecols=['BusinessYear', 'StateCode', 'PlanId', 'RatingAreaId','Tobacco', 'Age', 'IndividualRate','IndividualTobaccoRate','Couple', 'PrimarySubscriberAndOneDependent', 'PrimarySubscriberAndTwoDependents', 'PrimarySubscriberAndThreeOrMoreDependents', 'CoupleAndOneDependent', 'CoupleAndTwoDependents', 'CoupleAndThreeOrMoreDependents'])"
   ]
  },
  {
   "cell_type": "markdown",
   "metadata": {},
   "source": [
    "Now we should get rid of duplicates within this reduced dataframe:"
   ]
  },
  {
   "cell_type": "code",
   "execution_count": 10,
   "metadata": {},
   "outputs": [
    {
     "data": {
      "text/plain": [
       "(12442241, 15)"
      ]
     },
     "execution_count": 10,
     "metadata": {},
     "output_type": "execute_result"
    }
   ],
   "source": [
    "df = df.drop_duplicates().reset_index(drop=True)\n",
    "df.shape"
   ]
  },
  {
   "cell_type": "markdown",
   "metadata": {},
   "source": [
    "Analysis: The raw dataset was quite clean already. Only about 250,000 rows in the dataframe contained (for our purposes) redundant data. \n",
    "\n",
    "For the further analysis,I  will focus on 15 of the 24 columns."
   ]
  },
  {
   "cell_type": "markdown",
   "metadata": {},
   "source": [
    "## More data cleaning based on a first in-depth look at the data with some basic plots"
   ]
  },
  {
   "cell_type": "markdown",
   "metadata": {},
   "source": [
    "The data covers three consecutive years. Let's see how the years compare."
   ]
  },
  {
   "cell_type": "code",
   "execution_count": 11,
   "metadata": {},
   "outputs": [
    {
     "data": {
      "text/plain": [
       "2015    4585265\n",
       "2016    4180939\n",
       "2014    3676037\n",
       "Name: BusinessYear, dtype: int64"
      ]
     },
     "execution_count": 11,
     "metadata": {},
     "output_type": "execute_result"
    }
   ],
   "source": [
    "df[\"BusinessYear\"].value_counts()"
   ]
  },
  {
   "cell_type": "markdown",
   "metadata": {},
   "source": [
    "The data seems to be more or less evenly distributed over the three years. Let's have a look at trends over the years."
   ]
  },
  {
   "cell_type": "code",
   "execution_count": 12,
   "metadata": {},
   "outputs": [
    {
     "data": {
      "text/plain": [
       "<matplotlib.axes._subplots.AxesSubplot at 0x16a35153b38>"
      ]
     },
     "execution_count": 12,
     "metadata": {},
     "output_type": "execute_result"
    },
    {
     "data": {
      "image/png": "[encoded data removed]",
      "text/plain": [
       "<matplotlib.figure.Figure at 0x16a30f74d68>"
      ]
     },
     "metadata": {},
     "output_type": "display_data"
    }
   ],
   "source": [
    "sns.boxplot(x=\"BusinessYear\", y=\"IndividualRate\", data=df)"
   ]
  },
  {
   "cell_type": "markdown",
   "metadata": {},
   "source": [
    "***Observation 1 *** : Looking at the end data in  2014,these outliers make the boxchart unreadable. Need to break it down by states to narrow down the outliers. "
   ]
  },
  {
   "cell_type": "code",
   "execution_count": 13,
   "metadata": {
    "collapsed": true
   },
   "outputs": [],
   "source": [
    "Statelist = df['StateCode'].unique()\n",
    "Statelist = np.sort(Statelist)"
   ]
  },
  {
   "cell_type": "markdown",
   "metadata": {},
   "source": [
    "Now with this sorted list of state names, drawing boxplot for all 34 states."
   ]
  },
  {
   "cell_type": "code",
   "execution_count": 23,
   "metadata": {
    "scrolled": false
   },
   "outputs": [
    {
     "data": {
      "text/plain": [
       "<matplotlib.axes._subplots.AxesSubplot at 0x21a2a581400>"
      ]
     },
     "execution_count": 23,
     "metadata": {},
     "output_type": "execute_result"
    },
    {
     "data": {
      "image/png": "[encoded data removed]",
      "text/plain": [
       "<matplotlib.figure.Figure at 0x21a29ea5c88>"
      ]
     },
     "metadata": {},
     "output_type": "display_data"
    }
   ],
   "source": [
    "plt.figure(figsize=(15, 6))\n",
    "sns.set_style(\"whitegrid\")\n",
    "sns.boxplot(x=\"StateCode\", y=\"IndividualRate\", data=df, order=Statelist)"
   ]
  },
  {
   "cell_type": "markdown",
   "metadata": {},
   "source": [
    "***Observation2 *** :  Virginia is the one state that's causing the outliers in the 2014 statistics. Taking look at VA in 2014 in more detail."
   ]
  },
  {
   "cell_type": "markdown",
   "metadata": {},
   "source": [
    "*** Analysing  the case of Virginia Further ***"
   ]
  },
  {
   "cell_type": "markdown",
   "metadata": {},
   "source": [
    "For the further exploration, spliting the dataframe into three separate dataframes."
   ]
  },
  {
   "cell_type": "code",
   "execution_count": 15,
   "metadata": {
    "collapsed": true
   },
   "outputs": [],
   "source": [
    "df2014 = df[df['BusinessYear'].isin([2014])].copy()\n",
    "df2015 = df[df['BusinessYear'].isin([2015])].copy()\n",
    "df2016 = df[df['BusinessYear'].isin([2016])].copy()"
   ]
  },
  {
   "cell_type": "code",
   "execution_count": 16,
   "metadata": {},
   "outputs": [
    {
     "data": {
      "text/html": [
       "<div>\n",
       "<style>\n",
       "    .dataframe thead tr:only-child th {\n",
       "        text-align: right;\n",
       "    }\n",
       "\n",
       "    .dataframe thead th {\n",
       "        text-align: left;\n",
       "    }\n",
       "\n",
       "    .dataframe tbody tr th {\n",
       "        vertical-align: top;\n",
       "    }\n",
       "</style>\n",
       "<table border=\"1\" class=\"dataframe\">\n",
       "  <thead>\n",
       "    <tr style=\"text-align: right;\">\n",
       "      <th></th>\n",
       "      <th>BusinessYear</th>\n",
       "      <th>IndividualRate</th>\n",
       "      <th>IndividualTobaccoRate</th>\n",
       "      <th>Couple</th>\n",
       "      <th>PrimarySubscriberAndOneDependent</th>\n",
       "      <th>PrimarySubscriberAndTwoDependents</th>\n",
       "      <th>PrimarySubscriberAndThreeOrMoreDependents</th>\n",
       "      <th>CoupleAndOneDependent</th>\n",
       "      <th>CoupleAndTwoDependents</th>\n",
       "      <th>CoupleAndThreeOrMoreDependents</th>\n",
       "    </tr>\n",
       "  </thead>\n",
       "  <tbody>\n",
       "    <tr>\n",
       "      <th>count</th>\n",
       "      <td>3676037.0</td>\n",
       "      <td>3.549143e+06</td>\n",
       "      <td>1.601995e+06</td>\n",
       "      <td>9078.000000</td>\n",
       "      <td>9078.000000</td>\n",
       "      <td>9078.000000</td>\n",
       "      <td>9078.000000</td>\n",
       "      <td>9078.000000</td>\n",
       "      <td>9078.000000</td>\n",
       "      <td>9078.000000</td>\n",
       "    </tr>\n",
       "    <tr>\n",
       "      <th>mean</th>\n",
       "      <td>2014.0</td>\n",
       "      <td>3.174200e+02</td>\n",
       "      <td>5.601592e+02</td>\n",
       "      <td>48.318870</td>\n",
       "      <td>48.799154</td>\n",
       "      <td>68.371658</td>\n",
       "      <td>92.581684</td>\n",
       "      <td>71.081461</td>\n",
       "      <td>90.425835</td>\n",
       "      <td>114.622133</td>\n",
       "    </tr>\n",
       "    <tr>\n",
       "      <th>std</th>\n",
       "      <td>0.0</td>\n",
       "      <td>2.876297e+02</td>\n",
       "      <td>3.345296e+02</td>\n",
       "      <td>19.841312</td>\n",
       "      <td>18.060111</td>\n",
       "      <td>29.339670</td>\n",
       "      <td>45.725490</td>\n",
       "      <td>30.832572</td>\n",
       "      <td>42.059903</td>\n",
       "      <td>58.095334</td>\n",
       "    </tr>\n",
       "    <tr>\n",
       "      <th>min</th>\n",
       "      <td>2014.0</td>\n",
       "      <td>6.000000e+00</td>\n",
       "      <td>5.566000e+01</td>\n",
       "      <td>10.000000</td>\n",
       "      <td>10.000000</td>\n",
       "      <td>22.000000</td>\n",
       "      <td>22.000000</td>\n",
       "      <td>22.000000</td>\n",
       "      <td>22.000000</td>\n",
       "      <td>22.000000</td>\n",
       "    </tr>\n",
       "    <tr>\n",
       "      <th>25%</th>\n",
       "      <td>2014.0</td>\n",
       "      <td>3.288000e+01</td>\n",
       "      <td>3.412000e+02</td>\n",
       "      <td>31.570000</td>\n",
       "      <td>33.590000</td>\n",
       "      <td>44.460000</td>\n",
       "      <td>53.670000</td>\n",
       "      <td>48.452500</td>\n",
       "      <td>61.860000</td>\n",
       "      <td>73.900000</td>\n",
       "    </tr>\n",
       "    <tr>\n",
       "      <th>50%</th>\n",
       "      <td>2014.0</td>\n",
       "      <td>2.937000e+02</td>\n",
       "      <td>4.759600e+02</td>\n",
       "      <td>46.355000</td>\n",
       "      <td>47.735000</td>\n",
       "      <td>69.485000</td>\n",
       "      <td>96.300000</td>\n",
       "      <td>71.330000</td>\n",
       "      <td>93.490000</td>\n",
       "      <td>119.640000</td>\n",
       "    </tr>\n",
       "    <tr>\n",
       "      <th>75%</th>\n",
       "      <td>2014.0</td>\n",
       "      <td>4.609400e+02</td>\n",
       "      <td>6.953100e+02</td>\n",
       "      <td>60.360000</td>\n",
       "      <td>60.360000</td>\n",
       "      <td>87.470000</td>\n",
       "      <td>121.387500</td>\n",
       "      <td>90.937500</td>\n",
       "      <td>117.405000</td>\n",
       "      <td>151.345000</td>\n",
       "    </tr>\n",
       "    <tr>\n",
       "      <th>max</th>\n",
       "      <td>2014.0</td>\n",
       "      <td>5.503850e+03</td>\n",
       "      <td>6.604610e+03</td>\n",
       "      <td>182.400000</td>\n",
       "      <td>169.650000</td>\n",
       "      <td>248.110000</td>\n",
       "      <td>357.940000</td>\n",
       "      <td>260.850000</td>\n",
       "      <td>339.310000</td>\n",
       "      <td>449.140000</td>\n",
       "    </tr>\n",
       "  </tbody>\n",
       "</table>\n",
       "</div>"
      ],
      "text/plain": [
       "       BusinessYear  IndividualRate  IndividualTobaccoRate       Couple  PrimarySubscriberAndOneDependent  PrimarySubscriberAndTwoDependents  PrimarySubscriberAndThreeOrMoreDependents  CoupleAndOneDependent  CoupleAndTwoDependents  CoupleAndThreeOrMoreDependents\n",
       "count     3676037.0    3.549143e+06           1.601995e+06  9078.000000                       9078.000000                        9078.000000                                9078.000000            9078.000000             9078.000000                     9078.000000\n",
       "mean         2014.0    3.174200e+02           5.601592e+02    48.318870                         48.799154                          68.371658                                  92.581684              71.081461               90.425835                      114.622133\n",
       "std             0.0    2.876297e+02           3.345296e+02    19.841312                         18.060111                          29.339670                                  45.725490              30.832572               42.059903                       58.095334\n",
       "min          2014.0    6.000000e+00           5.566000e+01    10.000000                         10.000000                          22.000000                                  22.000000              22.000000               22.000000                       22.000000\n",
       "25%          2014.0    3.288000e+01           3.412000e+02    31.570000                         33.590000                          44.460000                                  53.670000              48.452500               61.860000                       73.900000\n",
       "50%          2014.0    2.937000e+02           4.759600e+02    46.355000                         47.735000                          69.485000                                  96.300000              71.330000               93.490000                      119.640000\n",
       "75%          2014.0    4.609400e+02           6.953100e+02    60.360000                         60.360000                          87.470000                                 121.387500              90.937500              117.405000                      151.345000\n",
       "max          2014.0    5.503850e+03           6.604610e+03   182.400000                        169.650000                         248.110000                                 357.940000             260.850000              339.310000                      449.140000"
      ]
     },
     "execution_count": 16,
     "metadata": {},
     "output_type": "execute_result"
    }
   ],
   "source": [
    "df2014.describe()"
   ]
  },
  {
   "cell_type": "markdown",
   "metadata": {},
   "source": [
    "The 2014 data looks similar to the 2014-1016 dataset. But with just 1/3 of the rows it's much easier to handle."
   ]
  },
  {
   "cell_type": "code",
   "execution_count": 17,
   "metadata": {
    "scrolled": false
   },
   "outputs": [
    {
     "data": {
      "text/plain": [
       "<matplotlib.axes._subplots.AxesSubplot at 0x16a35512860>"
      ]
     },
     "execution_count": 17,
     "metadata": {},
     "output_type": "execute_result"
    },
    {
     "data": {
      "image/png": "[encoded data removed]",
      "text/plain": [
       "<matplotlib.figure.Figure at 0x16a35512198>"
      ]
     },
     "metadata": {},
     "output_type": "display_data"
    }
   ],
   "source": [
    "plt.figure(figsize=(15, 6))\n",
    "sns.set_style(\"whitegrid\")\n",
    "sns.boxplot(x=\"StateCode\", y=\"IndividualRate\", data=df2014, order=Statelist)"
   ]
  },
  {
   "cell_type": "markdown",
   "metadata": {},
   "source": [
    "I have created a separate Virginia 2014 dataframe to get more detailing of Virgina Case"
   ]
  },
  {
   "cell_type": "code",
   "execution_count": 18,
   "metadata": {
    "collapsed": true
   },
   "outputs": [],
   "source": [
    "df2014_va = df2014[df2014['StateCode'].isin(['VA'])].copy()"
   ]
  },
  {
   "cell_type": "code",
   "execution_count": 19,
   "metadata": {},
   "outputs": [
    {
     "data": {
      "text/plain": [
       "(119574, 15)"
      ]
     },
     "execution_count": 19,
     "metadata": {},
     "output_type": "execute_result"
    }
   ],
   "source": [
    "df2014_va.shape"
   ]
  },
  {
   "cell_type": "code",
   "execution_count": 20,
   "metadata": {
    "scrolled": true
   },
   "outputs": [
    {
     "data": {
      "text/html": [
       "<div>\n",
       "<style>\n",
       "    .dataframe thead tr:only-child th {\n",
       "        text-align: right;\n",
       "    }\n",
       "\n",
       "    .dataframe thead th {\n",
       "        text-align: left;\n",
       "    }\n",
       "\n",
       "    .dataframe tbody tr th {\n",
       "        vertical-align: top;\n",
       "    }\n",
       "</style>\n",
       "<table border=\"1\" class=\"dataframe\">\n",
       "  <thead>\n",
       "    <tr style=\"text-align: right;\">\n",
       "      <th></th>\n",
       "      <th>BusinessYear</th>\n",
       "      <th>IndividualRate</th>\n",
       "      <th>IndividualTobaccoRate</th>\n",
       "      <th>Couple</th>\n",
       "      <th>PrimarySubscriberAndOneDependent</th>\n",
       "      <th>PrimarySubscriberAndTwoDependents</th>\n",
       "      <th>PrimarySubscriberAndThreeOrMoreDependents</th>\n",
       "      <th>CoupleAndOneDependent</th>\n",
       "      <th>CoupleAndTwoDependents</th>\n",
       "      <th>CoupleAndThreeOrMoreDependents</th>\n",
       "    </tr>\n",
       "  </thead>\n",
       "  <tbody>\n",
       "    <tr>\n",
       "      <th>count</th>\n",
       "      <td>119574.0</td>\n",
       "      <td>115254.000000</td>\n",
       "      <td>61318.000000</td>\n",
       "      <td>270.000000</td>\n",
       "      <td>270.000000</td>\n",
       "      <td>270.000000</td>\n",
       "      <td>270.000000</td>\n",
       "      <td>270.000000</td>\n",
       "      <td>270.000000</td>\n",
       "      <td>270.000000</td>\n",
       "    </tr>\n",
       "    <tr>\n",
       "      <th>mean</th>\n",
       "      <td>2014.0</td>\n",
       "      <td>396.495291</td>\n",
       "      <td>768.124408</td>\n",
       "      <td>46.957630</td>\n",
       "      <td>48.706185</td>\n",
       "      <td>63.087185</td>\n",
       "      <td>79.605333</td>\n",
       "      <td>67.665704</td>\n",
       "      <td>82.046667</td>\n",
       "      <td>98.564593</td>\n",
       "    </tr>\n",
       "    <tr>\n",
       "      <th>std</th>\n",
       "      <td>0.0</td>\n",
       "      <td>613.186797</td>\n",
       "      <td>863.353308</td>\n",
       "      <td>17.501699</td>\n",
       "      <td>20.158233</td>\n",
       "      <td>28.306539</td>\n",
       "      <td>40.991590</td>\n",
       "      <td>34.949403</td>\n",
       "      <td>43.313799</td>\n",
       "      <td>55.020378</td>\n",
       "    </tr>\n",
       "    <tr>\n",
       "      <th>min</th>\n",
       "      <td>2014.0</td>\n",
       "      <td>10.010000</td>\n",
       "      <td>63.390000</td>\n",
       "      <td>25.350000</td>\n",
       "      <td>25.350000</td>\n",
       "      <td>25.350000</td>\n",
       "      <td>25.350000</td>\n",
       "      <td>25.350000</td>\n",
       "      <td>25.350000</td>\n",
       "      <td>25.350000</td>\n",
       "    </tr>\n",
       "    <tr>\n",
       "      <th>25%</th>\n",
       "      <td>2014.0</td>\n",
       "      <td>31.840000</td>\n",
       "      <td>335.602500</td>\n",
       "      <td>31.180000</td>\n",
       "      <td>31.180000</td>\n",
       "      <td>31.180000</td>\n",
       "      <td>31.180000</td>\n",
       "      <td>31.180000</td>\n",
       "      <td>31.180000</td>\n",
       "      <td>31.180000</td>\n",
       "    </tr>\n",
       "    <tr>\n",
       "      <th>50%</th>\n",
       "      <td>2014.0</td>\n",
       "      <td>256.845000</td>\n",
       "      <td>473.315000</td>\n",
       "      <td>47.760000</td>\n",
       "      <td>47.370000</td>\n",
       "      <td>70.100000</td>\n",
       "      <td>91.605000</td>\n",
       "      <td>71.315000</td>\n",
       "      <td>94.760000</td>\n",
       "      <td>117.590000</td>\n",
       "    </tr>\n",
       "    <tr>\n",
       "      <th>75%</th>\n",
       "      <td>2014.0</td>\n",
       "      <td>460.087500</td>\n",
       "      <td>768.180000</td>\n",
       "      <td>59.290000</td>\n",
       "      <td>60.895000</td>\n",
       "      <td>85.370000</td>\n",
       "      <td>111.625000</td>\n",
       "      <td>92.137500</td>\n",
       "      <td>117.012500</td>\n",
       "      <td>141.272500</td>\n",
       "    </tr>\n",
       "    <tr>\n",
       "      <th>max</th>\n",
       "      <td>2014.0</td>\n",
       "      <td>5503.850000</td>\n",
       "      <td>6604.610000</td>\n",
       "      <td>86.750000</td>\n",
       "      <td>107.170000</td>\n",
       "      <td>112.280000</td>\n",
       "      <td>149.040000</td>\n",
       "      <td>151.120000</td>\n",
       "      <td>151.120000</td>\n",
       "      <td>187.810000</td>\n",
       "    </tr>\n",
       "  </tbody>\n",
       "</table>\n",
       "</div>"
      ],
      "text/plain": [
       "       BusinessYear  IndividualRate  IndividualTobaccoRate      Couple  PrimarySubscriberAndOneDependent  PrimarySubscriberAndTwoDependents  PrimarySubscriberAndThreeOrMoreDependents  CoupleAndOneDependent  CoupleAndTwoDependents  CoupleAndThreeOrMoreDependents\n",
       "count      119574.0   115254.000000           61318.000000  270.000000                        270.000000                         270.000000                                 270.000000             270.000000              270.000000                      270.000000\n",
       "mean         2014.0      396.495291             768.124408   46.957630                         48.706185                          63.087185                                  79.605333              67.665704               82.046667                       98.564593\n",
       "std             0.0      613.186797             863.353308   17.501699                         20.158233                          28.306539                                  40.991590              34.949403               43.313799                       55.020378\n",
       "min          2014.0       10.010000              63.390000   25.350000                         25.350000                          25.350000                                  25.350000              25.350000               25.350000                       25.350000\n",
       "25%          2014.0       31.840000             335.602500   31.180000                         31.180000                          31.180000                                  31.180000              31.180000               31.180000                       31.180000\n",
       "50%          2014.0      256.845000             473.315000   47.760000                         47.370000                          70.100000                                  91.605000              71.315000               94.760000                      117.590000\n",
       "75%          2014.0      460.087500             768.180000   59.290000                         60.895000                          85.370000                                 111.625000              92.137500              117.012500                      141.272500\n",
       "max          2014.0     5503.850000            6604.610000   86.750000                        107.170000                         112.280000                                 149.040000             151.120000              151.120000                      187.810000"
      ]
     },
     "execution_count": 20,
     "metadata": {},
     "output_type": "execute_result"
    }
   ],
   "source": [
    "df2014_va.describe()"
   ]
  },
  {
   "cell_type": "markdown",
   "metadata": {},
   "source": [
    "Maybe the very high rates are for old individuals. I plot the plan costs by category 'Age' to see how prices compare across the individuals' ages. \n",
    "I have to exclude the \"Family Option\" rates first, since they are also a category of the 'Age' column."
   ]
  },
  {
   "cell_type": "code",
   "execution_count": 21,
   "metadata": {
    "scrolled": true
   },
   "outputs": [
    {
     "data": {
      "text/plain": [
       "(46,\n",
       " ['0-20',\n",
       "  '21',\n",
       "  '22',\n",
       "  '23',\n",
       "  '24',\n",
       "  '25',\n",
       "  '26',\n",
       "  '27',\n",
       "  '28',\n",
       "  '29',\n",
       "  '30',\n",
       "  '31',\n",
       "  '32',\n",
       "  '33',\n",
       "  '34',\n",
       "  '35',\n",
       "  '36',\n",
       "  '37',\n",
       "  '38',\n",
       "  '39',\n",
       "  '40',\n",
       "  '41',\n",
       "  '42',\n",
       "  '43',\n",
       "  '44',\n",
       "  '45',\n",
       "  '46',\n",
       "  '47',\n",
       "  '48',\n",
       "  '49',\n",
       "  '50',\n",
       "  '51',\n",
       "  '52',\n",
       "  '53',\n",
       "  '54',\n",
       "  '55',\n",
       "  '56',\n",
       "  '57',\n",
       "  '58',\n",
       "  '59',\n",
       "  '60',\n",
       "  '61',\n",
       "  '62',\n",
       "  '63',\n",
       "  '64',\n",
       "  '65+'])"
      ]
     },
     "execution_count": 21,
     "metadata": {},
     "output_type": "execute_result"
    }
   ],
   "source": [
    "exclude_list = df2014_va['Age'].isin(['Family Option'])\n",
    "df2014_va_wofamily = df2014_va[~exclude_list]\n",
    "age_labels = df2014_va_wofamily['Age'].unique()\n",
    "age_labels = ['65+' if x=='65 and over' else x for x in age_labels]  #replace label '65 and over' with '65+' for plot labels\n",
    "len(age_labels), age_labels"
   ]
  },
  {
   "cell_type": "markdown",
   "metadata": {},
   "source": [
    "Creating  boxplot for each age group."
   ]
  },
  {
   "cell_type": "code",
   "execution_count": 22,
   "metadata": {
    "scrolled": false
   },
   "outputs": [
    {
     "data": {
      "image/png": "[encoded data removed]",
      "text/plain": [
       "<matplotlib.figure.Figure at 0x16a35c70c18>"
      ]
     },
     "metadata": {},
     "output_type": "display_data"
    }
   ],
   "source": [
    "fig = plt.figure(figsize=(15, 6))\n",
    "sns.set_style(\"whitegrid\")\n",
    "\n",
    "fig.suptitle('Rates offered through Healthcare.gov in 2014 in Virginia', fontsize=14)\n",
    "\n",
    "ax = sns.boxplot(x=\"Age\", y=\"IndividualRate\", data=df2014_va_wofamily, linewidth=1.0, fliersize=2.0)\n",
    "ax.set_ylabel(\"Monthly rate in USD\")\n",
    "\n",
    "# Customize x tick lables\n",
    "xticks = np.arange(46)\n",
    "ax.xaxis.set_ticks(xticks)\n",
    "ax.set_xticklabels(age_labels)\n",
    "\n",
    "plt.savefig('Virginia_rates_by_age.png', bbox_inches='tight', dpi=150)"
   ]
  },
  {
   "cell_type": "markdown",
   "metadata": {},
   "source": [
    "**Observation 3 ** The large spread in premiums in Virginia is real. After some internet research it turns out that the wide range in monthly premiums in Virginia is due to plans covering gastric bypasses! In all other states, this type of surgery is covered by all plans, so the cost for these surgeries is distributed among all payees (http://www.webmd.com/health-insurance/20131011/why-some-virginia-health-plans-cost-so-much)."
   ]
  },
  {
   "cell_type": "markdown",
   "metadata": {},
   "source": [
    "We will take another case of Montana where there are really low premiums."
   ]
  },
  {
   "cell_type": "markdown",
   "metadata": {},
   "source": [
    "### The case of Montana"
   ]
  },
  {
   "cell_type": "markdown",
   "metadata": {},
   "source": [
    "Creating df for Montana 2014 to ease the exploration process"
   ]
  },
  {
   "cell_type": "code",
   "execution_count": 24,
   "metadata": {
    "collapsed": true
   },
   "outputs": [],
   "source": [
    "df2014_mo = df2014[df2014['StateCode'].isin(['MO'])].copy()"
   ]
  },
  {
   "cell_type": "markdown",
   "metadata": {},
   "source": [
    "Montana seem to have a large number of plans with rates <$100. Let's look at a histogram:"
   ]
  },
  {
   "cell_type": "code",
   "execution_count": 25,
   "metadata": {},
   "outputs": [
    {
     "data": {
      "text/plain": [
       "<matplotlib.axes._subplots.AxesSubplot at 0x16a35c74a90>"
      ]
     },
     "execution_count": 25,
     "metadata": {},
     "output_type": "execute_result"
    },
    {
     "data": {
      "image/png": "[encoded data removed]",
      "text/plain": [
       "<matplotlib.figure.Figure at 0x16a35ca0908>"
      ]
     },
     "metadata": {},
     "output_type": "display_data"
    }
   ],
   "source": [
    "df2014_mo['IndividualRate'].plot.hist(50)"
   ]
  },
  {
   "cell_type": "markdown",
   "metadata": {},
   "source": [
    "These low-cost plans make up the majority of plans, actually."
   ]
  },
  {
   "cell_type": "code",
   "execution_count": 26,
   "metadata": {
    "scrolled": true
   },
   "outputs": [
    {
     "data": {
      "text/plain": [
       "<matplotlib.axes._subplots.AxesSubplot at 0x16aa5657fd0>"
      ]
     },
     "execution_count": 26,
     "metadata": {},
     "output_type": "execute_result"
    },
    {
     "data": {
      "image/png": "[encoded data removed]",
      "text/plain": [
       "<matplotlib.figure.Figure at 0x16a35502160>"
      ]
     },
     "metadata": {},
     "output_type": "display_data"
    }
   ],
   "source": [
    "df2014_mo['IndividualRate'].plot.hist(50, range=(0, 50))"
   ]
  },
  {
   "cell_type": "markdown",
   "metadata": {},
   "source": [
    "*** A summary of the Montana 2014 dataframe ***"
   ]
  },
  {
   "cell_type": "code",
   "execution_count": 28,
   "metadata": {
    "scrolled": true
   },
   "outputs": [
    {
     "data": {
      "text/html": [
       "<div>\n",
       "<style>\n",
       "    .dataframe thead tr:only-child th {\n",
       "        text-align: right;\n",
       "    }\n",
       "\n",
       "    .dataframe thead th {\n",
       "        text-align: left;\n",
       "    }\n",
       "\n",
       "    .dataframe tbody tr th {\n",
       "        vertical-align: top;\n",
       "    }\n",
       "</style>\n",
       "<table border=\"1\" class=\"dataframe\">\n",
       "  <thead>\n",
       "    <tr style=\"text-align: right;\">\n",
       "      <th></th>\n",
       "      <th>BusinessYear</th>\n",
       "      <th>IndividualRate</th>\n",
       "      <th>IndividualTobaccoRate</th>\n",
       "      <th>Couple</th>\n",
       "      <th>PrimarySubscriberAndOneDependent</th>\n",
       "      <th>PrimarySubscriberAndTwoDependents</th>\n",
       "      <th>PrimarySubscriberAndThreeOrMoreDependents</th>\n",
       "      <th>CoupleAndOneDependent</th>\n",
       "      <th>CoupleAndTwoDependents</th>\n",
       "      <th>CoupleAndThreeOrMoreDependents</th>\n",
       "    </tr>\n",
       "  </thead>\n",
       "  <tbody>\n",
       "    <tr>\n",
       "      <th>count</th>\n",
       "      <td>40618.0</td>\n",
       "      <td>37018.000000</td>\n",
       "      <td>12512.000000</td>\n",
       "      <td>230.000000</td>\n",
       "      <td>230.000000</td>\n",
       "      <td>230.000000</td>\n",
       "      <td>230.000000</td>\n",
       "      <td>230.000000</td>\n",
       "      <td>230.000000</td>\n",
       "      <td>230.000000</td>\n",
       "    </tr>\n",
       "    <tr>\n",
       "      <th>mean</th>\n",
       "      <td>2014.0</td>\n",
       "      <td>157.784407</td>\n",
       "      <td>483.698700</td>\n",
       "      <td>49.273913</td>\n",
       "      <td>50.552304</td>\n",
       "      <td>72.199000</td>\n",
       "      <td>99.969522</td>\n",
       "      <td>76.618478</td>\n",
       "      <td>98.264826</td>\n",
       "      <td>126.035652</td>\n",
       "    </tr>\n",
       "    <tr>\n",
       "      <th>std</th>\n",
       "      <td>0.0</td>\n",
       "      <td>207.228153</td>\n",
       "      <td>234.649054</td>\n",
       "      <td>11.172008</td>\n",
       "      <td>10.261092</td>\n",
       "      <td>16.476146</td>\n",
       "      <td>29.757290</td>\n",
       "      <td>15.987663</td>\n",
       "      <td>20.807315</td>\n",
       "      <td>32.921070</td>\n",
       "    </tr>\n",
       "    <tr>\n",
       "      <th>min</th>\n",
       "      <td>2014.0</td>\n",
       "      <td>16.140000</td>\n",
       "      <td>68.220000</td>\n",
       "      <td>32.280000</td>\n",
       "      <td>31.760000</td>\n",
       "      <td>44.350000</td>\n",
       "      <td>44.350000</td>\n",
       "      <td>47.900000</td>\n",
       "      <td>63.510000</td>\n",
       "      <td>70.210000</td>\n",
       "    </tr>\n",
       "    <tr>\n",
       "      <th>25%</th>\n",
       "      <td>2014.0</td>\n",
       "      <td>23.190000</td>\n",
       "      <td>314.490000</td>\n",
       "      <td>40.555000</td>\n",
       "      <td>43.200000</td>\n",
       "      <td>60.295000</td>\n",
       "      <td>79.712500</td>\n",
       "      <td>64.912500</td>\n",
       "      <td>82.810000</td>\n",
       "      <td>101.420000</td>\n",
       "    </tr>\n",
       "    <tr>\n",
       "      <th>50%</th>\n",
       "      <td>2014.0</td>\n",
       "      <td>32.050000</td>\n",
       "      <td>418.125000</td>\n",
       "      <td>48.610000</td>\n",
       "      <td>50.170000</td>\n",
       "      <td>70.475000</td>\n",
       "      <td>100.670000</td>\n",
       "      <td>75.050000</td>\n",
       "      <td>96.050000</td>\n",
       "      <td>123.935000</td>\n",
       "    </tr>\n",
       "    <tr>\n",
       "      <th>75%</th>\n",
       "      <td>2014.0</td>\n",
       "      <td>265.477500</td>\n",
       "      <td>608.855000</td>\n",
       "      <td>55.130000</td>\n",
       "      <td>56.425000</td>\n",
       "      <td>82.935000</td>\n",
       "      <td>116.547500</td>\n",
       "      <td>85.395000</td>\n",
       "      <td>110.420000</td>\n",
       "      <td>143.427500</td>\n",
       "    </tr>\n",
       "    <tr>\n",
       "      <th>max</th>\n",
       "      <td>2014.0</td>\n",
       "      <td>1170.570000</td>\n",
       "      <td>1463.190000</td>\n",
       "      <td>80.970000</td>\n",
       "      <td>80.160000</td>\n",
       "      <td>119.880000</td>\n",
       "      <td>179.450000</td>\n",
       "      <td>120.680000</td>\n",
       "      <td>160.400000</td>\n",
       "      <td>219.980000</td>\n",
       "    </tr>\n",
       "  </tbody>\n",
       "</table>\n",
       "</div>"
      ],
      "text/plain": [
       "       BusinessYear  IndividualRate  IndividualTobaccoRate      Couple  PrimarySubscriberAndOneDependent  PrimarySubscriberAndTwoDependents  PrimarySubscriberAndThreeOrMoreDependents  CoupleAndOneDependent  CoupleAndTwoDependents  CoupleAndThreeOrMoreDependents\n",
       "count       40618.0    37018.000000           12512.000000  230.000000                        230.000000                         230.000000                                 230.000000             230.000000              230.000000                      230.000000\n",
       "mean         2014.0      157.784407             483.698700   49.273913                         50.552304                          72.199000                                  99.969522              76.618478               98.264826                      126.035652\n",
       "std             0.0      207.228153             234.649054   11.172008                         10.261092                          16.476146                                  29.757290              15.987663               20.807315                       32.921070\n",
       "min          2014.0       16.140000              68.220000   32.280000                         31.760000                          44.350000                                  44.350000              47.900000               63.510000                       70.210000\n",
       "25%          2014.0       23.190000             314.490000   40.555000                         43.200000                          60.295000                                  79.712500              64.912500               82.810000                      101.420000\n",
       "50%          2014.0       32.050000             418.125000   48.610000                         50.170000                          70.475000                                 100.670000              75.050000               96.050000                      123.935000\n",
       "75%          2014.0      265.477500             608.855000   55.130000                         56.425000                          82.935000                                 116.547500              85.395000              110.420000                      143.427500\n",
       "max          2014.0     1170.570000            1463.190000   80.970000                         80.160000                         119.880000                                 179.450000             120.680000              160.400000                      219.980000"
      ]
     },
     "execution_count": 28,
     "metadata": {},
     "output_type": "execute_result"
    }
   ],
   "source": [
    "df2014_mo.describe()"
   ]
  },
  {
   "cell_type": "markdown",
   "metadata": {},
   "source": [
    "*** Observation 4*** : It's interesting that all couple/family plans have a price range comparable to the low-price bump in the individual rates."
   ]
  },
  {
   "cell_type": "code",
   "execution_count": 29,
   "metadata": {
    "scrolled": true
   },
   "outputs": [
    {
     "data": {
      "text/html": [
       "<div>\n",
       "<style>\n",
       "    .dataframe thead tr:only-child th {\n",
       "        text-align: right;\n",
       "    }\n",
       "\n",
       "    .dataframe thead th {\n",
       "        text-align: left;\n",
       "    }\n",
       "\n",
       "    .dataframe tbody tr th {\n",
       "        vertical-align: top;\n",
       "    }\n",
       "</style>\n",
       "<table border=\"1\" class=\"dataframe\">\n",
       "  <thead>\n",
       "    <tr style=\"text-align: right;\">\n",
       "      <th></th>\n",
       "      <th>BusinessYear</th>\n",
       "      <th>StateCode</th>\n",
       "      <th>PlanId</th>\n",
       "      <th>RatingAreaId</th>\n",
       "      <th>Tobacco</th>\n",
       "      <th>Age</th>\n",
       "      <th>IndividualRate</th>\n",
       "      <th>IndividualTobaccoRate</th>\n",
       "      <th>Couple</th>\n",
       "      <th>PrimarySubscriberAndOneDependent</th>\n",
       "      <th>PrimarySubscriberAndTwoDependents</th>\n",
       "      <th>PrimarySubscriberAndThreeOrMoreDependents</th>\n",
       "      <th>CoupleAndOneDependent</th>\n",
       "      <th>CoupleAndTwoDependents</th>\n",
       "      <th>CoupleAndThreeOrMoreDependents</th>\n",
       "    </tr>\n",
       "  </thead>\n",
       "  <tbody>\n",
       "    <tr>\n",
       "      <th>1289292</th>\n",
       "      <td>2014</td>\n",
       "      <td>MO</td>\n",
       "      <td>29416MO0010001</td>\n",
       "      <td>Rating Area 1</td>\n",
       "      <td>No Preference</td>\n",
       "      <td>0-20</td>\n",
       "      <td>24.48</td>\n",
       "      <td>NaN</td>\n",
       "      <td>NaN</td>\n",
       "      <td>NaN</td>\n",
       "      <td>NaN</td>\n",
       "      <td>NaN</td>\n",
       "      <td>NaN</td>\n",
       "      <td>NaN</td>\n",
       "      <td>NaN</td>\n",
       "    </tr>\n",
       "    <tr>\n",
       "      <th>1289293</th>\n",
       "      <td>2014</td>\n",
       "      <td>MO</td>\n",
       "      <td>29416MO0010002</td>\n",
       "      <td>Rating Area 1</td>\n",
       "      <td>No Preference</td>\n",
       "      <td>0-20</td>\n",
       "      <td>20.12</td>\n",
       "      <td>NaN</td>\n",
       "      <td>NaN</td>\n",
       "      <td>NaN</td>\n",
       "      <td>NaN</td>\n",
       "      <td>NaN</td>\n",
       "      <td>NaN</td>\n",
       "      <td>NaN</td>\n",
       "      <td>NaN</td>\n",
       "    </tr>\n",
       "    <tr>\n",
       "      <th>1289294</th>\n",
       "      <td>2014</td>\n",
       "      <td>MO</td>\n",
       "      <td>29416MO0020001</td>\n",
       "      <td>Rating Area 1</td>\n",
       "      <td>No Preference</td>\n",
       "      <td>0-20</td>\n",
       "      <td>30.61</td>\n",
       "      <td>NaN</td>\n",
       "      <td>NaN</td>\n",
       "      <td>NaN</td>\n",
       "      <td>NaN</td>\n",
       "      <td>NaN</td>\n",
       "      <td>NaN</td>\n",
       "      <td>NaN</td>\n",
       "      <td>NaN</td>\n",
       "    </tr>\n",
       "    <tr>\n",
       "      <th>1289295</th>\n",
       "      <td>2014</td>\n",
       "      <td>MO</td>\n",
       "      <td>29416MO0020002</td>\n",
       "      <td>Rating Area 1</td>\n",
       "      <td>No Preference</td>\n",
       "      <td>0-20</td>\n",
       "      <td>25.15</td>\n",
       "      <td>NaN</td>\n",
       "      <td>NaN</td>\n",
       "      <td>NaN</td>\n",
       "      <td>NaN</td>\n",
       "      <td>NaN</td>\n",
       "      <td>NaN</td>\n",
       "      <td>NaN</td>\n",
       "      <td>NaN</td>\n",
       "    </tr>\n",
       "    <tr>\n",
       "      <th>1289296</th>\n",
       "      <td>2014</td>\n",
       "      <td>MO</td>\n",
       "      <td>29416MO0010003</td>\n",
       "      <td>Rating Area 1</td>\n",
       "      <td>No Preference</td>\n",
       "      <td>Family Option</td>\n",
       "      <td>26.37</td>\n",
       "      <td>NaN</td>\n",
       "      <td>52.74</td>\n",
       "      <td>50.89</td>\n",
       "      <td>75.42</td>\n",
       "      <td>109.75</td>\n",
       "      <td>77.26</td>\n",
       "      <td>101.79</td>\n",
       "      <td>136.12</td>\n",
       "    </tr>\n",
       "  </tbody>\n",
       "</table>\n",
       "</div>"
      ],
      "text/plain": [
       "         BusinessYear StateCode          PlanId   RatingAreaId        Tobacco            Age  IndividualRate  IndividualTobaccoRate  Couple  PrimarySubscriberAndOneDependent  PrimarySubscriberAndTwoDependents  PrimarySubscriberAndThreeOrMoreDependents  CoupleAndOneDependent  CoupleAndTwoDependents  CoupleAndThreeOrMoreDependents\n",
       "1289292          2014        MO  29416MO0010001  Rating Area 1  No Preference           0-20           24.48                    NaN     NaN                               NaN                                NaN                                        NaN                    NaN                     NaN                             NaN\n",
       "1289293          2014        MO  29416MO0010002  Rating Area 1  No Preference           0-20           20.12                    NaN     NaN                               NaN                                NaN                                        NaN                    NaN                     NaN                             NaN\n",
       "1289294          2014        MO  29416MO0020001  Rating Area 1  No Preference           0-20           30.61                    NaN     NaN                               NaN                                NaN                                        NaN                    NaN                     NaN                             NaN\n",
       "1289295          2014        MO  29416MO0020002  Rating Area 1  No Preference           0-20           25.15                    NaN     NaN                               NaN                                NaN                                        NaN                    NaN                     NaN                             NaN\n",
       "1289296          2014        MO  29416MO0010003  Rating Area 1  No Preference  Family Option           26.37                    NaN   52.74                             50.89                              75.42                                     109.75                  77.26                  101.79                          136.12"
      ]
     },
     "execution_count": 29,
     "metadata": {},
     "output_type": "execute_result"
    }
   ],
   "source": [
    "df2014_mo.head()"
   ]
  },
  {
   "cell_type": "markdown",
   "metadata": {},
   "source": [
    "** Observation 5 : ** The low-cost plans are actually dental-only plans. Excluding them if we want to say anything about health insurance premiums.We can read in another CSV file that can give us some insights on which is which."
   ]
  },
  {
   "cell_type": "markdown",
   "metadata": {},
   "source": [
    "### Distinguishing between full plans and dental-only plans"
   ]
  },
  {
   "cell_type": "markdown",
   "metadata": {},
   "source": [
    "The CSV file PlanAttributes.csv contains benefits, copays, deductibles and many more details of the individual health insurance plans. The file also lists full health insurance plans and dental-only plans. This is what we have to use to clean our dataset."
   ]
  },
  {
   "cell_type": "code",
   "execution_count": 30,
   "metadata": {},
   "outputs": [
    {
     "name": "stderr",
     "output_type": "stream",
     "text": [
      "C:\\Users\\radhi\\Anaconda\\lib\\site-packages\\IPython\\core\\interactiveshell.py:2698: DtypeWarning: Columns (0,7,8,9,10,11,12,13,14,15,18,19,20,22,23,24,25,26,27,28,29,31,32,33,34,39,40,41,42,66,67,68,70,71,72,75,76,77,79,80,81,82,84,85,86,88,89,90,92,93,94,96,97,98,136,137,138,140,141,142,145,146,147,150,151,152,154,155,156,158,159,160,162,163,164,166,167,168) have mixed types. Specify dtype option on import or set low_memory=False.\n",
      "  interactivity=interactivity, compiler=compiler, result=result)\n"
     ]
    }
   ],
   "source": [
    "na_values = ['NaN', 'N/A', '0', '']\n",
    "dental = pd.read_csv(\"PlanAttributes.csv\", na_values=na_values)"
   ]
  },
  {
   "cell_type": "code",
   "execution_count": 33,
   "metadata": {
    "scrolled": true
   },
   "outputs": [
    {
     "data": {
      "text/html": [
       "<div>\n",
       "<style>\n",
       "    .dataframe thead tr:only-child th {\n",
       "        text-align: right;\n",
       "    }\n",
       "\n",
       "    .dataframe thead th {\n",
       "        text-align: left;\n",
       "    }\n",
       "\n",
       "    .dataframe tbody tr th {\n",
       "        vertical-align: top;\n",
       "    }\n",
       "</style>\n",
       "<table border=\"1\" class=\"dataframe\">\n",
       "  <thead>\n",
       "    <tr style=\"text-align: right;\">\n",
       "      <th></th>\n",
       "      <th>AVCalculatorOutputNumber</th>\n",
       "      <th>BeginPrimaryCareCostSharingAfterNumberOfVisits</th>\n",
       "      <th>BeginPrimaryCareDeductibleCoinsuranceAfterNumberOfCopays</th>\n",
       "      <th>BenefitPackageId</th>\n",
       "      <th>BusinessYear</th>\n",
       "      <th>CSRVariationType</th>\n",
       "      <th>ChildOnlyOffering</th>\n",
       "      <th>ChildOnlyPlanId</th>\n",
       "      <th>CompositeRatingOffered</th>\n",
       "      <th>DEHBCombInnOonFamilyMOOP</th>\n",
       "      <th>DEHBCombInnOonFamilyPerGroupMOOP</th>\n",
       "      <th>DEHBCombInnOonFamilyPerPersonMOOP</th>\n",
       "      <th>DEHBCombInnOonIndividualMOOP</th>\n",
       "      <th>DEHBDedCombInnOonFamily</th>\n",
       "      <th>DEHBDedCombInnOonFamilyPerGroup</th>\n",
       "      <th>DEHBDedCombInnOonFamilyPerPerson</th>\n",
       "      <th>DEHBDedCombInnOonIndividual</th>\n",
       "      <th>DEHBDedInnTier1Coinsurance</th>\n",
       "      <th>DEHBDedInnTier1Family</th>\n",
       "      <th>DEHBDedInnTier1FamilyPerGroup</th>\n",
       "      <th>DEHBDedInnTier1FamilyPerPerson</th>\n",
       "      <th>DEHBDedInnTier1Individual</th>\n",
       "      <th>DEHBDedInnTier2Coinsurance</th>\n",
       "      <th>DEHBDedInnTier2Family</th>\n",
       "      <th>DEHBDedInnTier2FamilyPerGroup</th>\n",
       "      <th>DEHBDedInnTier2FamilyPerPerson</th>\n",
       "      <th>DEHBDedInnTier2Individual</th>\n",
       "      <th>DEHBDedOutOfNetFamily</th>\n",
       "      <th>DEHBDedOutOfNetFamilyPerGroup</th>\n",
       "      <th>DEHBDedOutOfNetFamilyPerPerson</th>\n",
       "      <th>DEHBDedOutOfNetIndividual</th>\n",
       "      <th>DEHBInnTier1FamilyMOOP</th>\n",
       "      <th>DEHBInnTier1FamilyPerGroupMOOP</th>\n",
       "      <th>DEHBInnTier1FamilyPerPersonMOOP</th>\n",
       "      <th>DEHBInnTier1IndividualMOOP</th>\n",
       "      <th>DEHBInnTier2FamilyMOOP</th>\n",
       "      <th>DEHBInnTier2FamilyPerGroupMOOP</th>\n",
       "      <th>DEHBInnTier2FamilyPerPersonMOOP</th>\n",
       "      <th>DEHBInnTier2IndividualMOOP</th>\n",
       "      <th>DEHBOutOfNetFamilyMOOP</th>\n",
       "      <th>DEHBOutOfNetFamilyPerGroupMOOP</th>\n",
       "      <th>DEHBOutOfNetFamilyPerPersonMOOP</th>\n",
       "      <th>DEHBOutOfNetIndividualMOOP</th>\n",
       "      <th>DentalOnlyPlan</th>\n",
       "      <th>DiseaseManagementProgramsOffered</th>\n",
       "      <th>EHBPediatricDentalApportionmentQuantity</th>\n",
       "      <th>EHBPercentPremiumS4</th>\n",
       "      <th>EHBPercentTotalPremium</th>\n",
       "      <th>FirstTierUtilization</th>\n",
       "      <th>FormularyId</th>\n",
       "      <th>FormularyURL</th>\n",
       "      <th>HIOSProductId</th>\n",
       "      <th>HPID</th>\n",
       "      <th>HSAOrHRAEmployerContribution</th>\n",
       "      <th>HSAOrHRAEmployerContributionAmount</th>\n",
       "      <th>ImportDate</th>\n",
       "      <th>IndianPlanVariationEstimatedAdvancedPaymentAmountPerEnrollee</th>\n",
       "      <th>InpatientCopaymentMaximumDays</th>\n",
       "      <th>IsGuaranteedRate</th>\n",
       "      <th>IsHSAEligible</th>\n",
       "      <th>IsNewPlan</th>\n",
       "      <th>IsNoticeRequiredForPregnancy</th>\n",
       "      <th>IsReferralRequiredForSpecialist</th>\n",
       "      <th>IssuerActuarialValue</th>\n",
       "      <th>IssuerId</th>\n",
       "      <th>IssuerId2</th>\n",
       "      <th>MEHBCombInnOonFamilyMOOP</th>\n",
       "      <th>MEHBCombInnOonFamilyPerGroupMOOP</th>\n",
       "      <th>MEHBCombInnOonFamilyPerPersonMOOP</th>\n",
       "      <th>MEHBCombInnOonIndividualMOOP</th>\n",
       "      <th>MEHBDedCombInnOonFamily</th>\n",
       "      <th>MEHBDedCombInnOonFamilyPerGroup</th>\n",
       "      <th>MEHBDedCombInnOonFamilyPerPerson</th>\n",
       "      <th>MEHBDedCombInnOonIndividual</th>\n",
       "      <th>MEHBDedInnTier1Coinsurance</th>\n",
       "      <th>MEHBDedInnTier1Family</th>\n",
       "      <th>MEHBDedInnTier1FamilyPerGroup</th>\n",
       "      <th>MEHBDedInnTier1FamilyPerPerson</th>\n",
       "      <th>MEHBDedInnTier1Individual</th>\n",
       "      <th>MEHBDedInnTier2Coinsurance</th>\n",
       "      <th>MEHBDedInnTier2Family</th>\n",
       "      <th>MEHBDedInnTier2FamilyPerGroup</th>\n",
       "      <th>MEHBDedInnTier2FamilyPerPerson</th>\n",
       "      <th>MEHBDedInnTier2Individual</th>\n",
       "      <th>MEHBDedOutOfNetFamily</th>\n",
       "      <th>MEHBDedOutOfNetFamilyPerGroup</th>\n",
       "      <th>MEHBDedOutOfNetFamilyPerPerson</th>\n",
       "      <th>MEHBDedOutOfNetIndividual</th>\n",
       "      <th>MEHBInnTier1FamilyMOOP</th>\n",
       "      <th>MEHBInnTier1FamilyPerGroupMOOP</th>\n",
       "      <th>MEHBInnTier1FamilyPerPersonMOOP</th>\n",
       "      <th>MEHBInnTier1IndividualMOOP</th>\n",
       "      <th>MEHBInnTier2FamilyMOOP</th>\n",
       "      <th>MEHBInnTier2FamilyPerGroupMOOP</th>\n",
       "      <th>MEHBInnTier2FamilyPerPersonMOOP</th>\n",
       "      <th>MEHBInnTier2IndividualMOOP</th>\n",
       "      <th>MEHBOutOfNetFamilyMOOP</th>\n",
       "      <th>MEHBOutOfNetFamilyPerGroupMOOP</th>\n",
       "      <th>MEHBOutOfNetFamilyPerPersonMOOP</th>\n",
       "      <th>MEHBOutOfNetIndividualMOOP</th>\n",
       "      <th>MarketCoverage</th>\n",
       "      <th>MedicalDrugDeductiblesIntegrated</th>\n",
       "      <th>MedicalDrugMaximumOutofPocketIntegrated</th>\n",
       "      <th>MetalLevel</th>\n",
       "      <th>MultipleInNetworkTiers</th>\n",
       "      <th>NationalNetwork</th>\n",
       "      <th>NetworkId</th>\n",
       "      <th>OutOfCountryCoverage</th>\n",
       "      <th>OutOfCountryCoverageDescription</th>\n",
       "      <th>OutOfServiceAreaCoverage</th>\n",
       "      <th>OutOfServiceAreaCoverageDescription</th>\n",
       "      <th>PlanBrochure</th>\n",
       "      <th>PlanEffictiveDate</th>\n",
       "      <th>PlanExpirationDate</th>\n",
       "      <th>PlanId</th>\n",
       "      <th>PlanLevelExclusions</th>\n",
       "      <th>PlanMarketingName</th>\n",
       "      <th>PlanType</th>\n",
       "      <th>QHPNonQHPTypeId</th>\n",
       "      <th>RowNumber</th>\n",
       "      <th>SBCHavingDiabetesCoinsurance</th>\n",
       "      <th>SBCHavingDiabetesCopayment</th>\n",
       "      <th>SBCHavingDiabetesDeductible</th>\n",
       "      <th>SBCHavingDiabetesLimit</th>\n",
       "      <th>SBCHavingaBabyCoinsurance</th>\n",
       "      <th>SBCHavingaBabyCopayment</th>\n",
       "      <th>SBCHavingaBabyDeductible</th>\n",
       "      <th>SBCHavingaBabyLimit</th>\n",
       "      <th>SecondTierUtilization</th>\n",
       "      <th>ServiceAreaId</th>\n",
       "      <th>SourceName</th>\n",
       "      <th>SpecialistRequiringReferral</th>\n",
       "      <th>SpecialtyDrugMaximumCoinsurance</th>\n",
       "      <th>StandardComponentId</th>\n",
       "      <th>StateCode</th>\n",
       "      <th>StateCode2</th>\n",
       "      <th>TEHBCombInnOonFamilyMOOP</th>\n",
       "      <th>TEHBCombInnOonFamilyPerGroupMOOP</th>\n",
       "      <th>TEHBCombInnOonFamilyPerPersonMOOP</th>\n",
       "      <th>TEHBCombInnOonIndividualMOOP</th>\n",
       "      <th>TEHBDedCombInnOonFamily</th>\n",
       "      <th>TEHBDedCombInnOonFamilyPerGroup</th>\n",
       "      <th>TEHBDedCombInnOonFamilyPerPerson</th>\n",
       "      <th>TEHBDedCombInnOonIndividual</th>\n",
       "      <th>TEHBDedInnTier1Coinsurance</th>\n",
       "      <th>TEHBDedInnTier1Family</th>\n",
       "      <th>TEHBDedInnTier1FamilyPerGroup</th>\n",
       "      <th>TEHBDedInnTier1FamilyPerPerson</th>\n",
       "      <th>TEHBDedInnTier1Individual</th>\n",
       "      <th>TEHBDedInnTier2Coinsurance</th>\n",
       "      <th>TEHBDedInnTier2Family</th>\n",
       "      <th>TEHBDedInnTier2FamilyPerGroup</th>\n",
       "      <th>TEHBDedInnTier2FamilyPerPerson</th>\n",
       "      <th>TEHBDedInnTier2Individual</th>\n",
       "      <th>TEHBDedOutOfNetFamily</th>\n",
       "      <th>TEHBDedOutOfNetFamilyPerGroup</th>\n",
       "      <th>TEHBDedOutOfNetFamilyPerPerson</th>\n",
       "      <th>TEHBDedOutOfNetIndividual</th>\n",
       "      <th>TEHBInnTier1FamilyMOOP</th>\n",
       "      <th>TEHBInnTier1FamilyPerGroupMOOP</th>\n",
       "      <th>TEHBInnTier1FamilyPerPersonMOOP</th>\n",
       "      <th>TEHBInnTier1IndividualMOOP</th>\n",
       "      <th>TEHBInnTier2FamilyMOOP</th>\n",
       "      <th>TEHBInnTier2FamilyPerGroupMOOP</th>\n",
       "      <th>TEHBInnTier2FamilyPerPersonMOOP</th>\n",
       "      <th>TEHBInnTier2IndividualMOOP</th>\n",
       "      <th>TEHBOutOfNetFamilyMOOP</th>\n",
       "      <th>TEHBOutOfNetFamilyPerGroupMOOP</th>\n",
       "      <th>TEHBOutOfNetFamilyPerPersonMOOP</th>\n",
       "      <th>TEHBOutOfNetIndividualMOOP</th>\n",
       "      <th>TIN</th>\n",
       "      <th>URLForEnrollmentPayment</th>\n",
       "      <th>URLForSummaryofBenefitsCoverage</th>\n",
       "      <th>UniquePlanDesign</th>\n",
       "      <th>VersionNum</th>\n",
       "      <th>WellnessProgramOffered</th>\n",
       "    </tr>\n",
       "  </thead>\n",
       "  <tbody>\n",
       "    <tr>\n",
       "      <th>0</th>\n",
       "      <td>NaN</td>\n",
       "      <td>NaN</td>\n",
       "      <td>NaN</td>\n",
       "      <td>1</td>\n",
       "      <td>2014</td>\n",
       "      <td>Standard Low Off Exchange Plan</td>\n",
       "      <td>Allows Adult and Child-Only</td>\n",
       "      <td>NaN</td>\n",
       "      <td>NaN</td>\n",
       "      <td>NaN</td>\n",
       "      <td>NaN</td>\n",
       "      <td>NaN</td>\n",
       "      <td>NaN</td>\n",
       "      <td>NaN</td>\n",
       "      <td>NaN</td>\n",
       "      <td>NaN</td>\n",
       "      <td>NaN</td>\n",
       "      <td>NaN</td>\n",
       "      <td>NaN</td>\n",
       "      <td>NaN</td>\n",
       "      <td>NaN</td>\n",
       "      <td>NaN</td>\n",
       "      <td>NaN</td>\n",
       "      <td>NaN</td>\n",
       "      <td>NaN</td>\n",
       "      <td>NaN</td>\n",
       "      <td>NaN</td>\n",
       "      <td>NaN</td>\n",
       "      <td>NaN</td>\n",
       "      <td>NaN</td>\n",
       "      <td>NaN</td>\n",
       "      <td>NaN</td>\n",
       "      <td>NaN</td>\n",
       "      <td>NaN</td>\n",
       "      <td>NaN</td>\n",
       "      <td>NaN</td>\n",
       "      <td>NaN</td>\n",
       "      <td>NaN</td>\n",
       "      <td>NaN</td>\n",
       "      <td>NaN</td>\n",
       "      <td>NaN</td>\n",
       "      <td>NaN</td>\n",
       "      <td>NaN</td>\n",
       "      <td>Yes</td>\n",
       "      <td>NaN</td>\n",
       "      <td>29</td>\n",
       "      <td>NaN</td>\n",
       "      <td>NaN</td>\n",
       "      <td>100%</td>\n",
       "      <td>NaN</td>\n",
       "      <td>NaN</td>\n",
       "      <td>21989AK002</td>\n",
       "      <td>NaN</td>\n",
       "      <td>NaN</td>\n",
       "      <td>NaN</td>\n",
       "      <td>2014-03-19 07:06:49</td>\n",
       "      <td>NaN</td>\n",
       "      <td>NaN</td>\n",
       "      <td>Guaranteed Rate</td>\n",
       "      <td>NaN</td>\n",
       "      <td>New</td>\n",
       "      <td>NaN</td>\n",
       "      <td>NaN</td>\n",
       "      <td>70.00%</td>\n",
       "      <td>21989</td>\n",
       "      <td>21989</td>\n",
       "      <td>$1,400</td>\n",
       "      <td>NaN</td>\n",
       "      <td>NaN</td>\n",
       "      <td>$700</td>\n",
       "      <td>$100</td>\n",
       "      <td>NaN</td>\n",
       "      <td>NaN</td>\n",
       "      <td>$50</td>\n",
       "      <td>NaN</td>\n",
       "      <td>Not Applicable</td>\n",
       "      <td>NaN</td>\n",
       "      <td>NaN</td>\n",
       "      <td>Not Applicable</td>\n",
       "      <td>NaN</td>\n",
       "      <td>NaN</td>\n",
       "      <td>NaN</td>\n",
       "      <td>NaN</td>\n",
       "      <td>NaN</td>\n",
       "      <td>Not Applicable</td>\n",
       "      <td>NaN</td>\n",
       "      <td>NaN</td>\n",
       "      <td>Not Applicable</td>\n",
       "      <td>Not Applicable</td>\n",
       "      <td>NaN</td>\n",
       "      <td>NaN</td>\n",
       "      <td>Not Applicable</td>\n",
       "      <td>NaN</td>\n",
       "      <td>NaN</td>\n",
       "      <td>NaN</td>\n",
       "      <td>NaN</td>\n",
       "      <td>Not Applicable</td>\n",
       "      <td>NaN</td>\n",
       "      <td>NaN</td>\n",
       "      <td>Not Applicable</td>\n",
       "      <td>SHOP (Small Group)</td>\n",
       "      <td>NaN</td>\n",
       "      <td>NaN</td>\n",
       "      <td>Low</td>\n",
       "      <td>No</td>\n",
       "      <td>Yes</td>\n",
       "      <td>AKN001</td>\n",
       "      <td>No</td>\n",
       "      <td>NaN</td>\n",
       "      <td>Yes</td>\n",
       "      <td>National Network</td>\n",
       "      <td>https://www.modahealth.com/producers/grp/den.s...</td>\n",
       "      <td>2014-01-01</td>\n",
       "      <td>2014-12-31</td>\n",
       "      <td>21989AK0020002-00</td>\n",
       "      <td>OOP Max only applies to pediatric benefits</td>\n",
       "      <td>Premier</td>\n",
       "      <td>PPO</td>\n",
       "      <td>Both</td>\n",
       "      <td>6</td>\n",
       "      <td>NaN</td>\n",
       "      <td>NaN</td>\n",
       "      <td>NaN</td>\n",
       "      <td>NaN</td>\n",
       "      <td>NaN</td>\n",
       "      <td>NaN</td>\n",
       "      <td>NaN</td>\n",
       "      <td>NaN</td>\n",
       "      <td>NaN</td>\n",
       "      <td>AKS001</td>\n",
       "      <td>HIOS</td>\n",
       "      <td>NaN</td>\n",
       "      <td>NaN</td>\n",
       "      <td>21989AK0020002</td>\n",
       "      <td>AK</td>\n",
       "      <td>AK</td>\n",
       "      <td>NaN</td>\n",
       "      <td>NaN</td>\n",
       "      <td>NaN</td>\n",
       "      <td>NaN</td>\n",
       "      <td>NaN</td>\n",
       "      <td>NaN</td>\n",
       "      <td>NaN</td>\n",
       "      <td>NaN</td>\n",
       "      <td>NaN</td>\n",
       "      <td>NaN</td>\n",
       "      <td>NaN</td>\n",
       "      <td>NaN</td>\n",
       "      <td>NaN</td>\n",
       "      <td>NaN</td>\n",
       "      <td>NaN</td>\n",
       "      <td>NaN</td>\n",
       "      <td>NaN</td>\n",
       "      <td>NaN</td>\n",
       "      <td>NaN</td>\n",
       "      <td>NaN</td>\n",
       "      <td>NaN</td>\n",
       "      <td>NaN</td>\n",
       "      <td>NaN</td>\n",
       "      <td>NaN</td>\n",
       "      <td>NaN</td>\n",
       "      <td>NaN</td>\n",
       "      <td>NaN</td>\n",
       "      <td>NaN</td>\n",
       "      <td>NaN</td>\n",
       "      <td>NaN</td>\n",
       "      <td>NaN</td>\n",
       "      <td>NaN</td>\n",
       "      <td>NaN</td>\n",
       "      <td>NaN</td>\n",
       "      <td>93-0438772</td>\n",
       "      <td>https://www.modahealth.com/employers/enroll.shtml</td>\n",
       "      <td>https://www.modahealth.com/producers/grp/den.s...</td>\n",
       "      <td>NaN</td>\n",
       "      <td>6</td>\n",
       "      <td>NaN</td>\n",
       "    </tr>\n",
       "    <tr>\n",
       "      <th>1</th>\n",
       "      <td>NaN</td>\n",
       "      <td>NaN</td>\n",
       "      <td>NaN</td>\n",
       "      <td>1</td>\n",
       "      <td>2014</td>\n",
       "      <td>Standard Low On Exchange Plan</td>\n",
       "      <td>Allows Adult and Child-Only</td>\n",
       "      <td>NaN</td>\n",
       "      <td>NaN</td>\n",
       "      <td>NaN</td>\n",
       "      <td>NaN</td>\n",
       "      <td>NaN</td>\n",
       "      <td>NaN</td>\n",
       "      <td>NaN</td>\n",
       "      <td>NaN</td>\n",
       "      <td>NaN</td>\n",
       "      <td>NaN</td>\n",
       "      <td>NaN</td>\n",
       "      <td>NaN</td>\n",
       "      <td>NaN</td>\n",
       "      <td>NaN</td>\n",
       "      <td>NaN</td>\n",
       "      <td>NaN</td>\n",
       "      <td>NaN</td>\n",
       "      <td>NaN</td>\n",
       "      <td>NaN</td>\n",
       "      <td>NaN</td>\n",
       "      <td>NaN</td>\n",
       "      <td>NaN</td>\n",
       "      <td>NaN</td>\n",
       "      <td>NaN</td>\n",
       "      <td>NaN</td>\n",
       "      <td>NaN</td>\n",
       "      <td>NaN</td>\n",
       "      <td>NaN</td>\n",
       "      <td>NaN</td>\n",
       "      <td>NaN</td>\n",
       "      <td>NaN</td>\n",
       "      <td>NaN</td>\n",
       "      <td>NaN</td>\n",
       "      <td>NaN</td>\n",
       "      <td>NaN</td>\n",
       "      <td>NaN</td>\n",
       "      <td>Yes</td>\n",
       "      <td>NaN</td>\n",
       "      <td>29</td>\n",
       "      <td>NaN</td>\n",
       "      <td>NaN</td>\n",
       "      <td>100%</td>\n",
       "      <td>NaN</td>\n",
       "      <td>NaN</td>\n",
       "      <td>21989AK002</td>\n",
       "      <td>NaN</td>\n",
       "      <td>NaN</td>\n",
       "      <td>NaN</td>\n",
       "      <td>2014-03-19 07:06:49</td>\n",
       "      <td>NaN</td>\n",
       "      <td>NaN</td>\n",
       "      <td>Guaranteed Rate</td>\n",
       "      <td>NaN</td>\n",
       "      <td>New</td>\n",
       "      <td>NaN</td>\n",
       "      <td>NaN</td>\n",
       "      <td>70.00%</td>\n",
       "      <td>21989</td>\n",
       "      <td>21989</td>\n",
       "      <td>$1,400</td>\n",
       "      <td>NaN</td>\n",
       "      <td>NaN</td>\n",
       "      <td>$700</td>\n",
       "      <td>$100</td>\n",
       "      <td>NaN</td>\n",
       "      <td>NaN</td>\n",
       "      <td>$50</td>\n",
       "      <td>NaN</td>\n",
       "      <td>Not Applicable</td>\n",
       "      <td>NaN</td>\n",
       "      <td>NaN</td>\n",
       "      <td>Not Applicable</td>\n",
       "      <td>NaN</td>\n",
       "      <td>NaN</td>\n",
       "      <td>NaN</td>\n",
       "      <td>NaN</td>\n",
       "      <td>NaN</td>\n",
       "      <td>Not Applicable</td>\n",
       "      <td>NaN</td>\n",
       "      <td>NaN</td>\n",
       "      <td>Not Applicable</td>\n",
       "      <td>Not Applicable</td>\n",
       "      <td>NaN</td>\n",
       "      <td>NaN</td>\n",
       "      <td>Not Applicable</td>\n",
       "      <td>NaN</td>\n",
       "      <td>NaN</td>\n",
       "      <td>NaN</td>\n",
       "      <td>NaN</td>\n",
       "      <td>Not Applicable</td>\n",
       "      <td>NaN</td>\n",
       "      <td>NaN</td>\n",
       "      <td>Not Applicable</td>\n",
       "      <td>SHOP (Small Group)</td>\n",
       "      <td>NaN</td>\n",
       "      <td>NaN</td>\n",
       "      <td>Low</td>\n",
       "      <td>No</td>\n",
       "      <td>Yes</td>\n",
       "      <td>AKN001</td>\n",
       "      <td>No</td>\n",
       "      <td>NaN</td>\n",
       "      <td>Yes</td>\n",
       "      <td>National Network</td>\n",
       "      <td>https://www.modahealth.com/producers/grp/den.s...</td>\n",
       "      <td>2014-01-01</td>\n",
       "      <td>2014-12-31</td>\n",
       "      <td>21989AK0020002-01</td>\n",
       "      <td>OOP Max only applies to pediatric benefits</td>\n",
       "      <td>Premier</td>\n",
       "      <td>PPO</td>\n",
       "      <td>Both</td>\n",
       "      <td>7</td>\n",
       "      <td>NaN</td>\n",
       "      <td>NaN</td>\n",
       "      <td>NaN</td>\n",
       "      <td>NaN</td>\n",
       "      <td>NaN</td>\n",
       "      <td>NaN</td>\n",
       "      <td>NaN</td>\n",
       "      <td>NaN</td>\n",
       "      <td>NaN</td>\n",
       "      <td>AKS001</td>\n",
       "      <td>HIOS</td>\n",
       "      <td>NaN</td>\n",
       "      <td>NaN</td>\n",
       "      <td>21989AK0020002</td>\n",
       "      <td>AK</td>\n",
       "      <td>AK</td>\n",
       "      <td>NaN</td>\n",
       "      <td>NaN</td>\n",
       "      <td>NaN</td>\n",
       "      <td>NaN</td>\n",
       "      <td>NaN</td>\n",
       "      <td>NaN</td>\n",
       "      <td>NaN</td>\n",
       "      <td>NaN</td>\n",
       "      <td>NaN</td>\n",
       "      <td>NaN</td>\n",
       "      <td>NaN</td>\n",
       "      <td>NaN</td>\n",
       "      <td>NaN</td>\n",
       "      <td>NaN</td>\n",
       "      <td>NaN</td>\n",
       "      <td>NaN</td>\n",
       "      <td>NaN</td>\n",
       "      <td>NaN</td>\n",
       "      <td>NaN</td>\n",
       "      <td>NaN</td>\n",
       "      <td>NaN</td>\n",
       "      <td>NaN</td>\n",
       "      <td>NaN</td>\n",
       "      <td>NaN</td>\n",
       "      <td>NaN</td>\n",
       "      <td>NaN</td>\n",
       "      <td>NaN</td>\n",
       "      <td>NaN</td>\n",
       "      <td>NaN</td>\n",
       "      <td>NaN</td>\n",
       "      <td>NaN</td>\n",
       "      <td>NaN</td>\n",
       "      <td>NaN</td>\n",
       "      <td>NaN</td>\n",
       "      <td>93-0438772</td>\n",
       "      <td>https://www.modahealth.com/employers/enroll.shtml</td>\n",
       "      <td>https://www.modahealth.com/producers/grp/den.s...</td>\n",
       "      <td>NaN</td>\n",
       "      <td>6</td>\n",
       "      <td>NaN</td>\n",
       "    </tr>\n",
       "    <tr>\n",
       "      <th>2</th>\n",
       "      <td>NaN</td>\n",
       "      <td>NaN</td>\n",
       "      <td>NaN</td>\n",
       "      <td>1</td>\n",
       "      <td>2014</td>\n",
       "      <td>Standard High Off Exchange Plan</td>\n",
       "      <td>Allows Adult and Child-Only</td>\n",
       "      <td>NaN</td>\n",
       "      <td>NaN</td>\n",
       "      <td>NaN</td>\n",
       "      <td>NaN</td>\n",
       "      <td>NaN</td>\n",
       "      <td>NaN</td>\n",
       "      <td>NaN</td>\n",
       "      <td>NaN</td>\n",
       "      <td>NaN</td>\n",
       "      <td>NaN</td>\n",
       "      <td>NaN</td>\n",
       "      <td>NaN</td>\n",
       "      <td>NaN</td>\n",
       "      <td>NaN</td>\n",
       "      <td>NaN</td>\n",
       "      <td>NaN</td>\n",
       "      <td>NaN</td>\n",
       "      <td>NaN</td>\n",
       "      <td>NaN</td>\n",
       "      <td>NaN</td>\n",
       "      <td>NaN</td>\n",
       "      <td>NaN</td>\n",
       "      <td>NaN</td>\n",
       "      <td>NaN</td>\n",
       "      <td>NaN</td>\n",
       "      <td>NaN</td>\n",
       "      <td>NaN</td>\n",
       "      <td>NaN</td>\n",
       "      <td>NaN</td>\n",
       "      <td>NaN</td>\n",
       "      <td>NaN</td>\n",
       "      <td>NaN</td>\n",
       "      <td>NaN</td>\n",
       "      <td>NaN</td>\n",
       "      <td>NaN</td>\n",
       "      <td>NaN</td>\n",
       "      <td>Yes</td>\n",
       "      <td>NaN</td>\n",
       "      <td>35</td>\n",
       "      <td>NaN</td>\n",
       "      <td>NaN</td>\n",
       "      <td>100%</td>\n",
       "      <td>NaN</td>\n",
       "      <td>NaN</td>\n",
       "      <td>21989AK002</td>\n",
       "      <td>NaN</td>\n",
       "      <td>NaN</td>\n",
       "      <td>NaN</td>\n",
       "      <td>2014-03-19 07:06:49</td>\n",
       "      <td>NaN</td>\n",
       "      <td>NaN</td>\n",
       "      <td>Guaranteed Rate</td>\n",
       "      <td>NaN</td>\n",
       "      <td>New</td>\n",
       "      <td>NaN</td>\n",
       "      <td>NaN</td>\n",
       "      <td>84.60%</td>\n",
       "      <td>21989</td>\n",
       "      <td>21989</td>\n",
       "      <td>$1,400</td>\n",
       "      <td>NaN</td>\n",
       "      <td>NaN</td>\n",
       "      <td>$700</td>\n",
       "      <td>$100</td>\n",
       "      <td>NaN</td>\n",
       "      <td>NaN</td>\n",
       "      <td>$50</td>\n",
       "      <td>NaN</td>\n",
       "      <td>Not Applicable</td>\n",
       "      <td>NaN</td>\n",
       "      <td>NaN</td>\n",
       "      <td>Not Applicable</td>\n",
       "      <td>NaN</td>\n",
       "      <td>NaN</td>\n",
       "      <td>NaN</td>\n",
       "      <td>NaN</td>\n",
       "      <td>NaN</td>\n",
       "      <td>Not Applicable</td>\n",
       "      <td>NaN</td>\n",
       "      <td>NaN</td>\n",
       "      <td>Not Applicable</td>\n",
       "      <td>Not Applicable</td>\n",
       "      <td>NaN</td>\n",
       "      <td>NaN</td>\n",
       "      <td>Not Applicable</td>\n",
       "      <td>NaN</td>\n",
       "      <td>NaN</td>\n",
       "      <td>NaN</td>\n",
       "      <td>NaN</td>\n",
       "      <td>Not Applicable</td>\n",
       "      <td>NaN</td>\n",
       "      <td>NaN</td>\n",
       "      <td>Not Applicable</td>\n",
       "      <td>SHOP (Small Group)</td>\n",
       "      <td>NaN</td>\n",
       "      <td>NaN</td>\n",
       "      <td>High</td>\n",
       "      <td>No</td>\n",
       "      <td>Yes</td>\n",
       "      <td>AKN001</td>\n",
       "      <td>No</td>\n",
       "      <td>NaN</td>\n",
       "      <td>Yes</td>\n",
       "      <td>National Network</td>\n",
       "      <td>https://www.modahealth.com/producers/grp/den.s...</td>\n",
       "      <td>2014-01-01</td>\n",
       "      <td>2014-12-31</td>\n",
       "      <td>21989AK0020001-00</td>\n",
       "      <td>OOP Max only applies to pediatric benefits</td>\n",
       "      <td>Premier</td>\n",
       "      <td>PPO</td>\n",
       "      <td>Both</td>\n",
       "      <td>4</td>\n",
       "      <td>NaN</td>\n",
       "      <td>NaN</td>\n",
       "      <td>NaN</td>\n",
       "      <td>NaN</td>\n",
       "      <td>NaN</td>\n",
       "      <td>NaN</td>\n",
       "      <td>NaN</td>\n",
       "      <td>NaN</td>\n",
       "      <td>NaN</td>\n",
       "      <td>AKS001</td>\n",
       "      <td>HIOS</td>\n",
       "      <td>NaN</td>\n",
       "      <td>NaN</td>\n",
       "      <td>21989AK0020001</td>\n",
       "      <td>AK</td>\n",
       "      <td>AK</td>\n",
       "      <td>NaN</td>\n",
       "      <td>NaN</td>\n",
       "      <td>NaN</td>\n",
       "      <td>NaN</td>\n",
       "      <td>NaN</td>\n",
       "      <td>NaN</td>\n",
       "      <td>NaN</td>\n",
       "      <td>NaN</td>\n",
       "      <td>NaN</td>\n",
       "      <td>NaN</td>\n",
       "      <td>NaN</td>\n",
       "      <td>NaN</td>\n",
       "      <td>NaN</td>\n",
       "      <td>NaN</td>\n",
       "      <td>NaN</td>\n",
       "      <td>NaN</td>\n",
       "      <td>NaN</td>\n",
       "      <td>NaN</td>\n",
       "      <td>NaN</td>\n",
       "      <td>NaN</td>\n",
       "      <td>NaN</td>\n",
       "      <td>NaN</td>\n",
       "      <td>NaN</td>\n",
       "      <td>NaN</td>\n",
       "      <td>NaN</td>\n",
       "      <td>NaN</td>\n",
       "      <td>NaN</td>\n",
       "      <td>NaN</td>\n",
       "      <td>NaN</td>\n",
       "      <td>NaN</td>\n",
       "      <td>NaN</td>\n",
       "      <td>NaN</td>\n",
       "      <td>NaN</td>\n",
       "      <td>NaN</td>\n",
       "      <td>93-0438772</td>\n",
       "      <td>https://www.modahealth.com/employers/enroll.shtml</td>\n",
       "      <td>https://www.modahealth.com/producers/grp/den.s...</td>\n",
       "      <td>NaN</td>\n",
       "      <td>6</td>\n",
       "      <td>NaN</td>\n",
       "    </tr>\n",
       "    <tr>\n",
       "      <th>3</th>\n",
       "      <td>NaN</td>\n",
       "      <td>NaN</td>\n",
       "      <td>NaN</td>\n",
       "      <td>1</td>\n",
       "      <td>2014</td>\n",
       "      <td>Standard Low Off Exchange Plan</td>\n",
       "      <td>Allows Adult and Child-Only</td>\n",
       "      <td>NaN</td>\n",
       "      <td>NaN</td>\n",
       "      <td>NaN</td>\n",
       "      <td>NaN</td>\n",
       "      <td>NaN</td>\n",
       "      <td>NaN</td>\n",
       "      <td>NaN</td>\n",
       "      <td>NaN</td>\n",
       "      <td>NaN</td>\n",
       "      <td>NaN</td>\n",
       "      <td>NaN</td>\n",
       "      <td>NaN</td>\n",
       "      <td>NaN</td>\n",
       "      <td>NaN</td>\n",
       "      <td>NaN</td>\n",
       "      <td>NaN</td>\n",
       "      <td>NaN</td>\n",
       "      <td>NaN</td>\n",
       "      <td>NaN</td>\n",
       "      <td>NaN</td>\n",
       "      <td>NaN</td>\n",
       "      <td>NaN</td>\n",
       "      <td>NaN</td>\n",
       "      <td>NaN</td>\n",
       "      <td>NaN</td>\n",
       "      <td>NaN</td>\n",
       "      <td>NaN</td>\n",
       "      <td>NaN</td>\n",
       "      <td>NaN</td>\n",
       "      <td>NaN</td>\n",
       "      <td>NaN</td>\n",
       "      <td>NaN</td>\n",
       "      <td>NaN</td>\n",
       "      <td>NaN</td>\n",
       "      <td>NaN</td>\n",
       "      <td>NaN</td>\n",
       "      <td>Yes</td>\n",
       "      <td>NaN</td>\n",
       "      <td>29</td>\n",
       "      <td>NaN</td>\n",
       "      <td>NaN</td>\n",
       "      <td>100%</td>\n",
       "      <td>NaN</td>\n",
       "      <td>NaN</td>\n",
       "      <td>21989AK001</td>\n",
       "      <td>NaN</td>\n",
       "      <td>NaN</td>\n",
       "      <td>NaN</td>\n",
       "      <td>2014-03-19 07:06:49</td>\n",
       "      <td>NaN</td>\n",
       "      <td>NaN</td>\n",
       "      <td>Guaranteed Rate</td>\n",
       "      <td>NaN</td>\n",
       "      <td>New</td>\n",
       "      <td>NaN</td>\n",
       "      <td>NaN</td>\n",
       "      <td>69.90%</td>\n",
       "      <td>21989</td>\n",
       "      <td>21989</td>\n",
       "      <td>$1,400</td>\n",
       "      <td>NaN</td>\n",
       "      <td>NaN</td>\n",
       "      <td>$700</td>\n",
       "      <td>$0</td>\n",
       "      <td>NaN</td>\n",
       "      <td>NaN</td>\n",
       "      <td>$0</td>\n",
       "      <td>NaN</td>\n",
       "      <td>Not Applicable</td>\n",
       "      <td>NaN</td>\n",
       "      <td>NaN</td>\n",
       "      <td>Not Applicable</td>\n",
       "      <td>NaN</td>\n",
       "      <td>NaN</td>\n",
       "      <td>NaN</td>\n",
       "      <td>NaN</td>\n",
       "      <td>NaN</td>\n",
       "      <td>Not Applicable</td>\n",
       "      <td>NaN</td>\n",
       "      <td>NaN</td>\n",
       "      <td>Not Applicable</td>\n",
       "      <td>Not Applicable</td>\n",
       "      <td>NaN</td>\n",
       "      <td>NaN</td>\n",
       "      <td>Not Applicable</td>\n",
       "      <td>NaN</td>\n",
       "      <td>NaN</td>\n",
       "      <td>NaN</td>\n",
       "      <td>NaN</td>\n",
       "      <td>Not Applicable</td>\n",
       "      <td>NaN</td>\n",
       "      <td>NaN</td>\n",
       "      <td>Not Applicable</td>\n",
       "      <td>Individual</td>\n",
       "      <td>NaN</td>\n",
       "      <td>NaN</td>\n",
       "      <td>Low</td>\n",
       "      <td>No</td>\n",
       "      <td>Yes</td>\n",
       "      <td>AKN001</td>\n",
       "      <td>No</td>\n",
       "      <td>NaN</td>\n",
       "      <td>Yes</td>\n",
       "      <td>National Network</td>\n",
       "      <td>https://www.modahealth.com/pdfs/ak/members/201...</td>\n",
       "      <td>2014-01-01</td>\n",
       "      <td>2014-12-31</td>\n",
       "      <td>21989AK0010001-00</td>\n",
       "      <td>OOP Max only applies to pediatric benefits</td>\n",
       "      <td>Premier</td>\n",
       "      <td>PPO</td>\n",
       "      <td>Both</td>\n",
       "      <td>4</td>\n",
       "      <td>NaN</td>\n",
       "      <td>NaN</td>\n",
       "      <td>NaN</td>\n",
       "      <td>NaN</td>\n",
       "      <td>NaN</td>\n",
       "      <td>NaN</td>\n",
       "      <td>NaN</td>\n",
       "      <td>NaN</td>\n",
       "      <td>NaN</td>\n",
       "      <td>AKS001</td>\n",
       "      <td>HIOS</td>\n",
       "      <td>NaN</td>\n",
       "      <td>NaN</td>\n",
       "      <td>21989AK0010001</td>\n",
       "      <td>AK</td>\n",
       "      <td>AK</td>\n",
       "      <td>NaN</td>\n",
       "      <td>NaN</td>\n",
       "      <td>NaN</td>\n",
       "      <td>NaN</td>\n",
       "      <td>NaN</td>\n",
       "      <td>NaN</td>\n",
       "      <td>NaN</td>\n",
       "      <td>NaN</td>\n",
       "      <td>NaN</td>\n",
       "      <td>NaN</td>\n",
       "      <td>NaN</td>\n",
       "      <td>NaN</td>\n",
       "      <td>NaN</td>\n",
       "      <td>NaN</td>\n",
       "      <td>NaN</td>\n",
       "      <td>NaN</td>\n",
       "      <td>NaN</td>\n",
       "      <td>NaN</td>\n",
       "      <td>NaN</td>\n",
       "      <td>NaN</td>\n",
       "      <td>NaN</td>\n",
       "      <td>NaN</td>\n",
       "      <td>NaN</td>\n",
       "      <td>NaN</td>\n",
       "      <td>NaN</td>\n",
       "      <td>NaN</td>\n",
       "      <td>NaN</td>\n",
       "      <td>NaN</td>\n",
       "      <td>NaN</td>\n",
       "      <td>NaN</td>\n",
       "      <td>NaN</td>\n",
       "      <td>NaN</td>\n",
       "      <td>NaN</td>\n",
       "      <td>NaN</td>\n",
       "      <td>93-0438772</td>\n",
       "      <td>https://www.modahealth.com/mymoda/</td>\n",
       "      <td>https://www.modahealth.com/pdfs/plans/individu...</td>\n",
       "      <td>NaN</td>\n",
       "      <td>6</td>\n",
       "      <td>NaN</td>\n",
       "    </tr>\n",
       "    <tr>\n",
       "      <th>4</th>\n",
       "      <td>NaN</td>\n",
       "      <td>NaN</td>\n",
       "      <td>NaN</td>\n",
       "      <td>1</td>\n",
       "      <td>2014</td>\n",
       "      <td>Standard Low On Exchange Plan</td>\n",
       "      <td>Allows Adult and Child-Only</td>\n",
       "      <td>NaN</td>\n",
       "      <td>NaN</td>\n",
       "      <td>NaN</td>\n",
       "      <td>NaN</td>\n",
       "      <td>NaN</td>\n",
       "      <td>NaN</td>\n",
       "      <td>NaN</td>\n",
       "      <td>NaN</td>\n",
       "      <td>NaN</td>\n",
       "      <td>NaN</td>\n",
       "      <td>NaN</td>\n",
       "      <td>NaN</td>\n",
       "      <td>NaN</td>\n",
       "      <td>NaN</td>\n",
       "      <td>NaN</td>\n",
       "      <td>NaN</td>\n",
       "      <td>NaN</td>\n",
       "      <td>NaN</td>\n",
       "      <td>NaN</td>\n",
       "      <td>NaN</td>\n",
       "      <td>NaN</td>\n",
       "      <td>NaN</td>\n",
       "      <td>NaN</td>\n",
       "      <td>NaN</td>\n",
       "      <td>NaN</td>\n",
       "      <td>NaN</td>\n",
       "      <td>NaN</td>\n",
       "      <td>NaN</td>\n",
       "      <td>NaN</td>\n",
       "      <td>NaN</td>\n",
       "      <td>NaN</td>\n",
       "      <td>NaN</td>\n",
       "      <td>NaN</td>\n",
       "      <td>NaN</td>\n",
       "      <td>NaN</td>\n",
       "      <td>NaN</td>\n",
       "      <td>Yes</td>\n",
       "      <td>NaN</td>\n",
       "      <td>29</td>\n",
       "      <td>NaN</td>\n",
       "      <td>NaN</td>\n",
       "      <td>100%</td>\n",
       "      <td>NaN</td>\n",
       "      <td>NaN</td>\n",
       "      <td>21989AK001</td>\n",
       "      <td>NaN</td>\n",
       "      <td>NaN</td>\n",
       "      <td>NaN</td>\n",
       "      <td>2014-03-19 07:06:49</td>\n",
       "      <td>NaN</td>\n",
       "      <td>NaN</td>\n",
       "      <td>Guaranteed Rate</td>\n",
       "      <td>NaN</td>\n",
       "      <td>New</td>\n",
       "      <td>NaN</td>\n",
       "      <td>NaN</td>\n",
       "      <td>69.90%</td>\n",
       "      <td>21989</td>\n",
       "      <td>21989</td>\n",
       "      <td>$1,400</td>\n",
       "      <td>NaN</td>\n",
       "      <td>NaN</td>\n",
       "      <td>$700</td>\n",
       "      <td>$0</td>\n",
       "      <td>NaN</td>\n",
       "      <td>NaN</td>\n",
       "      <td>$0</td>\n",
       "      <td>NaN</td>\n",
       "      <td>Not Applicable</td>\n",
       "      <td>NaN</td>\n",
       "      <td>NaN</td>\n",
       "      <td>Not Applicable</td>\n",
       "      <td>NaN</td>\n",
       "      <td>NaN</td>\n",
       "      <td>NaN</td>\n",
       "      <td>NaN</td>\n",
       "      <td>NaN</td>\n",
       "      <td>Not Applicable</td>\n",
       "      <td>NaN</td>\n",
       "      <td>NaN</td>\n",
       "      <td>Not Applicable</td>\n",
       "      <td>Not Applicable</td>\n",
       "      <td>NaN</td>\n",
       "      <td>NaN</td>\n",
       "      <td>Not Applicable</td>\n",
       "      <td>NaN</td>\n",
       "      <td>NaN</td>\n",
       "      <td>NaN</td>\n",
       "      <td>NaN</td>\n",
       "      <td>Not Applicable</td>\n",
       "      <td>NaN</td>\n",
       "      <td>NaN</td>\n",
       "      <td>Not Applicable</td>\n",
       "      <td>Individual</td>\n",
       "      <td>NaN</td>\n",
       "      <td>NaN</td>\n",
       "      <td>Low</td>\n",
       "      <td>No</td>\n",
       "      <td>Yes</td>\n",
       "      <td>AKN001</td>\n",
       "      <td>No</td>\n",
       "      <td>NaN</td>\n",
       "      <td>Yes</td>\n",
       "      <td>National Network</td>\n",
       "      <td>https://www.modahealth.com/pdfs/ak/members/201...</td>\n",
       "      <td>2014-01-01</td>\n",
       "      <td>2014-12-31</td>\n",
       "      <td>21989AK0010001-01</td>\n",
       "      <td>OOP Max only applies to pediatric benefits</td>\n",
       "      <td>Premier</td>\n",
       "      <td>PPO</td>\n",
       "      <td>Both</td>\n",
       "      <td>5</td>\n",
       "      <td>NaN</td>\n",
       "      <td>NaN</td>\n",
       "      <td>NaN</td>\n",
       "      <td>NaN</td>\n",
       "      <td>NaN</td>\n",
       "      <td>NaN</td>\n",
       "      <td>NaN</td>\n",
       "      <td>NaN</td>\n",
       "      <td>NaN</td>\n",
       "      <td>AKS001</td>\n",
       "      <td>HIOS</td>\n",
       "      <td>NaN</td>\n",
       "      <td>NaN</td>\n",
       "      <td>21989AK0010001</td>\n",
       "      <td>AK</td>\n",
       "      <td>AK</td>\n",
       "      <td>NaN</td>\n",
       "      <td>NaN</td>\n",
       "      <td>NaN</td>\n",
       "      <td>NaN</td>\n",
       "      <td>NaN</td>\n",
       "      <td>NaN</td>\n",
       "      <td>NaN</td>\n",
       "      <td>NaN</td>\n",
       "      <td>NaN</td>\n",
       "      <td>NaN</td>\n",
       "      <td>NaN</td>\n",
       "      <td>NaN</td>\n",
       "      <td>NaN</td>\n",
       "      <td>NaN</td>\n",
       "      <td>NaN</td>\n",
       "      <td>NaN</td>\n",
       "      <td>NaN</td>\n",
       "      <td>NaN</td>\n",
       "      <td>NaN</td>\n",
       "      <td>NaN</td>\n",
       "      <td>NaN</td>\n",
       "      <td>NaN</td>\n",
       "      <td>NaN</td>\n",
       "      <td>NaN</td>\n",
       "      <td>NaN</td>\n",
       "      <td>NaN</td>\n",
       "      <td>NaN</td>\n",
       "      <td>NaN</td>\n",
       "      <td>NaN</td>\n",
       "      <td>NaN</td>\n",
       "      <td>NaN</td>\n",
       "      <td>NaN</td>\n",
       "      <td>NaN</td>\n",
       "      <td>NaN</td>\n",
       "      <td>93-0438772</td>\n",
       "      <td>https://www.modahealth.com/mymoda/</td>\n",
       "      <td>https://www.modahealth.com/pdfs/plans/individu...</td>\n",
       "      <td>NaN</td>\n",
       "      <td>6</td>\n",
       "      <td>NaN</td>\n",
       "    </tr>\n",
       "  </tbody>\n",
       "</table>\n",
       "</div>"
      ],
      "text/plain": [
       "  AVCalculatorOutputNumber  BeginPrimaryCareCostSharingAfterNumberOfVisits  BeginPrimaryCareDeductibleCoinsuranceAfterNumberOfCopays  BenefitPackageId  BusinessYear                 CSRVariationType            ChildOnlyOffering ChildOnlyPlanId CompositeRatingOffered DEHBCombInnOonFamilyMOOP DEHBCombInnOonFamilyPerGroupMOOP DEHBCombInnOonFamilyPerPersonMOOP DEHBCombInnOonIndividualMOOP DEHBDedCombInnOonFamily DEHBDedCombInnOonFamilyPerGroup DEHBDedCombInnOonFamilyPerPerson DEHBDedCombInnOonIndividual DEHBDedInnTier1Coinsurance DEHBDedInnTier1Family DEHBDedInnTier1FamilyPerGroup DEHBDedInnTier1FamilyPerPerson DEHBDedInnTier1Individual DEHBDedInnTier2Coinsurance DEHBDedInnTier2Family DEHBDedInnTier2FamilyPerGroup DEHBDedInnTier2FamilyPerPerson DEHBDedInnTier2Individual DEHBDedOutOfNetFamily DEHBDedOutOfNetFamilyPerGroup DEHBDedOutOfNetFamilyPerPerson DEHBDedOutOfNetIndividual DEHBInnTier1FamilyMOOP DEHBInnTier1FamilyPerGroupMOOP DEHBInnTier1FamilyPerPersonMOOP DEHBInnTier1IndividualMOOP  DEHBInnTier2FamilyMOOP  DEHBInnTier2FamilyPerGroupMOOP  DEHBInnTier2FamilyPerPersonMOOP  DEHBInnTier2IndividualMOOP DEHBOutOfNetFamilyMOOP DEHBOutOfNetFamilyPerGroupMOOP DEHBOutOfNetFamilyPerPersonMOOP DEHBOutOfNetIndividualMOOP DentalOnlyPlan DiseaseManagementProgramsOffered EHBPediatricDentalApportionmentQuantity  EHBPercentPremiumS4  EHBPercentTotalPremium FirstTierUtilization FormularyId FormularyURL HIOSProductId  HPID HSAOrHRAEmployerContribution HSAOrHRAEmployerContributionAmount           ImportDate IndianPlanVariationEstimatedAdvancedPaymentAmountPerEnrollee  InpatientCopaymentMaximumDays IsGuaranteedRate IsHSAEligible IsNewPlan IsNoticeRequiredForPregnancy IsReferralRequiredForSpecialist IssuerActuarialValue  IssuerId  IssuerId2 MEHBCombInnOonFamilyMOOP MEHBCombInnOonFamilyPerGroupMOOP MEHBCombInnOonFamilyPerPersonMOOP MEHBCombInnOonIndividualMOOP MEHBDedCombInnOonFamily MEHBDedCombInnOonFamilyPerGroup MEHBDedCombInnOonFamilyPerPerson MEHBDedCombInnOonIndividual MEHBDedInnTier1Coinsurance MEHBDedInnTier1Family MEHBDedInnTier1FamilyPerGroup MEHBDedInnTier1FamilyPerPerson MEHBDedInnTier1Individual MEHBDedInnTier2Coinsurance MEHBDedInnTier2Family MEHBDedInnTier2FamilyPerGroup MEHBDedInnTier2FamilyPerPerson MEHBDedInnTier2Individual MEHBDedOutOfNetFamily MEHBDedOutOfNetFamilyPerGroup MEHBDedOutOfNetFamilyPerPerson MEHBDedOutOfNetIndividual MEHBInnTier1FamilyMOOP MEHBInnTier1FamilyPerGroupMOOP MEHBInnTier1FamilyPerPersonMOOP MEHBInnTier1IndividualMOOP MEHBInnTier2FamilyMOOP MEHBInnTier2FamilyPerGroupMOOP MEHBInnTier2FamilyPerPersonMOOP MEHBInnTier2IndividualMOOP MEHBOutOfNetFamilyMOOP MEHBOutOfNetFamilyPerGroupMOOP MEHBOutOfNetFamilyPerPersonMOOP MEHBOutOfNetIndividualMOOP      MarketCoverage MedicalDrugDeductiblesIntegrated MedicalDrugMaximumOutofPocketIntegrated MetalLevel MultipleInNetworkTiers NationalNetwork NetworkId OutOfCountryCoverage OutOfCountryCoverageDescription OutOfServiceAreaCoverage OutOfServiceAreaCoverageDescription                                       PlanBrochure PlanEffictiveDate PlanExpirationDate             PlanId                         PlanLevelExclusions PlanMarketingName PlanType QHPNonQHPTypeId  RowNumber SBCHavingDiabetesCoinsurance SBCHavingDiabetesCopayment SBCHavingDiabetesDeductible SBCHavingDiabetesLimit SBCHavingaBabyCoinsurance SBCHavingaBabyCopayment SBCHavingaBabyDeductible SBCHavingaBabyLimit SecondTierUtilization ServiceAreaId SourceName SpecialistRequiringReferral SpecialtyDrugMaximumCoinsurance StandardComponentId StateCode StateCode2 TEHBCombInnOonFamilyMOOP TEHBCombInnOonFamilyPerGroupMOOP TEHBCombInnOonFamilyPerPersonMOOP TEHBCombInnOonIndividualMOOP TEHBDedCombInnOonFamily TEHBDedCombInnOonFamilyPerGroup TEHBDedCombInnOonFamilyPerPerson TEHBDedCombInnOonIndividual TEHBDedInnTier1Coinsurance TEHBDedInnTier1Family TEHBDedInnTier1FamilyPerGroup TEHBDedInnTier1FamilyPerPerson TEHBDedInnTier1Individual TEHBDedInnTier2Coinsurance TEHBDedInnTier2Family TEHBDedInnTier2FamilyPerGroup TEHBDedInnTier2FamilyPerPerson TEHBDedInnTier2Individual TEHBDedOutOfNetFamily TEHBDedOutOfNetFamilyPerGroup TEHBDedOutOfNetFamilyPerPerson TEHBDedOutOfNetIndividual TEHBInnTier1FamilyMOOP TEHBInnTier1FamilyPerGroupMOOP TEHBInnTier1FamilyPerPersonMOOP TEHBInnTier1IndividualMOOP TEHBInnTier2FamilyMOOP TEHBInnTier2FamilyPerGroupMOOP TEHBInnTier2FamilyPerPersonMOOP TEHBInnTier2IndividualMOOP TEHBOutOfNetFamilyMOOP TEHBOutOfNetFamilyPerGroupMOOP TEHBOutOfNetFamilyPerPersonMOOP TEHBOutOfNetIndividualMOOP         TIN                            URLForEnrollmentPayment                    URLForSummaryofBenefitsCoverage UniquePlanDesign  VersionNum WellnessProgramOffered\n",
       "0                      NaN                                             NaN                                                NaN                        1          2014   Standard Low Off Exchange Plan  Allows Adult and Child-Only             NaN                    NaN                      NaN                              NaN                               NaN                          NaN                     NaN                             NaN                              NaN                         NaN                        NaN                   NaN                           NaN                            NaN                       NaN                        NaN                   NaN                           NaN                            NaN                       NaN                   NaN                           NaN                            NaN                       NaN                    NaN                            NaN                             NaN                        NaN                     NaN                             NaN                              NaN                         NaN                    NaN                            NaN                             NaN                        NaN            Yes                              NaN                                      29                  NaN                     NaN                 100%         NaN          NaN    21989AK002   NaN                          NaN                                NaN  2014-03-19 07:06:49                                                NaN                                      NaN  Guaranteed Rate           NaN       New                          NaN                             NaN               70.00%     21989      21989                   $1,400                              NaN                               NaN                         $700                    $100                             NaN                              NaN                         $50                        NaN        Not Applicable                           NaN                            NaN            Not Applicable                        NaN                   NaN                           NaN                            NaN                       NaN        Not Applicable                           NaN                            NaN            Not Applicable         Not Applicable                            NaN                             NaN             Not Applicable                    NaN                            NaN                             NaN                        NaN         Not Applicable                            NaN                             NaN             Not Applicable  SHOP (Small Group)                              NaN                                     NaN        Low                     No             Yes    AKN001                   No                             NaN                      Yes                    National Network  https://www.modahealth.com/producers/grp/den.s...        2014-01-01         2014-12-31  21989AK0020002-00  OOP Max only applies to pediatric benefits           Premier      PPO            Both          6                          NaN                        NaN                         NaN                    NaN                       NaN                     NaN                      NaN                 NaN                   NaN        AKS001       HIOS                         NaN                             NaN      21989AK0020002        AK         AK                      NaN                              NaN                               NaN                          NaN                     NaN                             NaN                              NaN                         NaN                        NaN                   NaN                           NaN                            NaN                       NaN                        NaN                   NaN                           NaN                            NaN                       NaN                   NaN                           NaN                            NaN                       NaN                    NaN                            NaN                             NaN                        NaN                    NaN                            NaN                             NaN                        NaN                    NaN                            NaN                             NaN                        NaN  93-0438772  https://www.modahealth.com/employers/enroll.shtml  https://www.modahealth.com/producers/grp/den.s...              NaN           6                    NaN\n",
       "1                      NaN                                             NaN                                                NaN                        1          2014    Standard Low On Exchange Plan  Allows Adult and Child-Only             NaN                    NaN                      NaN                              NaN                               NaN                          NaN                     NaN                             NaN                              NaN                         NaN                        NaN                   NaN                           NaN                            NaN                       NaN                        NaN                   NaN                           NaN                            NaN                       NaN                   NaN                           NaN                            NaN                       NaN                    NaN                            NaN                             NaN                        NaN                     NaN                             NaN                              NaN                         NaN                    NaN                            NaN                             NaN                        NaN            Yes                              NaN                                      29                  NaN                     NaN                 100%         NaN          NaN    21989AK002   NaN                          NaN                                NaN  2014-03-19 07:06:49                                                NaN                                      NaN  Guaranteed Rate           NaN       New                          NaN                             NaN               70.00%     21989      21989                   $1,400                              NaN                               NaN                         $700                    $100                             NaN                              NaN                         $50                        NaN        Not Applicable                           NaN                            NaN            Not Applicable                        NaN                   NaN                           NaN                            NaN                       NaN        Not Applicable                           NaN                            NaN            Not Applicable         Not Applicable                            NaN                             NaN             Not Applicable                    NaN                            NaN                             NaN                        NaN         Not Applicable                            NaN                             NaN             Not Applicable  SHOP (Small Group)                              NaN                                     NaN        Low                     No             Yes    AKN001                   No                             NaN                      Yes                    National Network  https://www.modahealth.com/producers/grp/den.s...        2014-01-01         2014-12-31  21989AK0020002-01  OOP Max only applies to pediatric benefits           Premier      PPO            Both          7                          NaN                        NaN                         NaN                    NaN                       NaN                     NaN                      NaN                 NaN                   NaN        AKS001       HIOS                         NaN                             NaN      21989AK0020002        AK         AK                      NaN                              NaN                               NaN                          NaN                     NaN                             NaN                              NaN                         NaN                        NaN                   NaN                           NaN                            NaN                       NaN                        NaN                   NaN                           NaN                            NaN                       NaN                   NaN                           NaN                            NaN                       NaN                    NaN                            NaN                             NaN                        NaN                    NaN                            NaN                             NaN                        NaN                    NaN                            NaN                             NaN                        NaN  93-0438772  https://www.modahealth.com/employers/enroll.shtml  https://www.modahealth.com/producers/grp/den.s...              NaN           6                    NaN\n",
       "2                      NaN                                             NaN                                                NaN                        1          2014  Standard High Off Exchange Plan  Allows Adult and Child-Only             NaN                    NaN                      NaN                              NaN                               NaN                          NaN                     NaN                             NaN                              NaN                         NaN                        NaN                   NaN                           NaN                            NaN                       NaN                        NaN                   NaN                           NaN                            NaN                       NaN                   NaN                           NaN                            NaN                       NaN                    NaN                            NaN                             NaN                        NaN                     NaN                             NaN                              NaN                         NaN                    NaN                            NaN                             NaN                        NaN            Yes                              NaN                                      35                  NaN                     NaN                 100%         NaN          NaN    21989AK002   NaN                          NaN                                NaN  2014-03-19 07:06:49                                                NaN                                      NaN  Guaranteed Rate           NaN       New                          NaN                             NaN               84.60%     21989      21989                   $1,400                              NaN                               NaN                         $700                    $100                             NaN                              NaN                         $50                        NaN        Not Applicable                           NaN                            NaN            Not Applicable                        NaN                   NaN                           NaN                            NaN                       NaN        Not Applicable                           NaN                            NaN            Not Applicable         Not Applicable                            NaN                             NaN             Not Applicable                    NaN                            NaN                             NaN                        NaN         Not Applicable                            NaN                             NaN             Not Applicable  SHOP (Small Group)                              NaN                                     NaN       High                     No             Yes    AKN001                   No                             NaN                      Yes                    National Network  https://www.modahealth.com/producers/grp/den.s...        2014-01-01         2014-12-31  21989AK0020001-00  OOP Max only applies to pediatric benefits           Premier      PPO            Both          4                          NaN                        NaN                         NaN                    NaN                       NaN                     NaN                      NaN                 NaN                   NaN        AKS001       HIOS                         NaN                             NaN      21989AK0020001        AK         AK                      NaN                              NaN                               NaN                          NaN                     NaN                             NaN                              NaN                         NaN                        NaN                   NaN                           NaN                            NaN                       NaN                        NaN                   NaN                           NaN                            NaN                       NaN                   NaN                           NaN                            NaN                       NaN                    NaN                            NaN                             NaN                        NaN                    NaN                            NaN                             NaN                        NaN                    NaN                            NaN                             NaN                        NaN  93-0438772  https://www.modahealth.com/employers/enroll.shtml  https://www.modahealth.com/producers/grp/den.s...              NaN           6                    NaN\n",
       "3                      NaN                                             NaN                                                NaN                        1          2014   Standard Low Off Exchange Plan  Allows Adult and Child-Only             NaN                    NaN                      NaN                              NaN                               NaN                          NaN                     NaN                             NaN                              NaN                         NaN                        NaN                   NaN                           NaN                            NaN                       NaN                        NaN                   NaN                           NaN                            NaN                       NaN                   NaN                           NaN                            NaN                       NaN                    NaN                            NaN                             NaN                        NaN                     NaN                             NaN                              NaN                         NaN                    NaN                            NaN                             NaN                        NaN            Yes                              NaN                                      29                  NaN                     NaN                 100%         NaN          NaN    21989AK001   NaN                          NaN                                NaN  2014-03-19 07:06:49                                                NaN                                      NaN  Guaranteed Rate           NaN       New                          NaN                             NaN               69.90%     21989      21989                   $1,400                              NaN                               NaN                         $700                      $0                             NaN                              NaN                          $0                        NaN        Not Applicable                           NaN                            NaN            Not Applicable                        NaN                   NaN                           NaN                            NaN                       NaN        Not Applicable                           NaN                            NaN            Not Applicable         Not Applicable                            NaN                             NaN             Not Applicable                    NaN                            NaN                             NaN                        NaN         Not Applicable                            NaN                             NaN             Not Applicable          Individual                              NaN                                     NaN        Low                     No             Yes    AKN001                   No                             NaN                      Yes                    National Network  https://www.modahealth.com/pdfs/ak/members/201...        2014-01-01         2014-12-31  21989AK0010001-00  OOP Max only applies to pediatric benefits           Premier      PPO            Both          4                          NaN                        NaN                         NaN                    NaN                       NaN                     NaN                      NaN                 NaN                   NaN        AKS001       HIOS                         NaN                             NaN      21989AK0010001        AK         AK                      NaN                              NaN                               NaN                          NaN                     NaN                             NaN                              NaN                         NaN                        NaN                   NaN                           NaN                            NaN                       NaN                        NaN                   NaN                           NaN                            NaN                       NaN                   NaN                           NaN                            NaN                       NaN                    NaN                            NaN                             NaN                        NaN                    NaN                            NaN                             NaN                        NaN                    NaN                            NaN                             NaN                        NaN  93-0438772                 https://www.modahealth.com/mymoda/  https://www.modahealth.com/pdfs/plans/individu...              NaN           6                    NaN\n",
       "4                      NaN                                             NaN                                                NaN                        1          2014    Standard Low On Exchange Plan  Allows Adult and Child-Only             NaN                    NaN                      NaN                              NaN                               NaN                          NaN                     NaN                             NaN                              NaN                         NaN                        NaN                   NaN                           NaN                            NaN                       NaN                        NaN                   NaN                           NaN                            NaN                       NaN                   NaN                           NaN                            NaN                       NaN                    NaN                            NaN                             NaN                        NaN                     NaN                             NaN                              NaN                         NaN                    NaN                            NaN                             NaN                        NaN            Yes                              NaN                                      29                  NaN                     NaN                 100%         NaN          NaN    21989AK001   NaN                          NaN                                NaN  2014-03-19 07:06:49                                                NaN                                      NaN  Guaranteed Rate           NaN       New                          NaN                             NaN               69.90%     21989      21989                   $1,400                              NaN                               NaN                         $700                      $0                             NaN                              NaN                          $0                        NaN        Not Applicable                           NaN                            NaN            Not Applicable                        NaN                   NaN                           NaN                            NaN                       NaN        Not Applicable                           NaN                            NaN            Not Applicable         Not Applicable                            NaN                             NaN             Not Applicable                    NaN                            NaN                             NaN                        NaN         Not Applicable                            NaN                             NaN             Not Applicable          Individual                              NaN                                     NaN        Low                     No             Yes    AKN001                   No                             NaN                      Yes                    National Network  https://www.modahealth.com/pdfs/ak/members/201...        2014-01-01         2014-12-31  21989AK0010001-01  OOP Max only applies to pediatric benefits           Premier      PPO            Both          5                          NaN                        NaN                         NaN                    NaN                       NaN                     NaN                      NaN                 NaN                   NaN        AKS001       HIOS                         NaN                             NaN      21989AK0010001        AK         AK                      NaN                              NaN                               NaN                          NaN                     NaN                             NaN                              NaN                         NaN                        NaN                   NaN                           NaN                            NaN                       NaN                        NaN                   NaN                           NaN                            NaN                       NaN                   NaN                           NaN                            NaN                       NaN                    NaN                            NaN                             NaN                        NaN                    NaN                            NaN                             NaN                        NaN                    NaN                            NaN                             NaN                        NaN  93-0438772                 https://www.modahealth.com/mymoda/  https://www.modahealth.com/pdfs/plans/individu...              NaN           6                    NaN"
      ]
     },
     "execution_count": 33,
     "metadata": {},
     "output_type": "execute_result"
    }
   ],
   "source": [
    "dental.head()"
   ]
  },
  {
   "cell_type": "markdown",
   "metadata": {},
   "source": [
    "Well, this is a big messy dataframe. We are only interested in the column DentalOnlyPlan. Let's have a look at it:"
   ]
  },
  {
   "cell_type": "code",
   "execution_count": 34,
   "metadata": {
    "scrolled": true
   },
   "outputs": [
    {
     "data": {
      "text/plain": [
       "array(['Yes', 'No'], dtype=object)"
      ]
     },
     "execution_count": 34,
     "metadata": {},
     "output_type": "execute_result"
    }
   ],
   "source": [
    "dental['DentalOnlyPlan'].unique()"
   ]
  },
  {
   "cell_type": "markdown",
   "metadata": {},
   "source": [
    "This  one is clean!"
   ]
  },
  {
   "cell_type": "code",
   "execution_count": 35,
   "metadata": {},
   "outputs": [
    {
     "data": {
      "text/plain": [
       "16808"
      ]
     },
     "execution_count": 35,
     "metadata": {},
     "output_type": "execute_result"
    }
   ],
   "source": [
    "len(dental['HIOSProductId'].unique())\n",
    "len(df['PlanId'].unique())"
   ]
  },
  {
   "cell_type": "markdown",
   "metadata": {},
   "source": [
    "These PlanId's from the Rate.csv file are not exactly the same as the HIOSProductId's from the PlanAttributes.csv file. The format is similar: 29416MO0010001 versus 21989AK002. I can try to strip the last four digits from the PlanId's to see if the number of PlanId's and HIOSProductId's matches then."
   ]
  },
  {
   "cell_type": "code",
   "execution_count": 38,
   "metadata": {},
   "outputs": [
    {
     "data": {
      "text/plain": [
       "3498"
      ]
     },
     "execution_count": 38,
     "metadata": {},
     "output_type": "execute_result"
    }
   ],
   "source": [
    "Ids = df.PlanId\n",
    "mod_Ids = [x[:-4] for x in Ids]\n",
    "len(set(mod_Ids))"
   ]
  },
  {
   "cell_type": "markdown",
   "metadata": {},
   "source": [
    "There is one more element in the modified PlanId list than in the dental list. Let's find it."
   ]
  },
  {
   "cell_type": "code",
   "execution_count": 39,
   "metadata": {},
   "outputs": [
    {
     "data": {
      "text/plain": [
       "{'19312TZ001'}"
      ]
     },
     "execution_count": 39,
     "metadata": {},
     "output_type": "execute_result"
    }
   ],
   "source": [
    "set(mod_Ids)-set(dental['HIOSProductId'].unique())"
   ]
  },
  {
   "cell_type": "markdown",
   "metadata": {},
   "source": [
    "TZ is not a valid State abbreviation. There's a plan in Texas with name 19312TX001, though. So let's change this typo."
   ]
  },
  {
   "cell_type": "code",
   "execution_count": 40,
   "metadata": {},
   "outputs": [
    {
     "data": {
      "text/plain": [
       "set()"
      ]
     },
     "execution_count": 40,
     "metadata": {},
     "output_type": "execute_result"
    }
   ],
   "source": [
    "mod_Ids = ['19312TX001' if x=='19312TZ001' else x for x in mod_Ids]\n",
    "set(mod_Ids)-set(dental['HIOSProductId'].unique())"
   ]
  },
  {
   "cell_type": "markdown",
   "metadata": {},
   "source": [
    "Now adding these new labels as a new column to the original dataframe and then merge the dental dataframe."
   ]
  },
  {
   "cell_type": "code",
   "execution_count": 41,
   "metadata": {
    "collapsed": true
   },
   "outputs": [],
   "source": [
    "df.loc[:,'HIOSProductId'] = pd.Series(mod_Ids, index=df.index)"
   ]
  },
  {
   "cell_type": "code",
   "execution_count": 42,
   "metadata": {},
   "outputs": [
    {
     "data": {
      "text/plain": [
       "(12442241, 16)"
      ]
     },
     "execution_count": 42,
     "metadata": {},
     "output_type": "execute_result"
    }
   ],
   "source": [
    "df.shape"
   ]
  },
  {
   "cell_type": "markdown",
   "metadata": {},
   "source": [
    "Success. Now doing this for the dfs of the individual three years"
   ]
  },
  {
   "cell_type": "code",
   "execution_count": 43,
   "metadata": {
    "collapsed": true
   },
   "outputs": [],
   "source": [
    "Ids_2014 = df2014.PlanId\n",
    "mod_Ids_2014 = [x[:-4] for x in Ids_2014]\n",
    "Ids_2015 = df2015.PlanId\n",
    "mod_Ids_2015 = [x[:-4] for x in Ids_2015]\n",
    "Ids_2016 = df2016.PlanId\n",
    "mod_Ids_2016 = [x[:-4] for x in Ids_2016]"
   ]
  },
  {
   "cell_type": "code",
   "execution_count": 44,
   "metadata": {
    "collapsed": true
   },
   "outputs": [],
   "source": [
    "mod_Ids_2014 = ['19312TX001' if x=='19312TZ001' else x for x in mod_Ids_2014]\n",
    "mod_Ids_2015 = ['19312TX001' if x=='19312TZ001' else x for x in mod_Ids_2015]\n",
    "mod_Ids_2016 = ['19312TX001' if x=='19312TZ001' else x for x in mod_Ids_2016]"
   ]
  },
  {
   "cell_type": "code",
   "execution_count": 45,
   "metadata": {
    "collapsed": true
   },
   "outputs": [],
   "source": [
    "df2014.loc[:,'HIOSProductId'] = mod_Ids_2014\n",
    "df2015.loc[:,'HIOSProductId'] = mod_Ids_2015\n",
    "df2016.loc[:,'HIOSProductId'] = mod_Ids_2016"
   ]
  },
  {
   "cell_type": "code",
   "execution_count": 46,
   "metadata": {},
   "outputs": [
    {
     "data": {
      "text/plain": [
       "1836"
      ]
     },
     "execution_count": 46,
     "metadata": {},
     "output_type": "execute_result"
    }
   ],
   "source": [
    "len(set(df2014['HIOSProductId']))"
   ]
  },
  {
   "cell_type": "markdown",
   "metadata": {},
   "source": [
    "Creating a diet version of the dental DataFrame before we merge it with the dfs. We only need the DentalOnlyPlan column."
   ]
  },
  {
   "cell_type": "code",
   "execution_count": 47,
   "metadata": {},
   "outputs": [
    {
     "data": {
      "text/plain": [
       "(77353, 2)"
      ]
     },
     "execution_count": 47,
     "metadata": {},
     "output_type": "execute_result"
    }
   ],
   "source": [
    "dental_diet = dental[['HIOSProductId', 'DentalOnlyPlan']].copy()\n",
    "dental_diet.shape"
   ]
  },
  {
   "cell_type": "code",
   "execution_count": 48,
   "metadata": {},
   "outputs": [
    {
     "data": {
      "text/html": [
       "<div>\n",
       "<style>\n",
       "    .dataframe thead tr:only-child th {\n",
       "        text-align: right;\n",
       "    }\n",
       "\n",
       "    .dataframe thead th {\n",
       "        text-align: left;\n",
       "    }\n",
       "\n",
       "    .dataframe tbody tr th {\n",
       "        vertical-align: top;\n",
       "    }\n",
       "</style>\n",
       "<table border=\"1\" class=\"dataframe\">\n",
       "  <thead>\n",
       "    <tr style=\"text-align: right;\">\n",
       "      <th></th>\n",
       "      <th>HIOSProductId</th>\n",
       "      <th>DentalOnlyPlan</th>\n",
       "    </tr>\n",
       "  </thead>\n",
       "  <tbody>\n",
       "    <tr>\n",
       "      <th>0</th>\n",
       "      <td>21989AK002</td>\n",
       "      <td>Yes</td>\n",
       "    </tr>\n",
       "    <tr>\n",
       "      <th>1</th>\n",
       "      <td>21989AK002</td>\n",
       "      <td>Yes</td>\n",
       "    </tr>\n",
       "    <tr>\n",
       "      <th>2</th>\n",
       "      <td>21989AK002</td>\n",
       "      <td>Yes</td>\n",
       "    </tr>\n",
       "    <tr>\n",
       "      <th>3</th>\n",
       "      <td>21989AK001</td>\n",
       "      <td>Yes</td>\n",
       "    </tr>\n",
       "    <tr>\n",
       "      <th>4</th>\n",
       "      <td>21989AK001</td>\n",
       "      <td>Yes</td>\n",
       "    </tr>\n",
       "  </tbody>\n",
       "</table>\n",
       "</div>"
      ],
      "text/plain": [
       "  HIOSProductId DentalOnlyPlan\n",
       "0    21989AK002            Yes\n",
       "1    21989AK002            Yes\n",
       "2    21989AK002            Yes\n",
       "3    21989AK001            Yes\n",
       "4    21989AK001            Yes"
      ]
     },
     "execution_count": 48,
     "metadata": {},
     "output_type": "execute_result"
    }
   ],
   "source": [
    "dental_diet.head()"
   ]
  },
  {
   "cell_type": "code",
   "execution_count": 49,
   "metadata": {},
   "outputs": [
    {
     "data": {
      "text/plain": [
       "No     65704\n",
       "Yes    11649\n",
       "Name: DentalOnlyPlan, dtype: int64"
      ]
     },
     "execution_count": 49,
     "metadata": {},
     "output_type": "execute_result"
    }
   ],
   "source": [
    "dental_diet['DentalOnlyPlan'].value_counts()"
   ]
  },
  {
   "cell_type": "markdown",
   "metadata": {},
   "source": [
    "Merging two dataframes can be a bit tricky. Since it is likely that we will have to try several times until it works the way we imagine them to be merged, we should test the merging process on a smaller df first. Let's use the 2014 df.\n",
    "\n",
    "Now, not all the PlanId's are in the 2014 df. If we merge the full dental df with the 2014 df, we will get spurious rows with the PlanId's that are not used in 2014. We should create a 2014 dental df to avoid these spurious entries after merging."
   ]
  },
  {
   "cell_type": "code",
   "execution_count": 50,
   "metadata": {
    "collapsed": true
   },
   "outputs": [],
   "source": [
    "not_in_2014 = set(dental_diet['HIOSProductId'])-set(df2014['HIOSProductId'])\n",
    "exclude_list_2014 = dental_diet['HIOSProductId'].isin(not_in_2014)\n",
    "dental_2014 = dental_diet[~exclude_list_2014].drop_duplicates().reset_index(drop=True)"
   ]
  },
  {
   "cell_type": "code",
   "execution_count": 51,
   "metadata": {},
   "outputs": [
    {
     "data": {
      "text/plain": [
       "Yes    1074\n",
       "No      762\n",
       "Name: DentalOnlyPlan, dtype: int64"
      ]
     },
     "execution_count": 51,
     "metadata": {},
     "output_type": "execute_result"
    }
   ],
   "source": [
    "dental_2014['DentalOnlyPlan'].value_counts()"
   ]
  },
  {
   "cell_type": "markdown",
   "metadata": {},
   "source": [
    "And similar for 2015 and 2016:"
   ]
  },
  {
   "cell_type": "code",
   "execution_count": 52,
   "metadata": {
    "collapsed": true
   },
   "outputs": [],
   "source": [
    "not_in_2015 = set(dental_diet['HIOSProductId'])-set(df2015['HIOSProductId'])\n",
    "exclude_list_2015 = dental_diet['HIOSProductId'].isin(not_in_2015)\n",
    "dental_2015 = dental_diet[~exclude_list_2015].drop_duplicates().reset_index(drop=True)"
   ]
  },
  {
   "cell_type": "code",
   "execution_count": 53,
   "metadata": {
    "collapsed": true
   },
   "outputs": [],
   "source": [
    "not_in_2016 = set(dental_diet['HIOSProductId'])-set(df2016['HIOSProductId'])\n",
    "exclude_list_2016 = dental_diet['HIOSProductId'].isin(not_in_2016)\n",
    "dental_2016 = dental_diet[~exclude_list_2016].drop_duplicates().reset_index(drop=True)"
   ]
  },
  {
   "cell_type": "markdown",
   "metadata": {},
   "source": [
    "Merging the slim dental dataframe with the full dataframe containing all rates across all three years crashes as the Jupyter notebook runs out of memory. Let's just merge the 2014, 2015 and 2016 dental df's with the df's of the individual years -- and let's save them right away as CSV files so that we can start our further analysis from there."
   ]
  },
  {
   "cell_type": "code",
   "execution_count": 54,
   "metadata": {
    "collapsed": true
   },
   "outputs": [],
   "source": [
    "df2014_merged = pd.merge(df2014, dental_2014, on='HIOSProductId', how='inner', sort=False)"
   ]
  },
  {
   "cell_type": "code",
   "execution_count": 55,
   "metadata": {},
   "outputs": [
    {
     "data": {
      "text/plain": [
       "(3676037, 17)"
      ]
     },
     "execution_count": 55,
     "metadata": {},
     "output_type": "execute_result"
    }
   ],
   "source": [
    "df2014_merged.shape"
   ]
  },
  {
   "cell_type": "code",
   "execution_count": 56,
   "metadata": {},
   "outputs": [
    {
     "data": {
      "text/html": [
       "<div>\n",
       "<style>\n",
       "    .dataframe thead tr:only-child th {\n",
       "        text-align: right;\n",
       "    }\n",
       "\n",
       "    .dataframe thead th {\n",
       "        text-align: left;\n",
       "    }\n",
       "\n",
       "    .dataframe tbody tr th {\n",
       "        vertical-align: top;\n",
       "    }\n",
       "</style>\n",
       "<table border=\"1\" class=\"dataframe\">\n",
       "  <thead>\n",
       "    <tr style=\"text-align: right;\">\n",
       "      <th></th>\n",
       "      <th>BusinessYear</th>\n",
       "      <th>StateCode</th>\n",
       "      <th>PlanId</th>\n",
       "      <th>RatingAreaId</th>\n",
       "      <th>Tobacco</th>\n",
       "      <th>Age</th>\n",
       "      <th>IndividualRate</th>\n",
       "      <th>IndividualTobaccoRate</th>\n",
       "      <th>Couple</th>\n",
       "      <th>PrimarySubscriberAndOneDependent</th>\n",
       "      <th>PrimarySubscriberAndTwoDependents</th>\n",
       "      <th>PrimarySubscriberAndThreeOrMoreDependents</th>\n",
       "      <th>CoupleAndOneDependent</th>\n",
       "      <th>CoupleAndTwoDependents</th>\n",
       "      <th>CoupleAndThreeOrMoreDependents</th>\n",
       "      <th>HIOSProductId</th>\n",
       "      <th>DentalOnlyPlan</th>\n",
       "    </tr>\n",
       "  </thead>\n",
       "  <tbody>\n",
       "    <tr>\n",
       "      <th>0</th>\n",
       "      <td>2014</td>\n",
       "      <td>AK</td>\n",
       "      <td>21989AK0010001</td>\n",
       "      <td>Rating Area 1</td>\n",
       "      <td>No Preference</td>\n",
       "      <td>0-20</td>\n",
       "      <td>29.0</td>\n",
       "      <td>NaN</td>\n",
       "      <td>NaN</td>\n",
       "      <td>NaN</td>\n",
       "      <td>NaN</td>\n",
       "      <td>NaN</td>\n",
       "      <td>NaN</td>\n",
       "      <td>NaN</td>\n",
       "      <td>NaN</td>\n",
       "      <td>21989AK001</td>\n",
       "      <td>Yes</td>\n",
       "    </tr>\n",
       "    <tr>\n",
       "      <th>1</th>\n",
       "      <td>2014</td>\n",
       "      <td>AK</td>\n",
       "      <td>21989AK0010001</td>\n",
       "      <td>Rating Area 1</td>\n",
       "      <td>No Preference</td>\n",
       "      <td>21</td>\n",
       "      <td>32.0</td>\n",
       "      <td>NaN</td>\n",
       "      <td>NaN</td>\n",
       "      <td>NaN</td>\n",
       "      <td>NaN</td>\n",
       "      <td>NaN</td>\n",
       "      <td>NaN</td>\n",
       "      <td>NaN</td>\n",
       "      <td>NaN</td>\n",
       "      <td>21989AK001</td>\n",
       "      <td>Yes</td>\n",
       "    </tr>\n",
       "    <tr>\n",
       "      <th>2</th>\n",
       "      <td>2014</td>\n",
       "      <td>AK</td>\n",
       "      <td>21989AK0010001</td>\n",
       "      <td>Rating Area 1</td>\n",
       "      <td>No Preference</td>\n",
       "      <td>22</td>\n",
       "      <td>32.0</td>\n",
       "      <td>NaN</td>\n",
       "      <td>NaN</td>\n",
       "      <td>NaN</td>\n",
       "      <td>NaN</td>\n",
       "      <td>NaN</td>\n",
       "      <td>NaN</td>\n",
       "      <td>NaN</td>\n",
       "      <td>NaN</td>\n",
       "      <td>21989AK001</td>\n",
       "      <td>Yes</td>\n",
       "    </tr>\n",
       "    <tr>\n",
       "      <th>3</th>\n",
       "      <td>2014</td>\n",
       "      <td>AK</td>\n",
       "      <td>21989AK0010001</td>\n",
       "      <td>Rating Area 1</td>\n",
       "      <td>No Preference</td>\n",
       "      <td>23</td>\n",
       "      <td>32.0</td>\n",
       "      <td>NaN</td>\n",
       "      <td>NaN</td>\n",
       "      <td>NaN</td>\n",
       "      <td>NaN</td>\n",
       "      <td>NaN</td>\n",
       "      <td>NaN</td>\n",
       "      <td>NaN</td>\n",
       "      <td>NaN</td>\n",
       "      <td>21989AK001</td>\n",
       "      <td>Yes</td>\n",
       "    </tr>\n",
       "    <tr>\n",
       "      <th>4</th>\n",
       "      <td>2014</td>\n",
       "      <td>AK</td>\n",
       "      <td>21989AK0010001</td>\n",
       "      <td>Rating Area 1</td>\n",
       "      <td>No Preference</td>\n",
       "      <td>24</td>\n",
       "      <td>32.0</td>\n",
       "      <td>NaN</td>\n",
       "      <td>NaN</td>\n",
       "      <td>NaN</td>\n",
       "      <td>NaN</td>\n",
       "      <td>NaN</td>\n",
       "      <td>NaN</td>\n",
       "      <td>NaN</td>\n",
       "      <td>NaN</td>\n",
       "      <td>21989AK001</td>\n",
       "      <td>Yes</td>\n",
       "    </tr>\n",
       "  </tbody>\n",
       "</table>\n",
       "</div>"
      ],
      "text/plain": [
       "   BusinessYear StateCode          PlanId   RatingAreaId        Tobacco   Age  IndividualRate  IndividualTobaccoRate  Couple  PrimarySubscriberAndOneDependent  PrimarySubscriberAndTwoDependents  PrimarySubscriberAndThreeOrMoreDependents  CoupleAndOneDependent  CoupleAndTwoDependents  CoupleAndThreeOrMoreDependents HIOSProductId DentalOnlyPlan\n",
       "0          2014        AK  21989AK0010001  Rating Area 1  No Preference  0-20            29.0                    NaN     NaN                               NaN                                NaN                                        NaN                    NaN                     NaN                             NaN    21989AK001            Yes\n",
       "1          2014        AK  21989AK0010001  Rating Area 1  No Preference    21            32.0                    NaN     NaN                               NaN                                NaN                                        NaN                    NaN                     NaN                             NaN    21989AK001            Yes\n",
       "2          2014        AK  21989AK0010001  Rating Area 1  No Preference    22            32.0                    NaN     NaN                               NaN                                NaN                                        NaN                    NaN                     NaN                             NaN    21989AK001            Yes\n",
       "3          2014        AK  21989AK0010001  Rating Area 1  No Preference    23            32.0                    NaN     NaN                               NaN                                NaN                                        NaN                    NaN                     NaN                             NaN    21989AK001            Yes\n",
       "4          2014        AK  21989AK0010001  Rating Area 1  No Preference    24            32.0                    NaN     NaN                               NaN                                NaN                                        NaN                    NaN                     NaN                             NaN    21989AK001            Yes"
      ]
     },
     "execution_count": 56,
     "metadata": {},
     "output_type": "execute_result"
    }
   ],
   "source": [
    "df2014_merged.head()"
   ]
  },
  {
   "cell_type": "markdown",
   "metadata": {},
   "source": [
    "Now checking for any duplicates that we should drop:"
   ]
  },
  {
   "cell_type": "code",
   "execution_count": 57,
   "metadata": {
    "collapsed": true
   },
   "outputs": [],
   "source": [
    "df2014_cleaned = df2014_merged.drop_duplicates().reset_index(drop=True)"
   ]
  },
  {
   "cell_type": "code",
   "execution_count": 58,
   "metadata": {},
   "outputs": [
    {
     "data": {
      "text/plain": [
       "(3676037, 17)"
      ]
     },
     "execution_count": 58,
     "metadata": {},
     "output_type": "execute_result"
    }
   ],
   "source": [
    "df2014_cleaned.shape"
   ]
  },
  {
   "cell_type": "markdown",
   "metadata": {},
   "source": [
    "No, the merging was clean.\n",
    "\n",
    "How many dental only plans are there in 2014?"
   ]
  },
  {
   "cell_type": "code",
   "execution_count": 59,
   "metadata": {},
   "outputs": [
    {
     "data": {
      "text/plain": [
       "No     2370659\n",
       "Yes    1305378\n",
       "Name: DentalOnlyPlan, dtype: int64"
      ]
     },
     "execution_count": 59,
     "metadata": {},
     "output_type": "execute_result"
    }
   ],
   "source": [
    "df2014_cleaned['DentalOnlyPlan'].value_counts()"
   ]
  },
  {
   "cell_type": "markdown",
   "metadata": {},
   "source": [
    "**Observation 6:** One third of all listed plans are dental-only plans.\n",
    "\n",
    "The goal was to remove these dental-only plans so that we can get some statistics on the prizes of health insurance plans for individuals. So let's get rid of the dental-only plans!"
   ]
  },
  {
   "cell_type": "code",
   "execution_count": 60,
   "metadata": {
    "collapsed": true
   },
   "outputs": [],
   "source": [
    "df2014_merged_nodental = df2014_cleaned[df2014_cleaned['DentalOnlyPlan'].isin(['No'])].copy()"
   ]
  },
  {
   "cell_type": "code",
   "execution_count": 61,
   "metadata": {
    "scrolled": true
   },
   "outputs": [
    {
     "data": {
      "text/html": [
       "<div>\n",
       "<style>\n",
       "    .dataframe thead tr:only-child th {\n",
       "        text-align: right;\n",
       "    }\n",
       "\n",
       "    .dataframe thead th {\n",
       "        text-align: left;\n",
       "    }\n",
       "\n",
       "    .dataframe tbody tr th {\n",
       "        vertical-align: top;\n",
       "    }\n",
       "</style>\n",
       "<table border=\"1\" class=\"dataframe\">\n",
       "  <thead>\n",
       "    <tr style=\"text-align: right;\">\n",
       "      <th></th>\n",
       "      <th>BusinessYear</th>\n",
       "      <th>StateCode</th>\n",
       "      <th>PlanId</th>\n",
       "      <th>RatingAreaId</th>\n",
       "      <th>Tobacco</th>\n",
       "      <th>Age</th>\n",
       "      <th>IndividualRate</th>\n",
       "      <th>IndividualTobaccoRate</th>\n",
       "      <th>Couple</th>\n",
       "      <th>PrimarySubscriberAndOneDependent</th>\n",
       "      <th>PrimarySubscriberAndTwoDependents</th>\n",
       "      <th>PrimarySubscriberAndThreeOrMoreDependents</th>\n",
       "      <th>CoupleAndOneDependent</th>\n",
       "      <th>CoupleAndTwoDependents</th>\n",
       "      <th>CoupleAndThreeOrMoreDependents</th>\n",
       "      <th>HIOSProductId</th>\n",
       "      <th>DentalOnlyPlan</th>\n",
       "    </tr>\n",
       "  </thead>\n",
       "  <tbody>\n",
       "    <tr>\n",
       "      <th>1398</th>\n",
       "      <td>2014</td>\n",
       "      <td>AK</td>\n",
       "      <td>73836AK0620001</td>\n",
       "      <td>Rating Area 1</td>\n",
       "      <td>No Preference</td>\n",
       "      <td>0-20</td>\n",
       "      <td>143.0</td>\n",
       "      <td>NaN</td>\n",
       "      <td>NaN</td>\n",
       "      <td>NaN</td>\n",
       "      <td>NaN</td>\n",
       "      <td>NaN</td>\n",
       "      <td>NaN</td>\n",
       "      <td>NaN</td>\n",
       "      <td>NaN</td>\n",
       "      <td>73836AK062</td>\n",
       "      <td>No</td>\n",
       "    </tr>\n",
       "    <tr>\n",
       "      <th>1399</th>\n",
       "      <td>2014</td>\n",
       "      <td>AK</td>\n",
       "      <td>73836AK0620001</td>\n",
       "      <td>Rating Area 1</td>\n",
       "      <td>No Preference</td>\n",
       "      <td>21</td>\n",
       "      <td>225.0</td>\n",
       "      <td>NaN</td>\n",
       "      <td>NaN</td>\n",
       "      <td>NaN</td>\n",
       "      <td>NaN</td>\n",
       "      <td>NaN</td>\n",
       "      <td>NaN</td>\n",
       "      <td>NaN</td>\n",
       "      <td>NaN</td>\n",
       "      <td>73836AK062</td>\n",
       "      <td>No</td>\n",
       "    </tr>\n",
       "    <tr>\n",
       "      <th>1400</th>\n",
       "      <td>2014</td>\n",
       "      <td>AK</td>\n",
       "      <td>73836AK0620001</td>\n",
       "      <td>Rating Area 1</td>\n",
       "      <td>No Preference</td>\n",
       "      <td>22</td>\n",
       "      <td>225.0</td>\n",
       "      <td>NaN</td>\n",
       "      <td>NaN</td>\n",
       "      <td>NaN</td>\n",
       "      <td>NaN</td>\n",
       "      <td>NaN</td>\n",
       "      <td>NaN</td>\n",
       "      <td>NaN</td>\n",
       "      <td>NaN</td>\n",
       "      <td>73836AK062</td>\n",
       "      <td>No</td>\n",
       "    </tr>\n",
       "    <tr>\n",
       "      <th>1401</th>\n",
       "      <td>2014</td>\n",
       "      <td>AK</td>\n",
       "      <td>73836AK0620001</td>\n",
       "      <td>Rating Area 1</td>\n",
       "      <td>No Preference</td>\n",
       "      <td>23</td>\n",
       "      <td>225.0</td>\n",
       "      <td>NaN</td>\n",
       "      <td>NaN</td>\n",
       "      <td>NaN</td>\n",
       "      <td>NaN</td>\n",
       "      <td>NaN</td>\n",
       "      <td>NaN</td>\n",
       "      <td>NaN</td>\n",
       "      <td>NaN</td>\n",
       "      <td>73836AK062</td>\n",
       "      <td>No</td>\n",
       "    </tr>\n",
       "    <tr>\n",
       "      <th>1402</th>\n",
       "      <td>2014</td>\n",
       "      <td>AK</td>\n",
       "      <td>73836AK0620001</td>\n",
       "      <td>Rating Area 1</td>\n",
       "      <td>No Preference</td>\n",
       "      <td>24</td>\n",
       "      <td>225.0</td>\n",
       "      <td>NaN</td>\n",
       "      <td>NaN</td>\n",
       "      <td>NaN</td>\n",
       "      <td>NaN</td>\n",
       "      <td>NaN</td>\n",
       "      <td>NaN</td>\n",
       "      <td>NaN</td>\n",
       "      <td>NaN</td>\n",
       "      <td>73836AK062</td>\n",
       "      <td>No</td>\n",
       "    </tr>\n",
       "  </tbody>\n",
       "</table>\n",
       "</div>"
      ],
      "text/plain": [
       "      BusinessYear StateCode          PlanId   RatingAreaId        Tobacco   Age  IndividualRate  IndividualTobaccoRate  Couple  PrimarySubscriberAndOneDependent  PrimarySubscriberAndTwoDependents  PrimarySubscriberAndThreeOrMoreDependents  CoupleAndOneDependent  CoupleAndTwoDependents  CoupleAndThreeOrMoreDependents HIOSProductId DentalOnlyPlan\n",
       "1398          2014        AK  73836AK0620001  Rating Area 1  No Preference  0-20           143.0                    NaN     NaN                               NaN                                NaN                                        NaN                    NaN                     NaN                             NaN    73836AK062             No\n",
       "1399          2014        AK  73836AK0620001  Rating Area 1  No Preference    21           225.0                    NaN     NaN                               NaN                                NaN                                        NaN                    NaN                     NaN                             NaN    73836AK062             No\n",
       "1400          2014        AK  73836AK0620001  Rating Area 1  No Preference    22           225.0                    NaN     NaN                               NaN                                NaN                                        NaN                    NaN                     NaN                             NaN    73836AK062             No\n",
       "1401          2014        AK  73836AK0620001  Rating Area 1  No Preference    23           225.0                    NaN     NaN                               NaN                                NaN                                        NaN                    NaN                     NaN                             NaN    73836AK062             No\n",
       "1402          2014        AK  73836AK0620001  Rating Area 1  No Preference    24           225.0                    NaN     NaN                               NaN                                NaN                                        NaN                    NaN                     NaN                             NaN    73836AK062             No"
      ]
     },
     "execution_count": 61,
     "metadata": {},
     "output_type": "execute_result"
    }
   ],
   "source": [
    "df2014_merged_nodental.head()"
   ]
  },
  {
   "cell_type": "markdown",
   "metadata": {},
   "source": [
    "Df to each file"
   ]
  },
  {
   "cell_type": "code",
   "execution_count": 62,
   "metadata": {
    "collapsed": true
   },
   "outputs": [],
   "source": [
    "df2014_merged_nodental.to_csv(\"Rates2014.csv\")"
   ]
  },
  {
   "cell_type": "code",
   "execution_count": 63,
   "metadata": {
    "collapsed": true
   },
   "outputs": [],
   "source": [
    "df2015_merged = pd.merge(df2015, dental_2015, on='HIOSProductId',how='inner', sort=False)"
   ]
  },
  {
   "cell_type": "code",
   "execution_count": 64,
   "metadata": {
    "collapsed": true
   },
   "outputs": [],
   "source": [
    "df2015_cleaned = df2015_merged.drop_duplicates().reset_index(drop=True)"
   ]
  },
  {
   "cell_type": "code",
   "execution_count": 65,
   "metadata": {
    "collapsed": true
   },
   "outputs": [],
   "source": [
    "df2015_merged_nodental = df2015_cleaned[df2015_cleaned['DentalOnlyPlan'].isin(['No'])]"
   ]
  },
  {
   "cell_type": "code",
   "execution_count": 66,
   "metadata": {
    "collapsed": true
   },
   "outputs": [],
   "source": [
    "df2015_merged_nodental.to_csv(\"Rates2015.csv\")"
   ]
  },
  {
   "cell_type": "code",
   "execution_count": 67,
   "metadata": {
    "collapsed": true
   },
   "outputs": [],
   "source": [
    "df2016_merged = pd.merge(df2016, dental_2016, on='HIOSProductId',how='inner', sort=False)"
   ]
  },
  {
   "cell_type": "code",
   "execution_count": 68,
   "metadata": {
    "collapsed": true
   },
   "outputs": [],
   "source": [
    "df2016_cleaned = df2016_merged.drop_duplicates().reset_index(drop=True)"
   ]
  },
  {
   "cell_type": "code",
   "execution_count": 69,
   "metadata": {
    "collapsed": true
   },
   "outputs": [],
   "source": [
    "df2016_merged_nodental = df2016_cleaned[df2016_cleaned['DentalOnlyPlan'].isin(['No'])]"
   ]
  },
  {
   "cell_type": "code",
   "execution_count": 70,
   "metadata": {
    "collapsed": true
   },
   "outputs": [],
   "source": [
    "df2016_merged_nodental.to_csv(\"Rates2016.csv\")"
   ]
  },
  {
   "cell_type": "markdown",
   "metadata": {},
   "source": [
    "### The cleaned datasets for full health insurance plan rates (the case of Montana continued)"
   ]
  },
  {
   "cell_type": "markdown",
   "metadata": {},
   "source": [
    "Now that we have removed all the dental-only plans, we can actually have a look at the distribution of plan rates in Montana"
   ]
  },
  {
   "cell_type": "code",
   "execution_count": 71,
   "metadata": {},
   "outputs": [
    {
     "data": {
      "text/plain": [
       "(40618,)"
      ]
     },
     "execution_count": 71,
     "metadata": {},
     "output_type": "execute_result"
    }
   ],
   "source": [
    "Ids_mo = df2014_mo.PlanId\n",
    "mod_Ids_mo = [x[:-4] for x in Ids_mo]\n",
    "len(set(mod_Ids_mo))\n",
    "Ids_mo.shape"
   ]
  },
  {
   "cell_type": "code",
   "execution_count": 72,
   "metadata": {
    "scrolled": true
   },
   "outputs": [
    {
     "data": {
      "text/plain": [
       "set()"
      ]
     },
     "execution_count": 72,
     "metadata": {},
     "output_type": "execute_result"
    }
   ],
   "source": [
    "mod_Ids_mo = ['19312TX001' if x=='19312TZ001' else x for x in mod_Ids_mo]\n",
    "set(mod_Ids_mo)-set(dental['HIOSProductId'].unique())"
   ]
  },
  {
   "cell_type": "code",
   "execution_count": 73,
   "metadata": {
    "collapsed": true
   },
   "outputs": [],
   "source": [
    "df2014_mo.loc[:,'HIOSProductId']= mod_Ids_mo"
   ]
  },
  {
   "cell_type": "code",
   "execution_count": 74,
   "metadata": {},
   "outputs": [
    {
     "data": {
      "text/html": [
       "<div>\n",
       "<style>\n",
       "    .dataframe thead tr:only-child th {\n",
       "        text-align: right;\n",
       "    }\n",
       "\n",
       "    .dataframe thead th {\n",
       "        text-align: left;\n",
       "    }\n",
       "\n",
       "    .dataframe tbody tr th {\n",
       "        vertical-align: top;\n",
       "    }\n",
       "</style>\n",
       "<table border=\"1\" class=\"dataframe\">\n",
       "  <thead>\n",
       "    <tr style=\"text-align: right;\">\n",
       "      <th></th>\n",
       "      <th>BusinessYear</th>\n",
       "      <th>StateCode</th>\n",
       "      <th>PlanId</th>\n",
       "      <th>RatingAreaId</th>\n",
       "      <th>Tobacco</th>\n",
       "      <th>Age</th>\n",
       "      <th>IndividualRate</th>\n",
       "      <th>IndividualTobaccoRate</th>\n",
       "      <th>Couple</th>\n",
       "      <th>PrimarySubscriberAndOneDependent</th>\n",
       "      <th>PrimarySubscriberAndTwoDependents</th>\n",
       "      <th>PrimarySubscriberAndThreeOrMoreDependents</th>\n",
       "      <th>CoupleAndOneDependent</th>\n",
       "      <th>CoupleAndTwoDependents</th>\n",
       "      <th>CoupleAndThreeOrMoreDependents</th>\n",
       "      <th>HIOSProductId</th>\n",
       "    </tr>\n",
       "  </thead>\n",
       "  <tbody>\n",
       "    <tr>\n",
       "      <th>1289292</th>\n",
       "      <td>2014</td>\n",
       "      <td>MO</td>\n",
       "      <td>29416MO0010001</td>\n",
       "      <td>Rating Area 1</td>\n",
       "      <td>No Preference</td>\n",
       "      <td>0-20</td>\n",
       "      <td>24.48</td>\n",
       "      <td>NaN</td>\n",
       "      <td>NaN</td>\n",
       "      <td>NaN</td>\n",
       "      <td>NaN</td>\n",
       "      <td>NaN</td>\n",
       "      <td>NaN</td>\n",
       "      <td>NaN</td>\n",
       "      <td>NaN</td>\n",
       "      <td>29416MO001</td>\n",
       "    </tr>\n",
       "    <tr>\n",
       "      <th>1289293</th>\n",
       "      <td>2014</td>\n",
       "      <td>MO</td>\n",
       "      <td>29416MO0010002</td>\n",
       "      <td>Rating Area 1</td>\n",
       "      <td>No Preference</td>\n",
       "      <td>0-20</td>\n",
       "      <td>20.12</td>\n",
       "      <td>NaN</td>\n",
       "      <td>NaN</td>\n",
       "      <td>NaN</td>\n",
       "      <td>NaN</td>\n",
       "      <td>NaN</td>\n",
       "      <td>NaN</td>\n",
       "      <td>NaN</td>\n",
       "      <td>NaN</td>\n",
       "      <td>29416MO001</td>\n",
       "    </tr>\n",
       "    <tr>\n",
       "      <th>1289294</th>\n",
       "      <td>2014</td>\n",
       "      <td>MO</td>\n",
       "      <td>29416MO0020001</td>\n",
       "      <td>Rating Area 1</td>\n",
       "      <td>No Preference</td>\n",
       "      <td>0-20</td>\n",
       "      <td>30.61</td>\n",
       "      <td>NaN</td>\n",
       "      <td>NaN</td>\n",
       "      <td>NaN</td>\n",
       "      <td>NaN</td>\n",
       "      <td>NaN</td>\n",
       "      <td>NaN</td>\n",
       "      <td>NaN</td>\n",
       "      <td>NaN</td>\n",
       "      <td>29416MO002</td>\n",
       "    </tr>\n",
       "    <tr>\n",
       "      <th>1289295</th>\n",
       "      <td>2014</td>\n",
       "      <td>MO</td>\n",
       "      <td>29416MO0020002</td>\n",
       "      <td>Rating Area 1</td>\n",
       "      <td>No Preference</td>\n",
       "      <td>0-20</td>\n",
       "      <td>25.15</td>\n",
       "      <td>NaN</td>\n",
       "      <td>NaN</td>\n",
       "      <td>NaN</td>\n",
       "      <td>NaN</td>\n",
       "      <td>NaN</td>\n",
       "      <td>NaN</td>\n",
       "      <td>NaN</td>\n",
       "      <td>NaN</td>\n",
       "      <td>29416MO002</td>\n",
       "    </tr>\n",
       "    <tr>\n",
       "      <th>1289296</th>\n",
       "      <td>2014</td>\n",
       "      <td>MO</td>\n",
       "      <td>29416MO0010003</td>\n",
       "      <td>Rating Area 1</td>\n",
       "      <td>No Preference</td>\n",
       "      <td>Family Option</td>\n",
       "      <td>26.37</td>\n",
       "      <td>NaN</td>\n",
       "      <td>52.74</td>\n",
       "      <td>50.89</td>\n",
       "      <td>75.42</td>\n",
       "      <td>109.75</td>\n",
       "      <td>77.26</td>\n",
       "      <td>101.79</td>\n",
       "      <td>136.12</td>\n",
       "      <td>29416MO001</td>\n",
       "    </tr>\n",
       "  </tbody>\n",
       "</table>\n",
       "</div>"
      ],
      "text/plain": [
       "         BusinessYear StateCode          PlanId   RatingAreaId        Tobacco            Age  IndividualRate  IndividualTobaccoRate  Couple  PrimarySubscriberAndOneDependent  PrimarySubscriberAndTwoDependents  PrimarySubscriberAndThreeOrMoreDependents  CoupleAndOneDependent  CoupleAndTwoDependents  CoupleAndThreeOrMoreDependents HIOSProductId\n",
       "1289292          2014        MO  29416MO0010001  Rating Area 1  No Preference           0-20           24.48                    NaN     NaN                               NaN                                NaN                                        NaN                    NaN                     NaN                             NaN    29416MO001\n",
       "1289293          2014        MO  29416MO0010002  Rating Area 1  No Preference           0-20           20.12                    NaN     NaN                               NaN                                NaN                                        NaN                    NaN                     NaN                             NaN    29416MO001\n",
       "1289294          2014        MO  29416MO0020001  Rating Area 1  No Preference           0-20           30.61                    NaN     NaN                               NaN                                NaN                                        NaN                    NaN                     NaN                             NaN    29416MO002\n",
       "1289295          2014        MO  29416MO0020002  Rating Area 1  No Preference           0-20           25.15                    NaN     NaN                               NaN                                NaN                                        NaN                    NaN                     NaN                             NaN    29416MO002\n",
       "1289296          2014        MO  29416MO0010003  Rating Area 1  No Preference  Family Option           26.37                    NaN   52.74                             50.89                              75.42                                     109.75                  77.26                  101.79                          136.12    29416MO001"
      ]
     },
     "execution_count": 74,
     "metadata": {},
     "output_type": "execute_result"
    }
   ],
   "source": [
    "df2014_mo.head()"
   ]
  },
  {
   "cell_type": "code",
   "execution_count": 75,
   "metadata": {},
   "outputs": [
    {
     "data": {
      "text/plain": [
       "(73, 73, 3497)"
      ]
     },
     "execution_count": 75,
     "metadata": {},
     "output_type": "execute_result"
    }
   ],
   "source": [
    "len(set(mod_Ids_mo)), len(set(df2014_mo['HIOSProductId'])), len(set(dental_diet['HIOSProductId']))"
   ]
  },
  {
   "cell_type": "code",
   "execution_count": 76,
   "metadata": {},
   "outputs": [
    {
     "data": {
      "text/plain": [
       "77353"
      ]
     },
     "execution_count": 76,
     "metadata": {},
     "output_type": "execute_result"
    }
   ],
   "source": [
    "not_in_mo = set(dental_diet['HIOSProductId'])-set(df2014_mo['HIOSProductId'])\n",
    "exclude_list = dental_diet['HIOSProductId'].isin(not_in_mo)\n",
    "len(exclude_list)"
   ]
  },
  {
   "cell_type": "code",
   "execution_count": 77,
   "metadata": {},
   "outputs": [
    {
     "data": {
      "text/html": [
       "<div>\n",
       "<style>\n",
       "    .dataframe thead tr:only-child th {\n",
       "        text-align: right;\n",
       "    }\n",
       "\n",
       "    .dataframe thead th {\n",
       "        text-align: left;\n",
       "    }\n",
       "\n",
       "    .dataframe tbody tr th {\n",
       "        vertical-align: top;\n",
       "    }\n",
       "</style>\n",
       "<table border=\"1\" class=\"dataframe\">\n",
       "  <thead>\n",
       "    <tr style=\"text-align: right;\">\n",
       "      <th></th>\n",
       "      <th>HIOSProductId</th>\n",
       "      <th>DentalOnlyPlan</th>\n",
       "    </tr>\n",
       "  </thead>\n",
       "  <tbody>\n",
       "    <tr>\n",
       "      <th>0</th>\n",
       "      <td>32753MO077</td>\n",
       "      <td>No</td>\n",
       "    </tr>\n",
       "    <tr>\n",
       "      <th>1</th>\n",
       "      <td>32753MO081</td>\n",
       "      <td>Yes</td>\n",
       "    </tr>\n",
       "    <tr>\n",
       "      <th>2</th>\n",
       "      <td>32753MO084</td>\n",
       "      <td>Yes</td>\n",
       "    </tr>\n",
       "    <tr>\n",
       "      <th>3</th>\n",
       "      <td>44527MO015</td>\n",
       "      <td>No</td>\n",
       "    </tr>\n",
       "    <tr>\n",
       "      <th>4</th>\n",
       "      <td>44527MO016</td>\n",
       "      <td>No</td>\n",
       "    </tr>\n",
       "  </tbody>\n",
       "</table>\n",
       "</div>"
      ],
      "text/plain": [
       "  HIOSProductId DentalOnlyPlan\n",
       "0    32753MO077             No\n",
       "1    32753MO081            Yes\n",
       "2    32753MO084            Yes\n",
       "3    44527MO015             No\n",
       "4    44527MO016             No"
      ]
     },
     "execution_count": 77,
     "metadata": {},
     "output_type": "execute_result"
    }
   ],
   "source": [
    "dental_mo = dental_diet[~exclude_list].drop_duplicates().reset_index(drop=True)\n",
    "\n",
    "dental_mo.head()"
   ]
  },
  {
   "cell_type": "code",
   "execution_count": 78,
   "metadata": {},
   "outputs": [
    {
     "data": {
      "text/html": [
       "<div>\n",
       "<style>\n",
       "    .dataframe thead tr:only-child th {\n",
       "        text-align: right;\n",
       "    }\n",
       "\n",
       "    .dataframe thead th {\n",
       "        text-align: left;\n",
       "    }\n",
       "\n",
       "    .dataframe tbody tr th {\n",
       "        vertical-align: top;\n",
       "    }\n",
       "</style>\n",
       "<table border=\"1\" class=\"dataframe\">\n",
       "  <thead>\n",
       "    <tr style=\"text-align: right;\">\n",
       "      <th></th>\n",
       "      <th>BusinessYear</th>\n",
       "      <th>StateCode</th>\n",
       "      <th>PlanId</th>\n",
       "      <th>RatingAreaId</th>\n",
       "      <th>Tobacco</th>\n",
       "      <th>Age</th>\n",
       "      <th>IndividualRate</th>\n",
       "      <th>IndividualTobaccoRate</th>\n",
       "      <th>Couple</th>\n",
       "      <th>PrimarySubscriberAndOneDependent</th>\n",
       "      <th>PrimarySubscriberAndTwoDependents</th>\n",
       "      <th>PrimarySubscriberAndThreeOrMoreDependents</th>\n",
       "      <th>CoupleAndOneDependent</th>\n",
       "      <th>CoupleAndTwoDependents</th>\n",
       "      <th>CoupleAndThreeOrMoreDependents</th>\n",
       "      <th>HIOSProductId</th>\n",
       "    </tr>\n",
       "  </thead>\n",
       "  <tbody>\n",
       "    <tr>\n",
       "      <th>2538347</th>\n",
       "      <td>2014</td>\n",
       "      <td>MO</td>\n",
       "      <td>32753MO0930002</td>\n",
       "      <td>Rating Area 10</td>\n",
       "      <td>Tobacco User/Non-Tobacco User</td>\n",
       "      <td>61</td>\n",
       "      <td>1096.43</td>\n",
       "      <td>1370.52</td>\n",
       "      <td>NaN</td>\n",
       "      <td>NaN</td>\n",
       "      <td>NaN</td>\n",
       "      <td>NaN</td>\n",
       "      <td>NaN</td>\n",
       "      <td>NaN</td>\n",
       "      <td>NaN</td>\n",
       "      <td>32753MO093</td>\n",
       "    </tr>\n",
       "    <tr>\n",
       "      <th>2538348</th>\n",
       "      <td>2014</td>\n",
       "      <td>MO</td>\n",
       "      <td>32753MO0930002</td>\n",
       "      <td>Rating Area 10</td>\n",
       "      <td>Tobacco User/Non-Tobacco User</td>\n",
       "      <td>62</td>\n",
       "      <td>1121.02</td>\n",
       "      <td>1401.25</td>\n",
       "      <td>NaN</td>\n",
       "      <td>NaN</td>\n",
       "      <td>NaN</td>\n",
       "      <td>NaN</td>\n",
       "      <td>NaN</td>\n",
       "      <td>NaN</td>\n",
       "      <td>NaN</td>\n",
       "      <td>32753MO093</td>\n",
       "    </tr>\n",
       "    <tr>\n",
       "      <th>2538349</th>\n",
       "      <td>2014</td>\n",
       "      <td>MO</td>\n",
       "      <td>32753MO0930002</td>\n",
       "      <td>Rating Area 10</td>\n",
       "      <td>Tobacco User/Non-Tobacco User</td>\n",
       "      <td>63</td>\n",
       "      <td>1151.84</td>\n",
       "      <td>1439.78</td>\n",
       "      <td>NaN</td>\n",
       "      <td>NaN</td>\n",
       "      <td>NaN</td>\n",
       "      <td>NaN</td>\n",
       "      <td>NaN</td>\n",
       "      <td>NaN</td>\n",
       "      <td>NaN</td>\n",
       "      <td>32753MO093</td>\n",
       "    </tr>\n",
       "    <tr>\n",
       "      <th>2538350</th>\n",
       "      <td>2014</td>\n",
       "      <td>MO</td>\n",
       "      <td>32753MO0930002</td>\n",
       "      <td>Rating Area 10</td>\n",
       "      <td>Tobacco User/Non-Tobacco User</td>\n",
       "      <td>64</td>\n",
       "      <td>1170.57</td>\n",
       "      <td>1463.19</td>\n",
       "      <td>NaN</td>\n",
       "      <td>NaN</td>\n",
       "      <td>NaN</td>\n",
       "      <td>NaN</td>\n",
       "      <td>NaN</td>\n",
       "      <td>NaN</td>\n",
       "      <td>NaN</td>\n",
       "      <td>32753MO093</td>\n",
       "    </tr>\n",
       "    <tr>\n",
       "      <th>2538351</th>\n",
       "      <td>2014</td>\n",
       "      <td>MO</td>\n",
       "      <td>32753MO0930002</td>\n",
       "      <td>Rating Area 10</td>\n",
       "      <td>Tobacco User/Non-Tobacco User</td>\n",
       "      <td>65 and over</td>\n",
       "      <td>1170.57</td>\n",
       "      <td>1463.19</td>\n",
       "      <td>NaN</td>\n",
       "      <td>NaN</td>\n",
       "      <td>NaN</td>\n",
       "      <td>NaN</td>\n",
       "      <td>NaN</td>\n",
       "      <td>NaN</td>\n",
       "      <td>NaN</td>\n",
       "      <td>32753MO093</td>\n",
       "    </tr>\n",
       "  </tbody>\n",
       "</table>\n",
       "</div>"
      ],
      "text/plain": [
       "         BusinessYear StateCode          PlanId    RatingAreaId                        Tobacco          Age  IndividualRate  IndividualTobaccoRate  Couple  PrimarySubscriberAndOneDependent  PrimarySubscriberAndTwoDependents  PrimarySubscriberAndThreeOrMoreDependents  CoupleAndOneDependent  CoupleAndTwoDependents  CoupleAndThreeOrMoreDependents HIOSProductId\n",
       "2538347          2014        MO  32753MO0930002  Rating Area 10  Tobacco User/Non-Tobacco User           61         1096.43                1370.52     NaN                               NaN                                NaN                                        NaN                    NaN                     NaN                             NaN    32753MO093\n",
       "2538348          2014        MO  32753MO0930002  Rating Area 10  Tobacco User/Non-Tobacco User           62         1121.02                1401.25     NaN                               NaN                                NaN                                        NaN                    NaN                     NaN                             NaN    32753MO093\n",
       "2538349          2014        MO  32753MO0930002  Rating Area 10  Tobacco User/Non-Tobacco User           63         1151.84                1439.78     NaN                               NaN                                NaN                                        NaN                    NaN                     NaN                             NaN    32753MO093\n",
       "2538350          2014        MO  32753MO0930002  Rating Area 10  Tobacco User/Non-Tobacco User           64         1170.57                1463.19     NaN                               NaN                                NaN                                        NaN                    NaN                     NaN                             NaN    32753MO093\n",
       "2538351          2014        MO  32753MO0930002  Rating Area 10  Tobacco User/Non-Tobacco User  65 and over         1170.57                1463.19     NaN                               NaN                                NaN                                        NaN                    NaN                     NaN                             NaN    32753MO093"
      ]
     },
     "execution_count": 78,
     "metadata": {},
     "output_type": "execute_result"
    }
   ],
   "source": [
    "df2014_mo.tail()"
   ]
  },
  {
   "cell_type": "code",
   "execution_count": 79,
   "metadata": {
    "collapsed": true
   },
   "outputs": [],
   "source": [
    "df2014_mo_merged = pd.merge(df2014_mo, dental_mo, left_on='HIOSProductId', right_on='HIOSProductId', how='inner', sort=False)"
   ]
  },
  {
   "cell_type": "code",
   "execution_count": 80,
   "metadata": {},
   "outputs": [
    {
     "data": {
      "text/plain": [
       "(40618, 17)"
      ]
     },
     "execution_count": 80,
     "metadata": {},
     "output_type": "execute_result"
    }
   ],
   "source": [
    "df2014_mo_merged.shape"
   ]
  },
  {
   "cell_type": "code",
   "execution_count": 81,
   "metadata": {
    "collapsed": true
   },
   "outputs": [],
   "source": [
    "df2014_mo_cleaned = df2014_mo_merged.drop_duplicates().reset_index(drop=True)"
   ]
  },
  {
   "cell_type": "code",
   "execution_count": 82,
   "metadata": {},
   "outputs": [
    {
     "data": {
      "text/plain": [
       "(40618, 17)"
      ]
     },
     "execution_count": 82,
     "metadata": {},
     "output_type": "execute_result"
    }
   ],
   "source": [
    "df2014_mo_cleaned.shape"
   ]
  },
  {
   "cell_type": "code",
   "execution_count": 83,
   "metadata": {
    "collapsed": true
   },
   "outputs": [],
   "source": [
    "df2014_mo_merged_nodental = df2014_mo_cleaned[df2014_mo_cleaned['DentalOnlyPlan'].isin(['No'])]"
   ]
  },
  {
   "cell_type": "code",
   "execution_count": 85,
   "metadata": {},
   "outputs": [
    {
     "data": {
      "text/plain": [
       "(12788, 17)"
      ]
     },
     "execution_count": 85,
     "metadata": {},
     "output_type": "execute_result"
    }
   ],
   "source": [
    "df2014_mo_merged_nodental.shape"
   ]
  },
  {
   "cell_type": "markdown",
   "metadata": {},
   "source": [
    "Clean..excited to see the clean distribution of plan rates:"
   ]
  },
  {
   "cell_type": "code",
   "execution_count": 86,
   "metadata": {},
   "outputs": [
    {
     "data": {
      "text/plain": [
       "<matplotlib.axes._subplots.AxesSubplot at 0x16afdc08940>"
      ]
     },
     "execution_count": 86,
     "metadata": {},
     "output_type": "execute_result"
    },
    {
     "data": {
      "image/png": "[encoded data removed]",
      "text/plain": [
       "<matplotlib.figure.Figure at 0x16ac4ee0470>"
      ]
     },
     "metadata": {},
     "output_type": "display_data"
    }
   ],
   "source": [
    "df2014_mo_merged_nodental['IndividualRate'].plot.hist(50)"
   ]
  },
  {
   "cell_type": "markdown",
   "metadata": {},
   "source": [
    "Calculating  the median of this asymmetric distribution"
   ]
  },
  {
   "cell_type": "code",
   "execution_count": 87,
   "metadata": {
    "scrolled": true
   },
   "outputs": [
    {
     "data": {
      "text/plain": [
       "343.015"
      ]
     },
     "execution_count": 87,
     "metadata": {},
     "output_type": "execute_result"
    }
   ],
   "source": [
    "df2014_mo_merged_nodental['IndividualRate'].median()"
   ]
  },
  {
   "cell_type": "markdown",
   "metadata": {},
   "source": [
    "*** Observation 7 ***: The median monthly premium in 2014 in Montana was about $340. That's a reasonable number!"
   ]
  },
  {
   "cell_type": "markdown",
   "metadata": {},
   "source": [
    "##  Data Cleaning Phase Completed.Actual Analysis Phase"
   ]
  },
  {
   "cell_type": "markdown",
   "metadata": {},
   "source": [
    "Breaking the whole dataset down by year to see some trends on the individual types of rates."
   ]
  },
  {
   "cell_type": "markdown",
   "metadata": {},
   "source": [
    "Reading the cleaned dataframes"
   ]
  },
  {
   "cell_type": "code",
   "execution_count": 88,
   "metadata": {
    "collapsed": true
   },
   "outputs": [],
   "source": [
    "df2014 = pd.read_csv(\"Rates2014.csv\")\n",
    "df2015 = pd.read_csv(\"Rates2015.csv\")\n",
    "df2016 = pd.read_csv(\"Rates2016.csv\")"
   ]
  },
  {
   "cell_type": "code",
   "execution_count": 89,
   "metadata": {
    "scrolled": true
   },
   "outputs": [
    {
     "data": {
      "text/html": [
       "<div>\n",
       "<style>\n",
       "    .dataframe thead tr:only-child th {\n",
       "        text-align: right;\n",
       "    }\n",
       "\n",
       "    .dataframe thead th {\n",
       "        text-align: left;\n",
       "    }\n",
       "\n",
       "    .dataframe tbody tr th {\n",
       "        vertical-align: top;\n",
       "    }\n",
       "</style>\n",
       "<table border=\"1\" class=\"dataframe\">\n",
       "  <thead>\n",
       "    <tr style=\"text-align: right;\">\n",
       "      <th></th>\n",
       "      <th>Unnamed: 0</th>\n",
       "      <th>BusinessYear</th>\n",
       "      <th>IndividualRate</th>\n",
       "      <th>IndividualTobaccoRate</th>\n",
       "      <th>Couple</th>\n",
       "      <th>PrimarySubscriberAndOneDependent</th>\n",
       "      <th>PrimarySubscriberAndTwoDependents</th>\n",
       "      <th>PrimarySubscriberAndThreeOrMoreDependents</th>\n",
       "      <th>CoupleAndOneDependent</th>\n",
       "      <th>CoupleAndTwoDependents</th>\n",
       "      <th>CoupleAndThreeOrMoreDependents</th>\n",
       "    </tr>\n",
       "  </thead>\n",
       "  <tbody>\n",
       "    <tr>\n",
       "      <th>count</th>\n",
       "      <td>2.370659e+06</td>\n",
       "      <td>2370659.0</td>\n",
       "      <td>2.370659e+06</td>\n",
       "      <td>1.601995e+06</td>\n",
       "      <td>0.0</td>\n",
       "      <td>0.0</td>\n",
       "      <td>0.0</td>\n",
       "      <td>0.0</td>\n",
       "      <td>0.0</td>\n",
       "      <td>0.0</td>\n",
       "      <td>0.0</td>\n",
       "    </tr>\n",
       "    <tr>\n",
       "      <th>mean</th>\n",
       "      <td>1.870614e+06</td>\n",
       "      <td>2014.0</td>\n",
       "      <td>4.524658e+02</td>\n",
       "      <td>5.601592e+02</td>\n",
       "      <td>NaN</td>\n",
       "      <td>NaN</td>\n",
       "      <td>NaN</td>\n",
       "      <td>NaN</td>\n",
       "      <td>NaN</td>\n",
       "      <td>NaN</td>\n",
       "      <td>NaN</td>\n",
       "    </tr>\n",
       "    <tr>\n",
       "      <th>std</th>\n",
       "      <td>1.066630e+06</td>\n",
       "      <td>0.0</td>\n",
       "      <td>2.468284e+02</td>\n",
       "      <td>3.345296e+02</td>\n",
       "      <td>NaN</td>\n",
       "      <td>NaN</td>\n",
       "      <td>NaN</td>\n",
       "      <td>NaN</td>\n",
       "      <td>NaN</td>\n",
       "      <td>NaN</td>\n",
       "      <td>NaN</td>\n",
       "    </tr>\n",
       "    <tr>\n",
       "      <th>min</th>\n",
       "      <td>1.398000e+03</td>\n",
       "      <td>2014.0</td>\n",
       "      <td>4.907000e+01</td>\n",
       "      <td>5.566000e+01</td>\n",
       "      <td>NaN</td>\n",
       "      <td>NaN</td>\n",
       "      <td>NaN</td>\n",
       "      <td>NaN</td>\n",
       "      <td>NaN</td>\n",
       "      <td>NaN</td>\n",
       "      <td>NaN</td>\n",
       "    </tr>\n",
       "    <tr>\n",
       "      <th>25%</th>\n",
       "      <td>1.055422e+06</td>\n",
       "      <td>2014.0</td>\n",
       "      <td>2.902200e+02</td>\n",
       "      <td>3.412000e+02</td>\n",
       "      <td>NaN</td>\n",
       "      <td>NaN</td>\n",
       "      <td>NaN</td>\n",
       "      <td>NaN</td>\n",
       "      <td>NaN</td>\n",
       "      <td>NaN</td>\n",
       "      <td>NaN</td>\n",
       "    </tr>\n",
       "    <tr>\n",
       "      <th>50%</th>\n",
       "      <td>1.815117e+06</td>\n",
       "      <td>2014.0</td>\n",
       "      <td>3.872100e+02</td>\n",
       "      <td>4.759600e+02</td>\n",
       "      <td>NaN</td>\n",
       "      <td>NaN</td>\n",
       "      <td>NaN</td>\n",
       "      <td>NaN</td>\n",
       "      <td>NaN</td>\n",
       "      <td>NaN</td>\n",
       "      <td>NaN</td>\n",
       "    </tr>\n",
       "    <tr>\n",
       "      <th>75%</th>\n",
       "      <td>2.754092e+06</td>\n",
       "      <td>2014.0</td>\n",
       "      <td>5.610200e+02</td>\n",
       "      <td>6.953100e+02</td>\n",
       "      <td>NaN</td>\n",
       "      <td>NaN</td>\n",
       "      <td>NaN</td>\n",
       "      <td>NaN</td>\n",
       "      <td>NaN</td>\n",
       "      <td>NaN</td>\n",
       "      <td>NaN</td>\n",
       "    </tr>\n",
       "    <tr>\n",
       "      <th>max</th>\n",
       "      <td>3.656258e+06</td>\n",
       "      <td>2014.0</td>\n",
       "      <td>5.503850e+03</td>\n",
       "      <td>6.604610e+03</td>\n",
       "      <td>NaN</td>\n",
       "      <td>NaN</td>\n",
       "      <td>NaN</td>\n",
       "      <td>NaN</td>\n",
       "      <td>NaN</td>\n",
       "      <td>NaN</td>\n",
       "      <td>NaN</td>\n",
       "    </tr>\n",
       "  </tbody>\n",
       "</table>\n",
       "</div>"
      ],
      "text/plain": [
       "         Unnamed: 0  BusinessYear  IndividualRate  IndividualTobaccoRate  Couple  PrimarySubscriberAndOneDependent  PrimarySubscriberAndTwoDependents  PrimarySubscriberAndThreeOrMoreDependents  CoupleAndOneDependent  CoupleAndTwoDependents  CoupleAndThreeOrMoreDependents\n",
       "count  2.370659e+06     2370659.0    2.370659e+06           1.601995e+06     0.0                               0.0                                0.0                                        0.0                    0.0                     0.0                             0.0\n",
       "mean   1.870614e+06        2014.0    4.524658e+02           5.601592e+02     NaN                               NaN                                NaN                                        NaN                    NaN                     NaN                             NaN\n",
       "std    1.066630e+06           0.0    2.468284e+02           3.345296e+02     NaN                               NaN                                NaN                                        NaN                    NaN                     NaN                             NaN\n",
       "min    1.398000e+03        2014.0    4.907000e+01           5.566000e+01     NaN                               NaN                                NaN                                        NaN                    NaN                     NaN                             NaN\n",
       "25%    1.055422e+06        2014.0    2.902200e+02           3.412000e+02     NaN                               NaN                                NaN                                        NaN                    NaN                     NaN                             NaN\n",
       "50%    1.815117e+06        2014.0    3.872100e+02           4.759600e+02     NaN                               NaN                                NaN                                        NaN                    NaN                     NaN                             NaN\n",
       "75%    2.754092e+06        2014.0    5.610200e+02           6.953100e+02     NaN                               NaN                                NaN                                        NaN                    NaN                     NaN                             NaN\n",
       "max    3.656258e+06        2014.0    5.503850e+03           6.604610e+03     NaN                               NaN                                NaN                                        NaN                    NaN                     NaN                             NaN"
      ]
     },
     "execution_count": 89,
     "metadata": {},
     "output_type": "execute_result"
    }
   ],
   "source": [
    "df2014.describe()"
   ]
  },
  {
   "cell_type": "markdown",
   "metadata": {},
   "source": [
    "***Observation 8 ***: All the couple and family rates were dental-only plans. Maybe that was clear to anyone else. "
   ]
  },
  {
   "cell_type": "code",
   "execution_count": 96,
   "metadata": {
    "scrolled": true
   },
   "outputs": [
    {
     "data": {
      "text/plain": [
       "Unnamed: 0                                   1815117.00\n",
       "BusinessYear                                    2014.00\n",
       "IndividualRate                                   387.21\n",
       "IndividualTobaccoRate                            475.96\n",
       "Couple                                              NaN\n",
       "PrimarySubscriberAndOneDependent                    NaN\n",
       "PrimarySubscriberAndTwoDependents                   NaN\n",
       "PrimarySubscriberAndThreeOrMoreDependents           NaN\n",
       "CoupleAndOneDependent                               NaN\n",
       "CoupleAndTwoDependents                              NaN\n",
       "CoupleAndThreeOrMoreDependents                      NaN\n",
       "dtype: float64"
      ]
     },
     "execution_count": 96,
     "metadata": {},
     "output_type": "execute_result"
    }
   ],
   "source": [
    "df2014.median(numeric_only=True)"
   ]
  },
  {
   "cell_type": "markdown",
   "metadata": {},
   "source": [
    "Comparing smoker and non-smoker rates then! We can start with simple statistics such as median, mean and standard deviation"
   ]
  },
  {
   "cell_type": "code",
   "execution_count": 97,
   "metadata": {
    "collapsed": true
   },
   "outputs": [],
   "source": [
    "dfmedian2014 = df2014[['IndividualRate','IndividualTobaccoRate']].median(numeric_only=True)\n",
    "dfmedian2015 = df2015[['IndividualRate','IndividualTobaccoRate']].median(numeric_only=True)\n",
    "dfmedian2016 = df2016[['IndividualRate','IndividualTobaccoRate']].median(numeric_only=True)\n",
    "dfmean2014 = df2014[['IndividualRate','IndividualTobaccoRate']].mean(numeric_only=True)\n",
    "dfmean2015 = df2015[['IndividualRate','IndividualTobaccoRate']].mean(numeric_only=True)\n",
    "dfmean2016 = df2016[['IndividualRate','IndividualTobaccoRate']].mean(numeric_only=True)\n",
    "dfstd2014 = df2014[['IndividualRate','IndividualTobaccoRate']].std(numeric_only=True)\n",
    "dfstd2015 = df2015[['IndividualRate','IndividualTobaccoRate']].std(numeric_only=True)\n",
    "dfstd2016 = df2016[['IndividualRate','IndividualTobaccoRate']].std(numeric_only=True)"
   ]
  },
  {
   "cell_type": "markdown",
   "metadata": {},
   "source": [
    "Combining these statistics in dataframes. This will enable us to plot them conveniently with Pandas and Seaborn."
   ]
  },
  {
   "cell_type": "code",
   "execution_count": 98,
   "metadata": {},
   "outputs": [
    {
     "data": {
      "text/html": [
       "<div>\n",
       "<style>\n",
       "    .dataframe thead tr:only-child th {\n",
       "        text-align: right;\n",
       "    }\n",
       "\n",
       "    .dataframe thead th {\n",
       "        text-align: left;\n",
       "    }\n",
       "\n",
       "    .dataframe tbody tr th {\n",
       "        vertical-align: top;\n",
       "    }\n",
       "</style>\n",
       "<table border=\"1\" class=\"dataframe\">\n",
       "  <thead>\n",
       "    <tr style=\"text-align: right;\">\n",
       "      <th></th>\n",
       "      <th>2014</th>\n",
       "      <th>2015</th>\n",
       "      <th>2016</th>\n",
       "    </tr>\n",
       "  </thead>\n",
       "  <tbody>\n",
       "    <tr>\n",
       "      <th>IndividualRate</th>\n",
       "      <td>246.828415</td>\n",
       "      <td>229.156813</td>\n",
       "      <td>237.808886</td>\n",
       "    </tr>\n",
       "    <tr>\n",
       "      <th>IndividualTobaccoRate</th>\n",
       "      <td>334.529592</td>\n",
       "      <td>272.904169</td>\n",
       "      <td>272.979168</td>\n",
       "    </tr>\n",
       "  </tbody>\n",
       "</table>\n",
       "</div>"
      ],
      "text/plain": [
       "                             2014        2015        2016\n",
       "IndividualRate         246.828415  229.156813  237.808886\n",
       "IndividualTobaccoRate  334.529592  272.904169  272.979168"
      ]
     },
     "execution_count": 98,
     "metadata": {},
     "output_type": "execute_result"
    }
   ],
   "source": [
    "dfmedians = pd.concat([dfmedian2014,dfmedian2015,dfmedian2016], keys=['2014', '2015', '2016'], axis=1)\n",
    "dfmeans = pd.concat([dfmean2014,dfmean2015,dfmean2016], keys=['2014', '2015', '2016'], axis=1)\n",
    "dfstd = pd.concat([dfstd2014,dfstd2015,dfstd2016], keys=['2014', '2015', '2016'], axis=1)\n",
    "dfstd"
   ]
  },
  {
   "cell_type": "markdown",
   "metadata": {},
   "source": [
    "The standard deviation of the plan rates is quite high, and it's not really what I was interested in. We want to compare the medians of the plan rates for different categories. I would like to know how sensitive this statistic is to the sampling of the distribution function of plan rates. We can estimate that with bootstrapping:  "
   ]
  },
  {
   "cell_type": "markdown",
   "metadata": {},
   "source": [
    "We can use these uncertainties now to see if there has been a significant increase in the median prize rates between 2014 and 2016."
   ]
  },
  {
   "cell_type": "code",
   "execution_count": 105,
   "metadata": {
    "scrolled": false
   },
   "outputs": [
    {
     "data": {
      "text/plain": [
       "<matplotlib.figure.Figure at 0x16b07dc63c8>"
      ]
     },
     "metadata": {},
     "output_type": "display_data"
    },
    {
     "data": {
      "image/png": "[encoded data removed]",
      "text/plain": [
       "<matplotlib.figure.Figure at 0x16b07dd2390>"
      ]
     },
     "metadata": {},
     "output_type": "display_data"
    }
   ],
   "source": [
    "fig = plt.figure(figsize=(6, 6))\n",
    "\n",
    "ax = dfmeans.plot.bar(yerr=dfstd, rot=0, colormap='YlOrBr_r')\n",
    "ax.set_ylabel(\"Median monthly rate in USD\")\n",
    "ax.set_xlabel(\"\")\n",
    "\n",
    "# Customize x tick lables\n",
    "labels = ['Non-smoker', 'Smoker']\n",
    "xticks = [0,1]\n",
    "ax.xaxis.set_ticks(xticks)\n",
    "ax.set_xticklabels(labels)\n",
    "\n",
    "plt.savefig('Overall_rates.png', bbox_inches='tight', dpi=150)"
   ]
  },
  {
   "cell_type": "markdown",
   "metadata": {},
   "source": [
    "**Observation 9** There has been a significant increase in premiums for non-smokers in the years 2014-2016. In the same period, the median rates for smokers remained roughly constant. \n",
    "\n",
    "Let us look at the individual rates for each of the three years broken down by states. Did the prizes go up in all of the states?"
   ]
  },
  {
   "cell_type": "code",
   "execution_count": 106,
   "metadata": {
    "collapsed": true
   },
   "outputs": [],
   "source": [
    "Statelist = df['StateCode'].unique()\n",
    "Statelist = np.sort(Statelist)"
   ]
  },
  {
   "cell_type": "markdown",
   "metadata": {},
   "source": [
    "2016 first. We can use Seaborn's barplot to show the data for the 38 states. It offers us the possibility to select an estimator for a quanity that we want to compare across categories (which we can set to numpy's median) and even includes a bootstrapping routine like the one we used above."
   ]
  },
  {
   "cell_type": "code",
   "execution_count": 107,
   "metadata": {},
   "outputs": [
    {
     "data": {
      "text/plain": [
       "<matplotlib.axes._subplots.AxesSubplot at 0x16a36d85d30>"
      ]
     },
     "execution_count": 107,
     "metadata": {},
     "output_type": "execute_result"
    },
    {
     "data": {
      "image/png": "[encoded data removed]",
      "text/plain": [
       "<matplotlib.figure.Figure at 0x16a9fe78390>"
      ]
     },
     "metadata": {},
     "output_type": "display_data"
    }
   ],
   "source": [
    "plt.figure(figsize=(20, 6))\n",
    "sns.set_style(\"whitegrid\")\n",
    "sns.barplot(x=df2016['StateCode'], y=df2016['IndividualRate'], order=Statelist, estimator=np.median, ci=95, n_boot=1000)"
   ]
  },
  {
   "cell_type": "markdown",
   "metadata": {},
   "source": [
    "**Observation 10:** median health insurance rates for non-smokers (and smokers as well) vary strongly between the states that participated in the health insurace marketplace."
   ]
  },
  {
   "cell_type": "markdown",
   "metadata": {},
   "source": [
    "Let's also look at the other years. 2015:"
   ]
  },
  {
   "cell_type": "code",
   "execution_count": 108,
   "metadata": {},
   "outputs": [
    {
     "data": {
      "text/plain": [
       "<matplotlib.axes._subplots.AxesSubplot at 0x16aa1340710>"
      ]
     },
     "execution_count": 108,
     "metadata": {},
     "output_type": "execute_result"
    },
    {
     "data": {
      "image/png": "[encoded data removed]",
      "text/plain": [
       "<matplotlib.figure.Figure at 0x16aa1340e80>"
      ]
     },
     "metadata": {},
     "output_type": "display_data"
    }
   ],
   "source": [
    "plt.figure(figsize=(20, 6))\n",
    "sns.set_style(\"whitegrid\")\n",
    "sns.barplot(x=df2015['StateCode'], y=df2015['IndividualRate'], order=Statelist, estimator=np.median, ci=95, n_boot=1000)"
   ]
  },
  {
   "cell_type": "markdown",
   "metadata": {},
   "source": [
    "2014:"
   ]
  },
  {
   "cell_type": "code",
   "execution_count": 109,
   "metadata": {},
   "outputs": [
    {
     "data": {
      "text/plain": [
       "<matplotlib.axes._subplots.AxesSubplot at 0x16a9fefaf98>"
      ]
     },
     "execution_count": 109,
     "metadata": {},
     "output_type": "execute_result"
    },
    {
     "data": {
      "image/png": "[encoded data removed]",
      "text/plain": [
       "<matplotlib.figure.Figure at 0x16aa1455b00>"
      ]
     },
     "metadata": {},
     "output_type": "display_data"
    }
   ],
   "source": [
    "plt.figure(figsize=(20, 6))\n",
    "sns.set_style(\"whitegrid\")\n",
    "sns.barplot(x=df2014['StateCode'], y=df2014['IndividualRate'], order=Statelist, estimator=np.median, ci=95, n_boot=1000)"
   ]
  },
  {
   "cell_type": "markdown",
   "metadata": {},
   "source": [
    "**Observation 11:** Not all states participated in the federal health insurance marketplace in all three years. \n",
    "\n",
    "Other than that, these three plots don't tell us much. We can combine all of them into one figure to see how the median rates changed with the years."
   ]
  },
  {
   "cell_type": "code",
   "execution_count": 109,
   "metadata": {
    "collapsed": true
   },
   "outputs": [],
   "source": [
    "df = pd.concat([df2014,df2015,df2016])"
   ]
  },
  {
   "cell_type": "code",
   "execution_count": 110,
   "metadata": {
    "scrolled": false
   },
   "outputs": [
    {
     "data": {
      "text/plain": [
       "<matplotlib.axes._subplots.AxesSubplot at 0x16a9fe5e5f8>"
      ]
     },
     "execution_count": 110,
     "metadata": {},
     "output_type": "execute_result"
    },
    {
     "data": {
      "image/png": "[encoded data removed]",
      "text/plain": [
       "<matplotlib.figure.Figure at 0x16aa2d5cba8>"
      ]
     },
     "metadata": {},
     "output_type": "display_data"
    }
   ],
   "source": [
    "plt.figure(figsize=(20, 6))\n",
    "sns.set_style(\"whitegrid\")\n",
    "sns.barplot(x=df['StateCode'], y=df['IndividualRate'], hue=df['BusinessYear'], order=Statelist, estimator=np.median, ci=95, n_boot=100)"
   ]
  },
  {
   "cell_type": "markdown",
   "metadata": {},
   "source": [
    "**Observation 12:** Median plan rates significantly increased for about 25 states that participated in the marketplace between 2014 and 2016. A decrease can be observed in about 8 states.\n",
    "\n",
    "Making  a sorted comparison plot of median, non-smoker plan rates across all states that participated in the program."
   ]
  },
  {
   "cell_type": "code",
   "execution_count": 111,
   "metadata": {},
   "outputs": [
    {
     "name": "stderr",
     "output_type": "stream",
     "text": [
      "C:\\Users\\radhi\\Anaconda\\lib\\site-packages\\numpy\\lib\\function_base.py:4016: RuntimeWarning: Invalid value encountered in median\n",
      "  r = func(a, **kwargs)\n"
     ]
    }
   ],
   "source": [
    "Statelist = df['StateCode'].unique()\n",
    "State_medians = [] \n",
    "for state in Statelist:\n",
    "    State_medians.append(np.median(df[df['StateCode'].isin([state])].IndividualRate))"
   ]
  },
  {
   "cell_type": "markdown",
   "metadata": {},
   "source": [
    "First we make a list of the states in the dataset."
   ]
  },
  {
   "cell_type": "code",
   "execution_count": 112,
   "metadata": {},
   "outputs": [
    {
     "data": {
      "text/plain": [
       "array(['AK', 'AL', 'AZ', 'FL', 'GA', 'IN', 'LA', 'MO', 'MS', 'NC', 'ND',\n",
       "       'NJ', 'OK', 'PA', 'SC', 'TN', 'TX', 'WI', 'WY', 'AR', 'DE', 'IL',\n",
       "       'KS', 'ME', 'MI', 'MT', 'NH', 'NM', 'VA', 'WV', 'IA', 'ID', 'NE',\n",
       "       'OH', 'SD', 'UT', 'NV', 'OR', 'HI'], dtype=object)"
      ]
     },
     "execution_count": 112,
     "metadata": {},
     "output_type": "execute_result"
    }
   ],
   "source": [
    "Statelist"
   ]
  },
  {
   "cell_type": "markdown",
   "metadata": {},
   "source": [
    "Then we add the median plan rates as a second column."
   ]
  },
  {
   "cell_type": "code",
   "execution_count": 113,
   "metadata": {
    "scrolled": true
   },
   "outputs": [
    {
     "data": {
      "text/plain": [
       "array([['AK', nan],\n",
       "       ['AL', nan],\n",
       "       ['AZ', nan],\n",
       "       ['FL', nan],\n",
       "       ['GA', nan],\n",
       "       ['IN', nan],\n",
       "       ['LA', nan],\n",
       "       ['MO', nan],\n",
       "       ['MS', nan],\n",
       "       ['NC', nan],\n",
       "       ['ND', nan],\n",
       "       ['NJ', nan],\n",
       "       ['OK', nan],\n",
       "       ['PA', nan],\n",
       "       ['SC', nan],\n",
       "       ['TN', nan],\n",
       "       ['TX', nan],\n",
       "       ['WI', nan],\n",
       "       ['WY', nan],\n",
       "       ['AR', nan],\n",
       "       ['DE', nan],\n",
       "       ['IL', nan],\n",
       "       ['KS', nan],\n",
       "       ['ME', nan],\n",
       "       ['MI', nan],\n",
       "       ['MT', nan],\n",
       "       ['NH', nan],\n",
       "       ['NM', nan],\n",
       "       ['VA', nan],\n",
       "       ['WV', nan],\n",
       "       ['IA', nan],\n",
       "       ['ID', nan],\n",
       "       ['NE', nan],\n",
       "       ['OH', nan],\n",
       "       ['SD', nan],\n",
       "       ['UT', nan],\n",
       "       ['NV', nan],\n",
       "       ['OR', nan],\n",
       "       ['HI', nan]], dtype=object)"
      ]
     },
     "execution_count": 113,
     "metadata": {},
     "output_type": "execute_result"
    }
   ],
   "source": [
    "Statelist_ordered_by_rate = np.column_stack((np.asarray(Statelist), State_medians))\n",
    "Statelist_ordered_by_rate"
   ]
  },
  {
   "cell_type": "markdown",
   "metadata": {},
   "source": [
    "This array we can sort by the premiums."
   ]
  },
  {
   "cell_type": "code",
   "execution_count": 114,
   "metadata": {
    "collapsed": true
   },
   "outputs": [],
   "source": [
    "Statelist_ordered_by_rate = Statelist_ordered_by_rate[Statelist_ordered_by_rate[:, 1].argsort()]"
   ]
  },
  {
   "cell_type": "markdown",
   "metadata": {},
   "source": [
    "Which we can then use as labels for our ordered plot."
   ]
  },
  {
   "cell_type": "code",
   "execution_count": 115,
   "metadata": {},
   "outputs": [
    {
     "data": {
      "image/png": "[encoded data removed]",
      "text/plain": [
       "<matplotlib.figure.Figure at 0x16aa3ca25f8>"
      ]
     },
     "metadata": {},
     "output_type": "display_data"
    }
   ],
   "source": [
    "fig = plt.figure(figsize=(15, 6))\n",
    "sns.set_style(\"whitegrid\")\n",
    "\n",
    "fig.suptitle('Median health insurance rates offered through Healthcare.gov between 2014 and 2016', fontsize=14)\n",
    "\n",
    "ax = sns.barplot(x=df['StateCode'], y=df['IndividualRate'], order=Statelist_ordered_by_rate[:,0], estimator=np.median, ci=95, n_boot=100, palette=\"RdBu_r\")\n",
    "ax.set_ylabel(\"Monthly rate in USD\")\n",
    "ax.set_xlabel(\"State\")\n",
    "\n",
    "plt.savefig('Median_rates_by_state.png', bbox_inches='tight', dpi=150)"
   ]
  },
  {
   "cell_type": "markdown",
   "metadata": {
    "collapsed": true
   },
   "source": [
    "**Observation 13: Health insurance for non-smoking individuals is cheapest in Kansas and most expensive in Alaska. The median rate is about twice as high in Alaska as it is in Kansas, New Mexico, Utah, Oregon or Hawaii. ***"
   ]
  }
 ],
 "metadata": {
  "kernelspec": {
   "display_name": "Python 3",
   "language": "python",
   "name": "python3"
  },
  "language_info": {
   "codemirror_mode": {
    "name": "ipython",
    "version": 3
   },
   "file_extension": ".py",
   "mimetype": "text/x-python",
   "name": "python",
   "nbconvert_exporter": "python",
   "pygments_lexer": "ipython3",
   "version": "3.6.3"
  }
 },
 "nbformat": 4,
 "nbformat_minor": 1
}
